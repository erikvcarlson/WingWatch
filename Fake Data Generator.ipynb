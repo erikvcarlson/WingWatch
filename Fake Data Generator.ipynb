{
 "cells": [
  {
   "cell_type": "code",
   "execution_count": 1,
   "id": "e5e80312",
   "metadata": {},
   "outputs": [],
   "source": [
    "import numpy as np\n",
    "\n",
    "#okay we are going really back to basics and let us just generate a radiation pattern that is equal to 1/r**2\n",
    "\n",
    "def my_ceil(a, precision=0):\n",
    "    return np.round(a + 0.5 * 10**(-precision), precision)\n",
    "\n",
    "def my_floor(a, precision=0):\n",
    "    return np.round(a - 0.5 * 10**(-precision), precision)\n",
    "\n",
    "\n",
    "def signal_strength(point):\n",
    "    #point is an numpy array in the form (x,y,z)\n",
    "    r = np.sqrt(point[:,0]**2 +point[:,1]**2 + point[:,2]**2) \n",
    "    return my_floor(1/r,4)\n"
   ]
  },
  {
   "cell_type": "code",
   "execution_count": 2,
   "id": "60c2eb21",
   "metadata": {},
   "outputs": [],
   "source": [
    "point = np.array([[1,0,0],[2,0,0]])"
   ]
  },
  {
   "cell_type": "code",
   "execution_count": 3,
   "id": "36844dc9",
   "metadata": {},
   "outputs": [],
   "source": [
    "def points_for_sphere(r,theta,phi,offset_x = 0,offset_y=0,offset_z=0):\n",
    "    x = r*np.sin(theta) * np.cos(phi) + offset_x\n",
    "    y = r*np.sin(theta) * np.sin(phi) + offset_y\n",
    "    z = r*np.cos(theta)  +offset_z\n",
    "    return np.array([x,y,z])\n",
    "\n",
    "theta = np.linspace(-np.pi,np.pi,300)\n",
    "phi = np.linspace(-2*np.pi,2*np.pi,300)\n"
   ]
  },
  {
   "cell_type": "code",
   "execution_count": null,
   "id": "e3c59c3e",
   "metadata": {},
   "outputs": [],
   "source": [
    "#points = np.random.randint(low = -1000, high =1000,size = [10000000,3])\n",
    "\n",
    "vals = []\n",
    "\n",
    "for i in range(1,1000):\n",
    "    r = i\n",
    "    for j in theta:\n",
    "        for k in phi:\n",
    "            vals.append(points_for_sphere(r,j,k))"
   ]
  },
  {
   "cell_type": "code",
   "execution_count": null,
   "id": "465144fd",
   "metadata": {},
   "outputs": [],
   "source": [
    "df.to_csv('Fake_Calibration_Data.csv')"
   ]
  },
  {
   "cell_type": "code",
   "execution_count": 11,
   "id": "8eb1f75d",
   "metadata": {},
   "outputs": [],
   "source": [
    "def radius(point,ref_point):\n",
    "    diff = point - ref_point\n",
    "    radius_from_reference = np.sqrt(np.sum(diff**2))\n",
    "    \n",
    "    return radius_from_reference\n"
   ]
  },
  {
   "cell_type": "code",
   "execution_count": 12,
   "id": "4c955d1d",
   "metadata": {},
   "outputs": [],
   "source": [
    "station_1 = np.array([0,0,0])\n",
    "station_2 = np.array([0,-200,0])\n",
    "station_3 = np.array([100*np.sqrt(3),-100,0])\n",
    "\n",
    "point = np.array([321,-12,29])\n",
    "\n",
    "\n",
    "def find_multiple_detection_strengths(point,station_1,station_2,station_3):\n",
    "    rad_1 = radius(point,station_1)\n",
    "    rad_2 = radius(point,station_2)\n",
    "    rad_3 = radius(point,station_3)\n",
    "\n",
    "    strength_1 = my_floor(1/rad_1,3)\n",
    "    strength_2 = my_floor(1/rad_2,3)\n",
    "    strength_3 = my_floor(1/rad_3,3)\n",
    "\n",
    "\n",
    "    return [strength_1,strength_2,strength_3]"
   ]
  },
  {
   "cell_type": "code",
   "execution_count": null,
   "id": "4fe1ddff",
   "metadata": {},
   "outputs": [],
   "source": [
    "import random\n",
    "import matplotlib.pyplot as plt\n",
    "\n",
    "def three_d_random_walk(start_x, start_y, start_z, num_steps):\n",
    "    \"\"\"\n",
    "    Simulates a 3D random walk with a step radius of 5.\n",
    "\n",
    "    Args:\n",
    "      start_x: Starting x-coordinate.\n",
    "      start_y: Starting y-coordinate.\n",
    "      start_z: Starting z-coordinate.\n",
    "      num_steps: Number of steps in the walk.\n",
    "\n",
    "    Returns:\n",
    "      A list of tuples representing the (x, y, z) coordinates at each step.\n",
    "    \"\"\"\n",
    "    walk = [(start_x, start_y, start_z)]\n",
    "    for _ in range(num_steps):\n",
    "        # Generate a random direction vector within a radius of 5\n",
    "        dx = random.uniform(1, 5) # biasing the walk to the right\n",
    "        dy = random.uniform(-1, 5)\n",
    "        dz = random.uniform(-5, 5)\n",
    "\n",
    "        # Update the current position\n",
    "        new_x = walk[-1][0] + dx\n",
    "        new_y = walk[-1][1] + dy\n",
    "        new_z = np.abs(walk[-1][2] + dz)\n",
    "\n",
    "        # Append the new position to the walk\n",
    "        walk.append((new_x, new_y, new_z))\n",
    "\n",
    "    return walk\n",
    "\n",
    "# Example usage\n",
    "x = 10\n",
    "y = 5\n",
    "z = 15\n",
    "steps = 100\n",
    "\n",
    "\n",
    "walk_path = three_d_random_walk(x, y, z, steps)\n",
    "\n",
    "\n",
    "df = pd.DataFrame(walk_path,columns=['X','Y','Z'])\n",
    "\n",
    "plt.plot(np.array(df.X),np.array(df.Y))\n",
    "\n",
    "\n",
    "\n",
    "# Print the starting and ending positions\n",
    "print(f\"Starting position: ({x}, {y}, {z})\")\n",
    "print(f\"Ending position: {walk_path[-1]}\")\n",
    "\n",
    "# You can further analyze the walk path here (optional)\n"
   ]
  },
  {
   "cell_type": "code",
   "execution_count": null,
   "id": "4eede4aa",
   "metadata": {},
   "outputs": [],
   "source": [
    "random_walk_strengths = []\n",
    "\n",
    "for i in range(len(walk_path)):\n",
    "    random_walk_strengths.append(find_multiple_detection_strengths(np.array(walk_path[i]),station_1,station_2,station_3))"
   ]
  },
  {
   "cell_type": "code",
   "execution_count": null,
   "id": "a766aab1",
   "metadata": {},
   "outputs": [],
   "source": [
    "df = pd.DataFrame(random_walk_strengths,columns=['Station 1','Station 2','Station 3'])\n",
    "df1 = pd.DataFrame(walk_path,columns=['X','Y','Z'])\n",
    "\n",
    "df.to_csv('Random_Walk_Detections.csv')\n",
    "df1.to_csv('Random_Walk.csv')"
   ]
  },
  {
   "cell_type": "code",
   "execution_count": 27,
   "id": "50cd87ae",
   "metadata": {},
   "outputs": [],
   "source": [
    "import numpy as np \n",
    "\n",
    "x = np.ones([100,1]) * 150\n",
    "y = np.linspace(200,-200,100)\n",
    "z = np.ones([100,1]) * 20\n",
    "\n",
    "staright_line_detect = np.column_stack([x,y,z])\n",
    "\n",
    "\n",
    "straight_line_strengths = []\n",
    "\n",
    "for i in range(len(staright_line_detect)):\n",
    "    straight_line_strengths.append(find_multiple_detection_strengths(np.array(staright_line_detect[i]),station_1,station_2,station_3))"
   ]
  },
  {
   "cell_type": "code",
   "execution_count": 37,
   "id": "85de8260",
   "metadata": {},
   "outputs": [
    {
     "data": {
      "text/plain": [
       "array([150., 200.,  20.])"
      ]
     },
     "execution_count": 37,
     "metadata": {},
     "output_type": "execute_result"
    }
   ],
   "source": [
    "staright_line_detect[0]"
   ]
  },
  {
   "cell_type": "code",
   "execution_count": 28,
   "id": "456475cd",
   "metadata": {},
   "outputs": [],
   "source": [
    "df = pd.DataFrame(straight_line_strengths,columns=['Station 1','Station 2','Station 3'])\n",
    "df1 = pd.DataFrame(staright_line_detect,columns=['X','Y','Z'])\n",
    "\n",
    "df.to_csv('straight_walk_Detections.csv')\n",
    "df1.to_csv('straight_walk.csv')"
   ]
  },
  {
   "cell_type": "code",
   "execution_count": 31,
   "id": "a55e71d4",
   "metadata": {},
   "outputs": [
    {
     "data": {
      "text/plain": [
       "Station 1    0.006\n",
       "Station 2    0.006\n",
       "Station 3    0.032\n",
       "dtype: float64"
      ]
     },
     "execution_count": 31,
     "metadata": {},
     "output_type": "execute_result"
    }
   ],
   "source": [
    "df.max()"
   ]
  },
  {
   "cell_type": "markdown",
   "id": "4c8d61f3",
   "metadata": {},
   "source": [
    "Ignore Below"
   ]
  },
  {
   "cell_type": "code",
   "execution_count": null,
   "id": "7bebab0f",
   "metadata": {},
   "outputs": [],
   "source": [
    "import numpy as np\n",
    "\n",
    "# Define parameters\n",
    "A_min = -110  # Minimum intensity (-65 for decay to -110)\n",
    "A_max = -65  # Initial intensity\n",
    "sigma = 500  # Radius of decay (standard deviation)\n",
    "\n",
    "# Generate random points within a cube of side length 2 * radius\n",
    "num_points = 1000\n",
    "x = np.random.uniform(-sigma, sigma, num_points)\n",
    "y = np.random.uniform(-sigma, sigma, num_points)\n",
    "z = np.random.uniform(-sigma, sigma, num_points)\n",
    "\n",
    "# Calculate distance from the origin (source)\n",
    "distance = np.sqrt(x**2 + y**2 + z**2)\n",
    "\n",
    "# Normalize distance to range between 0 and 1 (radius)\n",
    "normalized_distance = distance / sigma\n",
    "\n",
    "# Calculate intensity using a linear interpolation between A_min and A_max\n",
    "intensity = A_min + (A_max - A_min) * (1 - normalized_distance)\n",
    "\n",
    "# Further analysis (optional)\n",
    "# - Plot the intensity distribution in 3D using visualization libraries\n",
    "# - Use the intensity values for further calculations depending on your specific needs\n",
    "\n",
    "#print(\"Intensity values:\", intensity[:10])  # Print the first 10 intensity values\n"
   ]
  },
  {
   "cell_type": "code",
   "execution_count": null,
   "id": "5c108070",
   "metadata": {},
   "outputs": [],
   "source": [
    "import matplotlib.pyplot as plt\n",
    "import numpy as np\n",
    "\n",
    "# Define parameters\n",
    "A_min = -110  # Minimum intensity (-65 for decay to -110)\n",
    "A_max = -65  # Initial intensity\n",
    "sigma = 500  # Radius of decay (standard deviation)\n",
    "z_slice = 1  # Fixed z value for the contour plot\n",
    "\n",
    "# Generate grid of points in the x-y plane\n",
    "num_points = 200\n",
    "x = np.linspace(-sigma, sigma, num_points)\n",
    "y = np.linspace(-sigma, sigma, num_points)\n",
    "X, Y = np.meshgrid(x, y)\n",
    "\n",
    "# Calculate distance from the origin\n",
    "distance = np.sqrt(X**2 + Y**2 + z_slice**2)\n",
    "\n",
    "# Normalize distance to range between 0 and 1 (radius)\n",
    "normalized_distance = distance / sigma\n",
    "\n",
    "# Calculate intensity using linear interpolation\n",
    "intensity = A_min + (A_max - A_min) * (1 - normalized_distance)\n",
    "\n",
    "# Create contour plot\n",
    "plt.contour(X, Y, intensity, cmap='viridis')  # Adjust 'viridis' for desired colormap\n",
    "plt.colorbar(label='Intensity')\n",
    "plt.xlabel('X')\n",
    "plt.ylabel('Y')\n",
    "plt.title(f'Intensity Contour at z = {z_slice}')\n",
    "plt.show()"
   ]
  },
  {
   "cell_type": "code",
   "execution_count": null,
   "id": "eba98fc4",
   "metadata": {},
   "outputs": [],
   "source": [
    "import numpy as np\n",
    "import pandas as pd\n",
    "import matplotlib.pyplot as plt\n",
    "\n",
    "\n",
    "# Station locations\n",
    "station1 = np.array([0, 0, 0])\n",
    "station2 = np.array([0, -200, 0])\n",
    "station3 = np.array([100 * np.sqrt(3), -100, 0])\n",
    "\n",
    "\n",
    "def calculate_field_stength(point,station_1 = station1,station_2 = station2,station_3 = station3):\n",
    "    # Define parameters (same as before)\n",
    "    A_min = -110  # Minimum intensity\n",
    "    A_max = -65  # Initial intensity\n",
    "    sigma = 500  # Radius of decay\n",
    "    \n",
    "    #point is 1x3 matrix of (X,Y,Z) point\n",
    "    # Calculate distance from each station to the point\n",
    "    distance1 = np.linalg.norm(point - station_1)\n",
    "    distance2 = np.linalg.norm(point - station_2)\n",
    "    distance3 = np.linalg.norm(point - station_3)\n",
    "    \n",
    "    # Normalize distances\n",
    "    normalized_distance1 = distance1 / sigma\n",
    "    normalized_distance2 = distance2 / sigma\n",
    "    normalized_distance3 = distance3 / sigma\n",
    "\n",
    "    # Calculate intensity from each station\n",
    "    intensity1 = A_min + (A_max - A_min) * (1 - normalized_distance1)\n",
    "    intensity2 = A_min + (A_max - A_min) * (1 - normalized_distance2)\n",
    "    intensity3 = A_min + (A_max - A_min) * (1 - normalized_distance3)\n",
    "\n",
    "    # Total field strength (sum of intensities)\n",
    "    total_field_strength = np.round(np.array([intensity1,intensity2,intensity3]))\n",
    "\n",
    "    return(total_field_strength)"
   ]
  },
  {
   "cell_type": "code",
   "execution_count": null,
   "id": "95e14bbf",
   "metadata": {},
   "outputs": [],
   "source": [
    "calculate_field_stength([321,-12,29])"
   ]
  },
  {
   "cell_type": "code",
   "execution_count": null,
   "id": "2ef4487c",
   "metadata": {},
   "outputs": [],
   "source": [
    "import random\n",
    "\n",
    "def three_d_random_walk(start_x, start_y, start_z, num_steps):\n",
    "    \"\"\"\n",
    "    Simulates a 3D random walk with a step radius of 5.\n",
    "\n",
    "    Args:\n",
    "      start_x: Starting x-coordinate.\n",
    "      start_y: Starting y-coordinate.\n",
    "      start_z: Starting z-coordinate.\n",
    "      num_steps: Number of steps in the walk.\n",
    "\n",
    "    Returns:\n",
    "      A list of tuples representing the (x, y, z) coordinates at each step.\n",
    "    \"\"\"\n",
    "    walk = [(start_x, start_y, start_z)]\n",
    "    for _ in range(num_steps):\n",
    "        # Generate a random direction vector within a radius of 5\n",
    "        dx = random.uniform(1, 5) # biasing the walk to the right\n",
    "        dy = random.uniform(-1, 5)\n",
    "        dz = random.uniform(-5, 5)\n",
    "\n",
    "        # Update the current position\n",
    "        new_x = walk[-1][0] + dx\n",
    "        new_y = walk[-1][1] + dy\n",
    "        new_z = np.abs(walk[-1][2] + dz)\n",
    "\n",
    "        # Append the new position to the walk\n",
    "        walk.append((new_x, new_y, new_z))\n",
    "\n",
    "    return walk\n",
    "\n",
    "# Example usage\n",
    "x = 10\n",
    "y = 5\n",
    "z = 15\n",
    "steps = 100\n",
    "\n",
    "\n",
    "walk_path = three_d_random_walk(x, y, z, steps)\n",
    "\n",
    "\n",
    "df = pd.DataFrame(walk_path,columns=['X','Y','Z'])\n",
    "\n",
    "plt.plot(np.array(df.X),np.array(df.Y))\n",
    "\n",
    "\n",
    "\n",
    "# Print the starting and ending positions\n",
    "print(f\"Starting position: ({x}, {y}, {z})\")\n",
    "print(f\"Ending position: {walk_path[-1]}\")\n",
    "\n",
    "# You can further analyze the walk path here (optional)\n"
   ]
  },
  {
   "cell_type": "code",
   "execution_count": null,
   "id": "55fc887d",
   "metadata": {},
   "outputs": [],
   "source": [
    "df"
   ]
  },
  {
   "cell_type": "code",
   "execution_count": null,
   "id": "af5b5d47",
   "metadata": {},
   "outputs": [],
   "source": [
    "calculate_field_stength(walk_path[-1])"
   ]
  },
  {
   "cell_type": "code",
   "execution_count": null,
   "id": "7495168b",
   "metadata": {},
   "outputs": [],
   "source": [
    "walk_path[-1]"
   ]
  },
  {
   "cell_type": "code",
   "execution_count": null,
   "id": "1689f332",
   "metadata": {},
   "outputs": [],
   "source": [
    "walk_path_stength = []\n",
    "\n",
    "for i in range(0,len(walk_path)):\n",
    "    value_at_point = calculate_field_stength(walk_path[i])\n",
    "    walk_path_stength.append(value_at_point)"
   ]
  },
  {
   "cell_type": "code",
   "execution_count": null,
   "id": "1a8732cc",
   "metadata": {},
   "outputs": [],
   "source": [
    "df"
   ]
  },
  {
   "cell_type": "code",
   "execution_count": null,
   "id": "1bf482b7",
   "metadata": {},
   "outputs": [],
   "source": [
    "df2 = pd.DataFrame(walk_path_stength,columns=['Antenna 1','Antenna 2','Antenna 3'])"
   ]
  },
  {
   "cell_type": "code",
   "execution_count": null,
   "id": "9741763c",
   "metadata": {},
   "outputs": [],
   "source": [
    "df2"
   ]
  },
  {
   "cell_type": "code",
   "execution_count": null,
   "id": "df91585d",
   "metadata": {},
   "outputs": [],
   "source": [
    "df.to_csv('Random_Walk.csv')"
   ]
  },
  {
   "cell_type": "code",
   "execution_count": null,
   "id": "3309b663",
   "metadata": {},
   "outputs": [],
   "source": [
    "df2.to_csv('Random_Walk_Detections.csv')"
   ]
  },
  {
   "cell_type": "code",
   "execution_count": null,
   "id": "b419fa45",
   "metadata": {},
   "outputs": [],
   "source": [
    "random_calib_sampling = np.random.randint([-500,-500,0],[500,500,500],size=[300000,3])"
   ]
  },
  {
   "cell_type": "code",
   "execution_count": null,
   "id": "07da9f0c",
   "metadata": {},
   "outputs": [],
   "source": [
    "calibration_data = []\n",
    "\n",
    "for i in range(0,len(random_calib_sampling)):\n",
    "    value_at_point = calculate_field_stength(random_calib_sampling[i])\n",
    "    calibration_data.append(value_at_point)"
   ]
  },
  {
   "cell_type": "code",
   "execution_count": null,
   "id": "83565573",
   "metadata": {},
   "outputs": [],
   "source": [
    "df = pd.DataFrame(calibration_data,columns=['Antenna 1','Antenna 2','Antenna 3'])"
   ]
  },
  {
   "cell_type": "code",
   "execution_count": null,
   "id": "ca4c4e2e",
   "metadata": {},
   "outputs": [],
   "source": [
    "calibration_data"
   ]
  },
  {
   "cell_type": "code",
   "execution_count": null,
   "id": "71e61625",
   "metadata": {},
   "outputs": [],
   "source": [
    "RSSI_List = df['Antenna 1'].to_list()"
   ]
  },
  {
   "cell_type": "code",
   "execution_count": null,
   "id": "4ed4a612",
   "metadata": {},
   "outputs": [],
   "source": [
    "random_calib_sampling[0]"
   ]
  },
  {
   "cell_type": "code",
   "execution_count": null,
   "id": "52ed565d",
   "metadata": {},
   "outputs": [],
   "source": [
    "X_Y_Z = np.row_stack(random_calib_sampling)"
   ]
  },
  {
   "cell_type": "code",
   "execution_count": null,
   "id": "28a405ff",
   "metadata": {},
   "outputs": [],
   "source": [
    "df = pd.DataFrame(np.column_stack([X_Y_Z,RSSI_List]),columns=['X','Y','Z','RSSI'])"
   ]
  },
  {
   "cell_type": "code",
   "execution_count": null,
   "id": "7c66cdea",
   "metadata": {},
   "outputs": [],
   "source": [
    "df"
   ]
  },
  {
   "cell_type": "code",
   "execution_count": null,
   "id": "072e5bd1",
   "metadata": {},
   "outputs": [],
   "source": [
    "df.to_csv('Fake_Calibration_Data.csv')"
   ]
  },
  {
   "cell_type": "code",
   "execution_count": null,
   "id": "1c403192",
   "metadata": {},
   "outputs": [],
   "source": [
    "pwd"
   ]
  },
  {
   "cell_type": "code",
   "execution_count": null,
   "id": "55082bad",
   "metadata": {},
   "outputs": [],
   "source": [
    "plt.hist(df.RSSI)"
   ]
  },
  {
   "cell_type": "code",
   "execution_count": null,
   "id": "1e383c3b",
   "metadata": {},
   "outputs": [],
   "source": [
    "import numpy as np\n",
    "from matplotlib import pyplot as plt\n",
    "\n",
    "\n",
    "def ellipsoid(X,Y,a,b,c,x0,y0,z0):\n",
    "    z = np.sqrt((1-(X-x0)**2/a**2 -(Y-y0)**2/b**2)*c**2)+z0\n",
    "    return \n",
    "\n"
   ]
  },
  {
   "cell_type": "code",
   "execution_count": null,
   "id": "8ae81d68",
   "metadata": {},
   "outputs": [],
   "source": [
    "# Generate grid of points for the contour plot (focusing on positive x-axis)\n",
    "x = np.linspace(0, 2, 100)  # Only positive x-values\n",
    "y = np.linspace(-6, 6, 100)\n",
    "\n",
    "\n",
    "z = ellipsoid(x,y,a=1,b=6,c=1,x0=1,y0=0,z0=0)\n",
    "\n"
   ]
  },
  {
   "cell_type": "code",
   "execution_count": null,
   "id": "d629d6fa",
   "metadata": {},
   "outputs": [],
   "source": [
    "import pandas as pd\n",
    "\n",
    "df = pd.DataFrame(np.column_stack([x,y,z]))"
   ]
  },
  {
   "cell_type": "code",
   "execution_count": null,
   "id": "a63873e8",
   "metadata": {},
   "outputs": [],
   "source": []
  },
  {
   "cell_type": "code",
   "execution_count": null,
   "id": "8931a19d",
   "metadata": {},
   "outputs": [],
   "source": [
    "rot_mat = np.eye(3) # zero degree\n",
    "rot_mat = np.array([[0,-1,0],[1,0,0],[0,0,1]]) #90 degree"
   ]
  },
  {
   "cell_type": "code",
   "execution_count": null,
   "id": "9c3d7bde",
   "metadata": {},
   "outputs": [],
   "source": [
    "np.matmul(df.,rot_mat)"
   ]
  },
  {
   "cell_type": "code",
   "execution_count": null,
   "id": "bf2dea5b",
   "metadata": {},
   "outputs": [],
   "source": [
    "import numpy as np\n",
    "from matplotlib import pyplot as plt\n",
    "\n",
    "# Define ellipsoid parameters (adjust these values)\n",
    "a = 10  # Semi-major axis (x-direction)\n",
    "b = 20  # Semi-minor axis (y-direction)\n",
    "c = 5  # Semi-minor axis (z-direction)\n",
    "\n",
    "# Define decay function (exponential decay in this example)\n",
    "def decay(distance):\n",
    "    return np.exp(-distance / 2)  # Adjust decay rate as needed\n",
    "\n",
    "# Generate grid of points for the contour plot (focusing on positive x-axis)\n",
    "x = np.linspace(0, a, 100)  # Only positive x-values\n",
    "y = np.linspace(-b, b, 100)\n",
    "\n",
    "X, Y = np.meshgrid(x, y)\n",
    "\n",
    "# Calculate distance from origin for each point\n",
    "Z = np.sqrt(X**2 / a**2 + Y**2 / b**2)\n",
    "\n",
    "# Apply decay function\n",
    "Z = Z * decay(np.sqrt(X**2 + Y**2))\n",
    "\n",
    "# Create contour plot\n",
    "fig, ax = plt.subplots()\n",
    "ax.contourf(X, Y, Z, cmap='viridis')  # Adjust colormap for visualization\n",
    "\n",
    "# Set labels and title\n",
    "ax.set_xlabel('X')\n",
    "ax.set_ylabel('Y')\n",
    "plt.title('Contour Plot of Antenna Radiation Pattern (Ellipsoid)')\n",
    "\n",
    "# Optional: Add a point for the antenna at (0, 0)\n",
    "ax.scatter(0, 0, c='red', marker='o', label='Antenna')\n",
    "plt.legend()\n",
    "\n",
    "# Set limits to exclude negative x-axis\n",
    "ax.set_xlim([0, a])\n",
    "\n",
    "plt.show()"
   ]
  },
  {
   "cell_type": "code",
   "execution_count": null,
   "id": "6021b091",
   "metadata": {},
   "outputs": [],
   "source": []
  },
  {
   "cell_type": "code",
   "execution_count": null,
   "id": "faea236f",
   "metadata": {},
   "outputs": [],
   "source": []
  }
 ],
 "metadata": {
  "kernelspec": {
   "display_name": "Python 3 (ipykernel)",
   "language": "python",
   "name": "python3"
  },
  "language_info": {
   "codemirror_mode": {
    "name": "ipython",
    "version": 3
   },
   "file_extension": ".py",
   "mimetype": "text/x-python",
   "name": "python",
   "nbconvert_exporter": "python",
   "pygments_lexer": "ipython3",
   "version": "3.10.12"
  }
 },
 "nbformat": 4,
 "nbformat_minor": 5
}
