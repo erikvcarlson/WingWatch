{
 "cells": [
  {
   "cell_type": "code",
   "execution_count": 1,
   "id": "afc0c4bf-a770-460c-ab5f-f6ac0a7327ff",
   "metadata": {},
   "outputs": [],
   "source": [
    "import numpy as np\n",
    "import pandas as pd\n",
    "from fake_data_gen_funcs import *\n",
    "# Function to calculate signal strength\n",
    "# def signal_strength(point):\n",
    "#     lambda_wave = 1  # meter\n",
    "#     r = np.sqrt((point[:,0]**2 + point[:,1]**2 + point[:,2]**2))  # Calculate radius\n",
    "#     rssi = 20 * np.log10(4 * np.pi * r / lambda_wave)  # RSSI calculation\n",
    "#     return np.round(rssi, 1)\n",
    "\n",
    "# # Function to generate points on a sphere\n",
    "# def points_for_sphere(r, theta, phi, offset_x=0, offset_y=0, offset_z=0):\n",
    "#     x = r * np.sin(theta) * np.cos(phi) + offset_x\n",
    "#     y = r * np.sin(theta) * np.sin(phi) + offset_y\n",
    "#     z = r * np.cos(theta) + offset_z\n",
    "#     return np.array([x, y, z])\n",
    "\n",
    "# Generate test data\n",
    "theta = np.linspace(-np.pi, np.pi, 50)\n",
    "phi = np.linspace(-2 * np.pi, 2 * np.pi, 50)\n",
    "r_values = np.arange(1, 1000)\n",
    "\n",
    "theta_grid, phi_grid = np.meshgrid(theta, phi, indexing='ij')\n",
    "theta_flat = theta_grid.ravel()\n",
    "phi_flat = phi_grid.ravel()\n",
    "\n",
    "vals = []\n",
    "\n",
    "for r in r_values:\n",
    "    points = points_for_sphere(r, theta_flat, phi_flat)\n",
    "    vals.append(points.T)  # Append the points for this radius\n",
    "\n",
    "vals = np.concatenate(vals, axis=0)  # Stack results\n",
    "\n",
    "# Create DataFrame\n",
    "df = pd.DataFrame(vals, columns=['X', 'Y', 'Z'])\n",
    "\n",
    "# Calculate RSSI values\n",
    "df['RSSI'] = signal_strength(vals)\n",
    "\n",
    "# Save to CSV\n",
    "df.to_csv('Fake_Calibration_Data.csv', index=False)\n",
    "\n",
    "# Read data from CSV\n",
    "df = pd.read_csv('Fake_Calibration_Data.csv')\n",
    "\n",
    "# Recalculate radius\n",
    "df['radius'] = np.sqrt(df.X**2 + df.Y**2 + df.Z**2)\n",
    "\n",
    "# Recalculate RSSI and compare\n",
    "calculated_rssi = np.round(20 * np.log10(4 * np.pi * df['radius']), 1)\n",
    "\n",
    "# Use np.isclose to compare the recalculated RSSI with the saved one\n",
    "comparison = np.isclose(calculated_rssi, df['RSSI'], atol=1e-1)\n",
    "\n"
   ]
  },
  {
   "cell_type": "code",
   "execution_count": 2,
   "id": "21ddceed-9df1-49f8-8887-dd3ef7b986ca",
   "metadata": {},
   "outputs": [],
   "source": [
    " import matplotlib.pyplot as plt\n",
    "\n",
    "# a = df[np.round(df.Z) == np.round(0.096023)]\n",
    "plt.scatter(a.X[0:-1],a.Y[0:-1],c=a.RSSI[0:-1])\n",
    "plt.colorbar()"
   ]
  },
  {
   "cell_type": "code",
   "execution_count": 3,
   "id": "816b0033-7e96-4153-88ad-94788bced0a4",
   "metadata": {},
   "outputs": [
    {
     "data": {
      "text/html": [
       "<div>\n",
       "<style scoped>\n",
       "    .dataframe tbody tr th:only-of-type {\n",
       "        vertical-align: middle;\n",
       "    }\n",
       "\n",
       "    .dataframe tbody tr th {\n",
       "        vertical-align: top;\n",
       "    }\n",
       "\n",
       "    .dataframe thead th {\n",
       "        text-align: right;\n",
       "    }\n",
       "</style>\n",
       "<table border=\"1\" class=\"dataframe\">\n",
       "  <thead>\n",
       "    <tr style=\"text-align: right;\">\n",
       "      <th></th>\n",
       "      <th>X</th>\n",
       "      <th>Y</th>\n",
       "      <th>Z</th>\n",
       "      <th>RSSI</th>\n",
       "      <th>radius</th>\n",
       "    </tr>\n",
       "  </thead>\n",
       "  <tbody>\n",
       "    <tr>\n",
       "      <th>0</th>\n",
       "      <td>-1.224647e-16</td>\n",
       "      <td>-2.999520e-32</td>\n",
       "      <td>-1.0</td>\n",
       "      <td>22.0</td>\n",
       "      <td>1.0</td>\n",
       "    </tr>\n",
       "    <tr>\n",
       "      <th>1</th>\n",
       "      <td>-1.184595e-16</td>\n",
       "      <td>-3.106373e-17</td>\n",
       "      <td>-1.0</td>\n",
       "      <td>22.0</td>\n",
       "      <td>1.0</td>\n",
       "    </tr>\n",
       "    <tr>\n",
       "      <th>2</th>\n",
       "      <td>-1.067058e-16</td>\n",
       "      <td>-6.009557e-17</td>\n",
       "      <td>-1.0</td>\n",
       "      <td>22.0</td>\n",
       "      <td>1.0</td>\n",
       "    </tr>\n",
       "    <tr>\n",
       "      <th>3</th>\n",
       "      <td>-8.797242e-17</td>\n",
       "      <td>-8.519654e-17</td>\n",
       "      <td>-1.0</td>\n",
       "      <td>22.0</td>\n",
       "      <td>1.0</td>\n",
       "    </tr>\n",
       "    <tr>\n",
       "      <th>4</th>\n",
       "      <td>-6.348478e-17</td>\n",
       "      <td>-1.047248e-16</td>\n",
       "      <td>-1.0</td>\n",
       "      <td>22.0</td>\n",
       "      <td>1.0</td>\n",
       "    </tr>\n",
       "    <tr>\n",
       "      <th>...</th>\n",
       "      <td>...</td>\n",
       "      <td>...</td>\n",
       "      <td>...</td>\n",
       "      <td>...</td>\n",
       "      <td>...</td>\n",
       "    </tr>\n",
       "    <tr>\n",
       "      <th>2497495</th>\n",
       "      <td>6.342130e-14</td>\n",
       "      <td>-1.046201e-13</td>\n",
       "      <td>-999.0</td>\n",
       "      <td>82.0</td>\n",
       "      <td>999.0</td>\n",
       "    </tr>\n",
       "    <tr>\n",
       "      <th>2497496</th>\n",
       "      <td>8.788445e-14</td>\n",
       "      <td>-8.511134e-14</td>\n",
       "      <td>-999.0</td>\n",
       "      <td>82.0</td>\n",
       "      <td>999.0</td>\n",
       "    </tr>\n",
       "    <tr>\n",
       "      <th>2497497</th>\n",
       "      <td>1.065991e-13</td>\n",
       "      <td>-6.003547e-14</td>\n",
       "      <td>-999.0</td>\n",
       "      <td>82.0</td>\n",
       "      <td>999.0</td>\n",
       "    </tr>\n",
       "    <tr>\n",
       "      <th>2497498</th>\n",
       "      <td>1.183410e-13</td>\n",
       "      <td>-3.103266e-14</td>\n",
       "      <td>-999.0</td>\n",
       "      <td>82.0</td>\n",
       "      <td>999.0</td>\n",
       "    </tr>\n",
       "    <tr>\n",
       "      <th>2497499</th>\n",
       "      <td>1.223422e-13</td>\n",
       "      <td>-2.996520e-29</td>\n",
       "      <td>-999.0</td>\n",
       "      <td>82.0</td>\n",
       "      <td>999.0</td>\n",
       "    </tr>\n",
       "  </tbody>\n",
       "</table>\n",
       "<p>2497500 rows × 5 columns</p>\n",
       "</div>"
      ],
      "text/plain": [
       "                    X             Y      Z  RSSI  radius\n",
       "0       -1.224647e-16 -2.999520e-32   -1.0  22.0     1.0\n",
       "1       -1.184595e-16 -3.106373e-17   -1.0  22.0     1.0\n",
       "2       -1.067058e-16 -6.009557e-17   -1.0  22.0     1.0\n",
       "3       -8.797242e-17 -8.519654e-17   -1.0  22.0     1.0\n",
       "4       -6.348478e-17 -1.047248e-16   -1.0  22.0     1.0\n",
       "...               ...           ...    ...   ...     ...\n",
       "2497495  6.342130e-14 -1.046201e-13 -999.0  82.0   999.0\n",
       "2497496  8.788445e-14 -8.511134e-14 -999.0  82.0   999.0\n",
       "2497497  1.065991e-13 -6.003547e-14 -999.0  82.0   999.0\n",
       "2497498  1.183410e-13 -3.103266e-14 -999.0  82.0   999.0\n",
       "2497499  1.223422e-13 -2.996520e-29 -999.0  82.0   999.0\n",
       "\n",
       "[2497500 rows x 5 columns]"
      ]
     },
     "execution_count": 3,
     "metadata": {},
     "output_type": "execute_result"
    }
   ],
   "source": [
    "df"
   ]
  },
  {
   "cell_type": "code",
   "execution_count": 4,
   "id": "4fe1ddff",
   "metadata": {},
   "outputs": [
    {
     "name": "stdout",
     "output_type": "stream",
     "text": [
      "Starting position: (10, 5, 15)\n",
      "Ending position: (296.8032839973342, 210.19317925382083, 62.66206875154232)\n"
     ]
    },
    {
     "data": {
      "image/png": "[encoded data removed]",
      "text/plain": [
       "<Figure size 640x480 with 1 Axes>"
      ]
     },
     "metadata": {},
     "output_type": "display_data"
    }
   ],
   "source": [
    "import random\n",
    "import matplotlib.pyplot as plt\n",
    "\n",
    "def three_d_random_walk(start_x, start_y, start_z, num_steps):\n",
    "    \"\"\"\n",
    "    Simulates a 3D random walk with a step radius of 5.\n",
    "\n",
    "    Args:\n",
    "      start_x: Starting x-coordinate.\n",
    "      start_y: Starting y-coordinate.\n",
    "      start_z: Starting z-coordinate.\n",
    "      num_steps: Number of steps in the walk.\n",
    "\n",
    "    Returns:\n",
    "      A list of tuples representing the (x, y, z) coordinates at each step.\n",
    "    \"\"\"\n",
    "    walk = [(start_x, start_y, start_z)]\n",
    "    for _ in range(num_steps):\n",
    "        # Generate a random direction vector within a radius of 5\n",
    "        dx = random.uniform(1, 5) # biasing the walk to the right\n",
    "        dy = random.uniform(-1, 5)\n",
    "        dz = random.uniform(-5, 5)\n",
    "\n",
    "        # Update the current position\n",
    "        new_x = walk[-1][0] + dx\n",
    "        new_y = walk[-1][1] + dy\n",
    "        new_z = np.abs(walk[-1][2] + dz)\n",
    "\n",
    "        # Append the new position to the walk\n",
    "        walk.append((new_x, new_y, new_z))\n",
    "\n",
    "    return walk\n",
    "\n",
    "# Example usage\n",
    "x = 10\n",
    "y = 5\n",
    "z = 15\n",
    "steps = 100\n",
    "\n",
    "\n",
    "walk_path = three_d_random_walk(x, y, z, steps)\n",
    "\n",
    "\n",
    "df = pd.DataFrame(walk_path,columns=['X','Y','Z'])\n",
    "\n",
    "plt.plot(np.array(df.X),np.array(df.Y))\n",
    "\n",
    "\n",
    "\n",
    "# Print the starting and ending positions\n",
    "print(f\"Starting position: ({x}, {y}, {z})\")\n",
    "print(f\"Ending position: {walk_path[-1]}\")\n",
    "\n",
    "# You can further analyze the walk path here (optional)\n"
   ]
  },
  {
   "cell_type": "code",
   "execution_count": 5,
   "id": "4eede4aa",
   "metadata": {},
   "outputs": [],
   "source": [
    "station_1 = np.array([0,0,0])\n",
    "station_2 = np.array([0,-200,0])\n",
    "station_3 = np.array([100*np.sqrt(3),-100,0])\n",
    "\n",
    "random_walk_strengths = []\n",
    "\n",
    "for i in range(len(walk_path)):\n",
    "    random_walk_strengths.append(find_multiple_detection_strengths(np.array(walk_path[i]),station_1,station_2,station_3))"
   ]
  },
  {
   "cell_type": "code",
   "execution_count": 6,
   "id": "a766aab1",
   "metadata": {},
   "outputs": [],
   "source": [
    "df = pd.DataFrame(random_walk_strengths,columns=['Station 1','Station 2','Station 3'])\n",
    "df1 = pd.DataFrame(walk_path,columns=['X','Y','Z'])\n",
    "\n",
    "df.to_csv('Random_Walk_Detections.csv')\n",
    "df1.to_csv('Random_Walk.csv')"
   ]
  },
  {
   "cell_type": "code",
   "execution_count": 7,
   "id": "f819670f-c2f1-428c-912f-503c700154d6",
   "metadata": {},
   "outputs": [
    {
     "data": {
      "text/html": [
       "<div>\n",
       "<style scoped>\n",
       "    .dataframe tbody tr th:only-of-type {\n",
       "        vertical-align: middle;\n",
       "    }\n",
       "\n",
       "    .dataframe tbody tr th {\n",
       "        vertical-align: top;\n",
       "    }\n",
       "\n",
       "    .dataframe thead th {\n",
       "        text-align: right;\n",
       "    }\n",
       "</style>\n",
       "<table border=\"1\" class=\"dataframe\">\n",
       "  <thead>\n",
       "    <tr style=\"text-align: right;\">\n",
       "      <th></th>\n",
       "      <th>Station 1</th>\n",
       "      <th>Station 2</th>\n",
       "      <th>Station 3</th>\n",
       "    </tr>\n",
       "  </thead>\n",
       "  <tbody>\n",
       "    <tr>\n",
       "      <th>0</th>\n",
       "      <td>47.0</td>\n",
       "      <td>68.0</td>\n",
       "      <td>68.0</td>\n",
       "    </tr>\n",
       "    <tr>\n",
       "      <th>1</th>\n",
       "      <td>49.0</td>\n",
       "      <td>68.0</td>\n",
       "      <td>68.0</td>\n",
       "    </tr>\n",
       "    <tr>\n",
       "      <th>2</th>\n",
       "      <td>51.0</td>\n",
       "      <td>68.0</td>\n",
       "      <td>68.0</td>\n",
       "    </tr>\n",
       "    <tr>\n",
       "      <th>3</th>\n",
       "      <td>51.0</td>\n",
       "      <td>68.0</td>\n",
       "      <td>68.0</td>\n",
       "    </tr>\n",
       "    <tr>\n",
       "      <th>4</th>\n",
       "      <td>52.0</td>\n",
       "      <td>68.0</td>\n",
       "      <td>68.0</td>\n",
       "    </tr>\n",
       "    <tr>\n",
       "      <th>...</th>\n",
       "      <td>...</td>\n",
       "      <td>...</td>\n",
       "      <td>...</td>\n",
       "    </tr>\n",
       "    <tr>\n",
       "      <th>96</th>\n",
       "      <td>73.0</td>\n",
       "      <td>76.0</td>\n",
       "      <td>72.0</td>\n",
       "    </tr>\n",
       "    <tr>\n",
       "      <th>97</th>\n",
       "      <td>73.0</td>\n",
       "      <td>76.0</td>\n",
       "      <td>72.0</td>\n",
       "    </tr>\n",
       "    <tr>\n",
       "      <th>98</th>\n",
       "      <td>73.0</td>\n",
       "      <td>76.0</td>\n",
       "      <td>73.0</td>\n",
       "    </tr>\n",
       "    <tr>\n",
       "      <th>99</th>\n",
       "      <td>73.0</td>\n",
       "      <td>76.0</td>\n",
       "      <td>73.0</td>\n",
       "    </tr>\n",
       "    <tr>\n",
       "      <th>100</th>\n",
       "      <td>73.0</td>\n",
       "      <td>76.0</td>\n",
       "      <td>73.0</td>\n",
       "    </tr>\n",
       "  </tbody>\n",
       "</table>\n",
       "<p>101 rows × 3 columns</p>\n",
       "</div>"
      ],
      "text/plain": [
       "     Station 1  Station 2  Station 3\n",
       "0         47.0       68.0       68.0\n",
       "1         49.0       68.0       68.0\n",
       "2         51.0       68.0       68.0\n",
       "3         51.0       68.0       68.0\n",
       "4         52.0       68.0       68.0\n",
       "..         ...        ...        ...\n",
       "96        73.0       76.0       72.0\n",
       "97        73.0       76.0       72.0\n",
       "98        73.0       76.0       73.0\n",
       "99        73.0       76.0       73.0\n",
       "100       73.0       76.0       73.0\n",
       "\n",
       "[101 rows x 3 columns]"
      ]
     },
     "execution_count": 7,
     "metadata": {},
     "output_type": "execute_result"
    }
   ],
   "source": [
    "df"
   ]
  },
  {
   "cell_type": "code",
   "execution_count": 8,
   "id": "50cd87ae",
   "metadata": {},
   "outputs": [],
   "source": [
    "import numpy as np \n",
    "\n",
    "x = np.ones([100,1]) * 150\n",
    "y = np.linspace(200,-200,100)\n",
    "z = np.ones([100,1]) * 20\n",
    "\n",
    "staright_line_detect = np.column_stack([x,y,z])\n",
    "\n",
    "\n",
    "straight_line_strengths = []\n",
    "\n",
    "for i in range(len(staright_line_detect)):\n",
    "    straight_line_strengths.append(find_multiple_detection_strengths(np.array(staright_line_detect[i]),station_1,station_2,station_3))"
   ]
  },
  {
   "cell_type": "code",
   "execution_count": 9,
   "id": "85de8260",
   "metadata": {},
   "outputs": [
    {
     "data": {
      "text/plain": [
       "array([ 200.        ,  195.95959596,  191.91919192,  187.87878788,\n",
       "        183.83838384,  179.7979798 ,  175.75757576,  171.71717172,\n",
       "        167.67676768,  163.63636364,  159.5959596 ,  155.55555556,\n",
       "        151.51515152,  147.47474747,  143.43434343,  139.39393939,\n",
       "        135.35353535,  131.31313131,  127.27272727,  123.23232323,\n",
       "        119.19191919,  115.15151515,  111.11111111,  107.07070707,\n",
       "        103.03030303,   98.98989899,   94.94949495,   90.90909091,\n",
       "         86.86868687,   82.82828283,   78.78787879,   74.74747475,\n",
       "         70.70707071,   66.66666667,   62.62626263,   58.58585859,\n",
       "         54.54545455,   50.50505051,   46.46464646,   42.42424242,\n",
       "         38.38383838,   34.34343434,   30.3030303 ,   26.26262626,\n",
       "         22.22222222,   18.18181818,   14.14141414,   10.1010101 ,\n",
       "          6.06060606,    2.02020202,   -2.02020202,   -6.06060606,\n",
       "        -10.1010101 ,  -14.14141414,  -18.18181818,  -22.22222222,\n",
       "        -26.26262626,  -30.3030303 ,  -34.34343434,  -38.38383838,\n",
       "        -42.42424242,  -46.46464646,  -50.50505051,  -54.54545455,\n",
       "        -58.58585859,  -62.62626263,  -66.66666667,  -70.70707071,\n",
       "        -74.74747475,  -78.78787879,  -82.82828283,  -86.86868687,\n",
       "        -90.90909091,  -94.94949495,  -98.98989899, -103.03030303,\n",
       "       -107.07070707, -111.11111111, -115.15151515, -119.19191919,\n",
       "       -123.23232323, -127.27272727, -131.31313131, -135.35353535,\n",
       "       -139.39393939, -143.43434343, -147.47474747, -151.51515152,\n",
       "       -155.55555556, -159.5959596 , -163.63636364, -167.67676768,\n",
       "       -171.71717172, -175.75757576, -179.7979798 , -183.83838384,\n",
       "       -187.87878788, -191.91919192, -195.95959596, -200.        ])"
      ]
     },
     "execution_count": 9,
     "metadata": {},
     "output_type": "execute_result"
    }
   ],
   "source": [
    "y"
   ]
  },
  {
   "cell_type": "code",
   "execution_count": 10,
   "id": "456475cd",
   "metadata": {},
   "outputs": [],
   "source": [
    "df = pd.DataFrame(straight_line_strengths,columns=['Station 1','Station 2','Station 3'])\n",
    "df1 = pd.DataFrame(staright_line_detect,columns=['X','Y','Z'])\n",
    "\n",
    "df.to_csv('straight_walk_Detections.csv')\n",
    "df1.to_csv('straight_walk.csv')"
   ]
  },
  {
   "cell_type": "code",
   "execution_count": 11,
   "id": "a55e71d4",
   "metadata": {},
   "outputs": [
    {
     "data": {
      "text/plain": [
       "Station 1    70.0\n",
       "Station 2    75.0\n",
       "Station 3    72.0\n",
       "dtype: float64"
      ]
     },
     "execution_count": 11,
     "metadata": {},
     "output_type": "execute_result"
    }
   ],
   "source": [
    "df.max()"
   ]
  },
  {
   "cell_type": "code",
   "execution_count": 12,
   "id": "a841df53-e5fe-48d2-b7ca-7b0e19a80301",
   "metadata": {},
   "outputs": [
    {
     "data": {
      "text/plain": [
       "[72.0, 73.0, 67.0]"
      ]
     },
     "execution_count": 12,
     "metadata": {},
     "output_type": "execute_result"
    }
   ],
   "source": [
    "find_multiple_detection_strengths(np.array([321,-12,29]),station_1,station_2,station_3) \n"
   ]
  },
  {
   "cell_type": "code",
   "execution_count": 13,
   "id": "a6e3c2b5-4d95-4eb4-bce9-e420ec16d092",
   "metadata": {},
   "outputs": [
    {
     "data": {
      "text/plain": [
       "[73.0, 76.0, 72.0]"
      ]
     },
     "execution_count": 13,
     "metadata": {},
     "output_type": "execute_result"
    }
   ],
   "source": [
    "find_multiple_detection_strengths(np.array([293,211,27]),station_1,station_2,station_3)"
   ]
  },
  {
   "cell_type": "markdown",
   "id": "4c8d61f3",
   "metadata": {},
   "source": [
    "Ignore Below"
   ]
  }
 ],
 "metadata": {
  "kernelspec": {
   "display_name": "Python 3 (ipykernel)",
   "language": "python",
   "name": "python3"
  },
  "language_info": {
   "codemirror_mode": {
    "name": "ipython",
    "version": 3
   },
   "file_extension": ".py",
   "mimetype": "text/x-python",
   "name": "python",
   "nbconvert_exporter": "python",
   "pygments_lexer": "ipython3",
   "version": "3.10.12"
  }
 },
 "nbformat": 4,
 "nbformat_minor": 5
}
