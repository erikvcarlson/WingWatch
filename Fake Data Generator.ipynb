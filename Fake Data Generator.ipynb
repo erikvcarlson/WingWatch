{
 "cells": [
  {
   "cell_type": "code",
   "execution_count": 76,
   "id": "e5e80312",
   "metadata": {},
   "outputs": [],
   "source": [
    "import numpy as np\n",
    "\n",
    "#okay we are going really back to basics and let us just generate a radiation pattern that is equal to 1/r**2\n",
    "\n",
    "def my_ceil(a, precision=0):\n",
    "    return np.round(a + 0.5 * 10**(-precision), precision)\n",
    "\n",
    "def my_floor(a, precision=0):\n",
    "    return np.round(a - 0.5 * 10**(-precision), precision)\n",
    "\n",
    "\n",
    "def signal_strength(point):\n",
    "    #point is an numpy array in the form (x,y,z)\n",
    "    r = np.sqrt(point[:,0]**2 +point[:,1]**2 + point[:,2]**2) \n",
    "    return my_floor(1/r,4)\n"
   ]
  },
  {
   "cell_type": "code",
   "execution_count": 77,
   "id": "60c2eb21",
   "metadata": {},
   "outputs": [],
   "source": [
    "point = np.array([[1,0,0],[2,0,0]])"
   ]
  },
  {
   "cell_type": "code",
   "execution_count": null,
   "id": "36844dc9",
   "metadata": {},
   "outputs": [],
   "source": []
  },
  {
   "cell_type": "code",
   "execution_count": 78,
   "id": "e3c59c3e",
   "metadata": {},
   "outputs": [],
   "source": [
    "points = np.random.randint(low = -1000, high =1000,size = [1000000,3])"
   ]
  },
  {
   "cell_type": "code",
   "execution_count": 79,
   "id": "1d73d795",
   "metadata": {},
   "outputs": [
    {
     "data": {
      "text/plain": [
       "array([0.0015, 0.001 , 0.0008, ..., 0.0012, 0.001 , 0.0011])"
      ]
     },
     "execution_count": 79,
     "metadata": {},
     "output_type": "execute_result"
    }
   ],
   "source": [
    "signal_strength(points)"
   ]
  },
  {
   "cell_type": "code",
   "execution_count": 80,
   "id": "ab8e5406",
   "metadata": {},
   "outputs": [],
   "source": [
    "ans = np.column_stack([points,signal_strength(points)])"
   ]
  },
  {
   "cell_type": "code",
   "execution_count": 81,
   "id": "bcd20a70",
   "metadata": {},
   "outputs": [],
   "source": [
    "import pandas as pd\n",
    "\n",
    "df = pd.DataFrame(ans,columns = ['X','Y','Z','RSSI'])"
   ]
  },
  {
   "cell_type": "code",
   "execution_count": 82,
   "id": "465144fd",
   "metadata": {},
   "outputs": [],
   "source": [
    "df.to_csv('Fake_Calibration_Data.csv')"
   ]
  },
  {
   "cell_type": "code",
   "execution_count": 83,
   "id": "8eb1f75d",
   "metadata": {},
   "outputs": [],
   "source": [
    "def radius(point,ref_point):\n",
    "    diff = point - ref_point\n",
    "    radius_from_reference = np.sqrt(np.sum(diff**2))\n",
    "    \n",
    "    return radius_from_reference"
   ]
  },
  {
   "cell_type": "code",
   "execution_count": 94,
   "id": "4c955d1d",
   "metadata": {},
   "outputs": [],
   "source": [
    "station_1 = np.array([0,0,0])\n",
    "station_2 = np.array([0,-200,0])\n",
    "station_3 = np.array([100*np.sqrt(3),-100,0])\n",
    "\n",
    "point = np.array([321,-12,29])\n",
    "\n",
    "\n",
    "def find_multiple_detection_strengths(point,station_1,station_2,station_3):\n",
    "    rad_1 = radius(point,station_1)\n",
    "    rad_2 = radius(point,station_2)\n",
    "    rad_3 = radius(point,station_3)\n",
    "\n",
    "    strength_1 = my_floor(1/rad_1,4)\n",
    "    strength_2 = my_floor(1/rad_2,4)\n",
    "    strength_3 = my_floor(1/rad_3,4)\n",
    "\n",
    "\n",
    "    return [strength_1,strength_2,strength_3]"
   ]
  },
  {
   "cell_type": "code",
   "execution_count": 85,
   "id": "9cd87fcd",
   "metadata": {},
   "outputs": [
    {
     "data": {
      "text/plain": [
       "(0.0031, 0.0026, 0.0057)"
      ]
     },
     "execution_count": 85,
     "metadata": {},
     "output_type": "execute_result"
    }
   ],
   "source": [
    "strength_1,strength_2,strength_3"
   ]
  },
  {
   "cell_type": "code",
   "execution_count": 88,
   "id": "4fe1ddff",
   "metadata": {},
   "outputs": [
    {
     "name": "stdout",
     "output_type": "stream",
     "text": [
      "Starting position: (10, 5, 15)\n",
      "Ending position: (293.98094043545325, 211.22237392814253, 27.808948296146383)\n"
     ]
    },
    {
     "data": {
      "image/png": "[encoded data removed]",
      "text/plain": [
       "<Figure size 432x288 with 1 Axes>"
      ]
     },
     "metadata": {
      "needs_background": "light"
     },
     "output_type": "display_data"
    }
   ],
   "source": [
    "import random\n",
    "import matplotlib.pyplot as plt\n",
    "\n",
    "def three_d_random_walk(start_x, start_y, start_z, num_steps):\n",
    "    \"\"\"\n",
    "    Simulates a 3D random walk with a step radius of 5.\n",
    "\n",
    "    Args:\n",
    "      start_x: Starting x-coordinate.\n",
    "      start_y: Starting y-coordinate.\n",
    "      start_z: Starting z-coordinate.\n",
    "      num_steps: Number of steps in the walk.\n",
    "\n",
    "    Returns:\n",
    "      A list of tuples representing the (x, y, z) coordinates at each step.\n",
    "    \"\"\"\n",
    "    walk = [(start_x, start_y, start_z)]\n",
    "    for _ in range(num_steps):\n",
    "        # Generate a random direction vector within a radius of 5\n",
    "        dx = random.uniform(1, 5) # biasing the walk to the right\n",
    "        dy = random.uniform(-1, 5)\n",
    "        dz = random.uniform(-5, 5)\n",
    "\n",
    "        # Update the current position\n",
    "        new_x = walk[-1][0] + dx\n",
    "        new_y = walk[-1][1] + dy\n",
    "        new_z = np.abs(walk[-1][2] + dz)\n",
    "\n",
    "        # Append the new position to the walk\n",
    "        walk.append((new_x, new_y, new_z))\n",
    "\n",
    "    return walk\n",
    "\n",
    "# Example usage\n",
    "x = 10\n",
    "y = 5\n",
    "z = 15\n",
    "steps = 100\n",
    "\n",
    "\n",
    "walk_path = three_d_random_walk(x, y, z, steps)\n",
    "\n",
    "\n",
    "df = pd.DataFrame(walk_path,columns=['X','Y','Z'])\n",
    "\n",
    "plt.plot(np.array(df.X),np.array(df.Y))\n",
    "\n",
    "\n",
    "\n",
    "# Print the starting and ending positions\n",
    "print(f\"Starting position: ({x}, {y}, {z})\")\n",
    "print(f\"Ending position: {walk_path[-1]}\")\n",
    "\n",
    "# You can further analyze the walk path here (optional)\n"
   ]
  },
  {
   "cell_type": "code",
   "execution_count": 98,
   "id": "4eede4aa",
   "metadata": {},
   "outputs": [],
   "source": [
    "random_walk_strengths = []\n",
    "\n",
    "for i in range(len(walk_path)):\n",
    "    random_walk_strengths.append(find_multiple_detection_strengths(np.array(walk_path[i]),station_1,station_2,station_3))"
   ]
  },
  {
   "cell_type": "code",
   "execution_count": 103,
   "id": "a766aab1",
   "metadata": {},
   "outputs": [],
   "source": [
    "df = pd.DataFrame(random_walk_strengths,columns=['Station 1','Station 2','Station 3'])\n",
    "df1 = pd.DataFrame(walk_path,columns=['X','Y','Z'])"
   ]
  },
  {
   "cell_type": "code",
   "execution_count": 105,
   "id": "50cd87ae",
   "metadata": {},
   "outputs": [
    {
     "data": {
      "text/html": [
       "<div>\n",
       "<style scoped>\n",
       "    .dataframe tbody tr th:only-of-type {\n",
       "        vertical-align: middle;\n",
       "    }\n",
       "\n",
       "    .dataframe tbody tr th {\n",
       "        vertical-align: top;\n",
       "    }\n",
       "\n",
       "    .dataframe thead th {\n",
       "        text-align: right;\n",
       "    }\n",
       "</style>\n",
       "<table border=\"1\" class=\"dataframe\">\n",
       "  <thead>\n",
       "    <tr style=\"text-align: right;\">\n",
       "      <th></th>\n",
       "      <th>Station 1</th>\n",
       "      <th>Station 2</th>\n",
       "      <th>Station 3</th>\n",
       "    </tr>\n",
       "  </thead>\n",
       "  <tbody>\n",
       "    <tr>\n",
       "      <th>0</th>\n",
       "      <td>0.0534</td>\n",
       "      <td>0.0048</td>\n",
       "      <td>0.0051</td>\n",
       "    </tr>\n",
       "    <tr>\n",
       "      <th>1</th>\n",
       "      <td>0.0477</td>\n",
       "      <td>0.0047</td>\n",
       "      <td>0.0051</td>\n",
       "    </tr>\n",
       "    <tr>\n",
       "      <th>2</th>\n",
       "      <td>0.0369</td>\n",
       "      <td>0.0047</td>\n",
       "      <td>0.0051</td>\n",
       "    </tr>\n",
       "    <tr>\n",
       "      <th>3</th>\n",
       "      <td>0.0320</td>\n",
       "      <td>0.0047</td>\n",
       "      <td>0.0052</td>\n",
       "    </tr>\n",
       "    <tr>\n",
       "      <th>4</th>\n",
       "      <td>0.0303</td>\n",
       "      <td>0.0046</td>\n",
       "      <td>0.0052</td>\n",
       "    </tr>\n",
       "    <tr>\n",
       "      <th>...</th>\n",
       "      <td>...</td>\n",
       "      <td>...</td>\n",
       "      <td>...</td>\n",
       "    </tr>\n",
       "    <tr>\n",
       "      <th>96</th>\n",
       "      <td>0.0028</td>\n",
       "      <td>0.0020</td>\n",
       "      <td>0.0030</td>\n",
       "    </tr>\n",
       "    <tr>\n",
       "      <th>97</th>\n",
       "      <td>0.0028</td>\n",
       "      <td>0.0020</td>\n",
       "      <td>0.0030</td>\n",
       "    </tr>\n",
       "    <tr>\n",
       "      <th>98</th>\n",
       "      <td>0.0028</td>\n",
       "      <td>0.0020</td>\n",
       "      <td>0.0030</td>\n",
       "    </tr>\n",
       "    <tr>\n",
       "      <th>99</th>\n",
       "      <td>0.0027</td>\n",
       "      <td>0.0019</td>\n",
       "      <td>0.0029</td>\n",
       "    </tr>\n",
       "    <tr>\n",
       "      <th>100</th>\n",
       "      <td>0.0027</td>\n",
       "      <td>0.0019</td>\n",
       "      <td>0.0029</td>\n",
       "    </tr>\n",
       "  </tbody>\n",
       "</table>\n",
       "<p>101 rows × 3 columns</p>\n",
       "</div>"
      ],
      "text/plain": [
       "     Station 1  Station 2  Station 3\n",
       "0       0.0534     0.0048     0.0051\n",
       "1       0.0477     0.0047     0.0051\n",
       "2       0.0369     0.0047     0.0051\n",
       "3       0.0320     0.0047     0.0052\n",
       "4       0.0303     0.0046     0.0052\n",
       "..         ...        ...        ...\n",
       "96      0.0028     0.0020     0.0030\n",
       "97      0.0028     0.0020     0.0030\n",
       "98      0.0028     0.0020     0.0030\n",
       "99      0.0027     0.0019     0.0029\n",
       "100     0.0027     0.0019     0.0029\n",
       "\n",
       "[101 rows x 3 columns]"
      ]
     },
     "execution_count": 105,
     "metadata": {},
     "output_type": "execute_result"
    }
   ],
   "source": [
    "df"
   ]
  },
  {
   "cell_type": "code",
   "execution_count": 107,
   "id": "a55e71d4",
   "metadata": {},
   "outputs": [],
   "source": [
    "df.to_csv('Random_Walk_Detections.csv')\n",
    "df1.to_csv('Random_Walk.csv')"
   ]
  },
  {
   "cell_type": "markdown",
   "id": "4c8d61f3",
   "metadata": {},
   "source": [
    "Ignore Below"
   ]
  },
  {
   "cell_type": "code",
   "execution_count": 86,
   "id": "aa0eed75",
   "metadata": {},
   "outputs": [
    {
     "data": {
      "text/plain": [
       "0.005732722015871017"
      ]
     },
     "execution_count": 86,
     "metadata": {},
     "output_type": "execute_result"
    }
   ],
   "source": [
    "1/rad_3"
   ]
  },
  {
   "cell_type": "code",
   "execution_count": null,
   "id": "7bebab0f",
   "metadata": {},
   "outputs": [],
   "source": [
    "import numpy as np\n",
    "\n",
    "# Define parameters\n",
    "A_min = -110  # Minimum intensity (-65 for decay to -110)\n",
    "A_max = -65  # Initial intensity\n",
    "sigma = 500  # Radius of decay (standard deviation)\n",
    "\n",
    "# Generate random points within a cube of side length 2 * radius\n",
    "num_points = 1000\n",
    "x = np.random.uniform(-sigma, sigma, num_points)\n",
    "y = np.random.uniform(-sigma, sigma, num_points)\n",
    "z = np.random.uniform(-sigma, sigma, num_points)\n",
    "\n",
    "# Calculate distance from the origin (source)\n",
    "distance = np.sqrt(x**2 + y**2 + z**2)\n",
    "\n",
    "# Normalize distance to range between 0 and 1 (radius)\n",
    "normalized_distance = distance / sigma\n",
    "\n",
    "# Calculate intensity using a linear interpolation between A_min and A_max\n",
    "intensity = A_min + (A_max - A_min) * (1 - normalized_distance)\n",
    "\n",
    "# Further analysis (optional)\n",
    "# - Plot the intensity distribution in 3D using visualization libraries\n",
    "# - Use the intensity values for further calculations depending on your specific needs\n",
    "\n",
    "#print(\"Intensity values:\", intensity[:10])  # Print the first 10 intensity values\n"
   ]
  },
  {
   "cell_type": "code",
   "execution_count": 2,
   "id": "5c108070",
   "metadata": {},
   "outputs": [
    {
     "data": {
      "image/png": "[encoded data removed]",
      "text/plain": [
       "<Figure size 432x288 with 2 Axes>"
      ]
     },
     "metadata": {
      "needs_background": "light"
     },
     "output_type": "display_data"
    }
   ],
   "source": [
    "import matplotlib.pyplot as plt\n",
    "import numpy as np\n",
    "\n",
    "# Define parameters\n",
    "A_min = -110  # Minimum intensity (-65 for decay to -110)\n",
    "A_max = -65  # Initial intensity\n",
    "sigma = 500  # Radius of decay (standard deviation)\n",
    "z_slice = 1  # Fixed z value for the contour plot\n",
    "\n",
    "# Generate grid of points in the x-y plane\n",
    "num_points = 200\n",
    "x = np.linspace(-sigma, sigma, num_points)\n",
    "y = np.linspace(-sigma, sigma, num_points)\n",
    "X, Y = np.meshgrid(x, y)\n",
    "\n",
    "# Calculate distance from the origin\n",
    "distance = np.sqrt(X**2 + Y**2 + z_slice**2)\n",
    "\n",
    "# Normalize distance to range between 0 and 1 (radius)\n",
    "normalized_distance = distance / sigma\n",
    "\n",
    "# Calculate intensity using linear interpolation\n",
    "intensity = A_min + (A_max - A_min) * (1 - normalized_distance)\n",
    "\n",
    "# Create contour plot\n",
    "plt.contour(X, Y, intensity, cmap='viridis')  # Adjust 'viridis' for desired colormap\n",
    "plt.colorbar(label='Intensity')\n",
    "plt.xlabel('X')\n",
    "plt.ylabel('Y')\n",
    "plt.title(f'Intensity Contour at z = {z_slice}')\n",
    "plt.show()"
   ]
  },
  {
   "cell_type": "code",
   "execution_count": 3,
   "id": "eba98fc4",
   "metadata": {},
   "outputs": [],
   "source": [
    "import numpy as np\n",
    "import pandas as pd\n",
    "import matplotlib.pyplot as plt\n",
    "\n",
    "\n",
    "# Station locations\n",
    "station1 = np.array([0, 0, 0])\n",
    "station2 = np.array([0, -200, 0])\n",
    "station3 = np.array([100 * np.sqrt(3), -100, 0])\n",
    "\n",
    "\n",
    "def calculate_field_stength(point,station_1 = station1,station_2 = station2,station_3 = station3):\n",
    "    # Define parameters (same as before)\n",
    "    A_min = -110  # Minimum intensity\n",
    "    A_max = -65  # Initial intensity\n",
    "    sigma = 500  # Radius of decay\n",
    "    \n",
    "    #point is 1x3 matrix of (X,Y,Z) point\n",
    "    # Calculate distance from each station to the point\n",
    "    distance1 = np.linalg.norm(point - station_1)\n",
    "    distance2 = np.linalg.norm(point - station_2)\n",
    "    distance3 = np.linalg.norm(point - station_3)\n",
    "    \n",
    "    # Normalize distances\n",
    "    normalized_distance1 = distance1 / sigma\n",
    "    normalized_distance2 = distance2 / sigma\n",
    "    normalized_distance3 = distance3 / sigma\n",
    "\n",
    "    # Calculate intensity from each station\n",
    "    intensity1 = A_min + (A_max - A_min) * (1 - normalized_distance1)\n",
    "    intensity2 = A_min + (A_max - A_min) * (1 - normalized_distance2)\n",
    "    intensity3 = A_min + (A_max - A_min) * (1 - normalized_distance3)\n",
    "\n",
    "    # Total field strength (sum of intensities)\n",
    "    total_field_strength = np.round(np.array([intensity1,intensity2,intensity3]))\n",
    "\n",
    "    return(total_field_strength)"
   ]
  },
  {
   "cell_type": "code",
   "execution_count": 4,
   "id": "95e14bbf",
   "metadata": {},
   "outputs": [
    {
     "data": {
      "text/plain": [
       "array([-94., -99., -81.])"
      ]
     },
     "execution_count": 4,
     "metadata": {},
     "output_type": "execute_result"
    }
   ],
   "source": [
    "calculate_field_stength([321,-12,29])"
   ]
  },
  {
   "cell_type": "code",
   "execution_count": 5,
   "id": "2ef4487c",
   "metadata": {},
   "outputs": [
    {
     "name": "stdout",
     "output_type": "stream",
     "text": [
      "Starting position: (10, 5, 15)\n",
      "Ending position: (309.0652757941827, 196.52509095417915, 0.5053511096543062)\n"
     ]
    },
    {
     "data": {
      "image/png": "[encoded data removed]",
      "text/plain": [
       "<Figure size 432x288 with 1 Axes>"
      ]
     },
     "metadata": {
      "needs_background": "light"
     },
     "output_type": "display_data"
    }
   ],
   "source": [
    "import random\n",
    "\n",
    "def three_d_random_walk(start_x, start_y, start_z, num_steps):\n",
    "    \"\"\"\n",
    "    Simulates a 3D random walk with a step radius of 5.\n",
    "\n",
    "    Args:\n",
    "      start_x: Starting x-coordinate.\n",
    "      start_y: Starting y-coordinate.\n",
    "      start_z: Starting z-coordinate.\n",
    "      num_steps: Number of steps in the walk.\n",
    "\n",
    "    Returns:\n",
    "      A list of tuples representing the (x, y, z) coordinates at each step.\n",
    "    \"\"\"\n",
    "    walk = [(start_x, start_y, start_z)]\n",
    "    for _ in range(num_steps):\n",
    "        # Generate a random direction vector within a radius of 5\n",
    "        dx = random.uniform(1, 5) # biasing the walk to the right\n",
    "        dy = random.uniform(-1, 5)\n",
    "        dz = random.uniform(-5, 5)\n",
    "\n",
    "        # Update the current position\n",
    "        new_x = walk[-1][0] + dx\n",
    "        new_y = walk[-1][1] + dy\n",
    "        new_z = np.abs(walk[-1][2] + dz)\n",
    "\n",
    "        # Append the new position to the walk\n",
    "        walk.append((new_x, new_y, new_z))\n",
    "\n",
    "    return walk\n",
    "\n",
    "# Example usage\n",
    "x = 10\n",
    "y = 5\n",
    "z = 15\n",
    "steps = 100\n",
    "\n",
    "\n",
    "walk_path = three_d_random_walk(x, y, z, steps)\n",
    "\n",
    "\n",
    "df = pd.DataFrame(walk_path,columns=['X','Y','Z'])\n",
    "\n",
    "plt.plot(np.array(df.X),np.array(df.Y))\n",
    "\n",
    "\n",
    "\n",
    "# Print the starting and ending positions\n",
    "print(f\"Starting position: ({x}, {y}, {z})\")\n",
    "print(f\"Ending position: {walk_path[-1]}\")\n",
    "\n",
    "# You can further analyze the walk path here (optional)\n"
   ]
  },
  {
   "cell_type": "code",
   "execution_count": 6,
   "id": "55fc887d",
   "metadata": {},
   "outputs": [
    {
     "data": {
      "text/html": [
       "<div>\n",
       "<style scoped>\n",
       "    .dataframe tbody tr th:only-of-type {\n",
       "        vertical-align: middle;\n",
       "    }\n",
       "\n",
       "    .dataframe tbody tr th {\n",
       "        vertical-align: top;\n",
       "    }\n",
       "\n",
       "    .dataframe thead th {\n",
       "        text-align: right;\n",
       "    }\n",
       "</style>\n",
       "<table border=\"1\" class=\"dataframe\">\n",
       "  <thead>\n",
       "    <tr style=\"text-align: right;\">\n",
       "      <th></th>\n",
       "      <th>X</th>\n",
       "      <th>Y</th>\n",
       "      <th>Z</th>\n",
       "    </tr>\n",
       "  </thead>\n",
       "  <tbody>\n",
       "    <tr>\n",
       "      <th>0</th>\n",
       "      <td>10.000000</td>\n",
       "      <td>5.000000</td>\n",
       "      <td>15.000000</td>\n",
       "    </tr>\n",
       "    <tr>\n",
       "      <th>1</th>\n",
       "      <td>12.970949</td>\n",
       "      <td>7.392302</td>\n",
       "      <td>16.201149</td>\n",
       "    </tr>\n",
       "    <tr>\n",
       "      <th>2</th>\n",
       "      <td>17.559468</td>\n",
       "      <td>8.306994</td>\n",
       "      <td>21.036315</td>\n",
       "    </tr>\n",
       "    <tr>\n",
       "      <th>3</th>\n",
       "      <td>20.371597</td>\n",
       "      <td>12.236397</td>\n",
       "      <td>16.107424</td>\n",
       "    </tr>\n",
       "    <tr>\n",
       "      <th>4</th>\n",
       "      <td>22.587257</td>\n",
       "      <td>11.930524</td>\n",
       "      <td>19.059619</td>\n",
       "    </tr>\n",
       "    <tr>\n",
       "      <th>...</th>\n",
       "      <td>...</td>\n",
       "      <td>...</td>\n",
       "      <td>...</td>\n",
       "    </tr>\n",
       "    <tr>\n",
       "      <th>96</th>\n",
       "      <td>294.893440</td>\n",
       "      <td>192.958840</td>\n",
       "      <td>6.745971</td>\n",
       "    </tr>\n",
       "    <tr>\n",
       "      <th>97</th>\n",
       "      <td>299.674735</td>\n",
       "      <td>194.293196</td>\n",
       "      <td>5.687911</td>\n",
       "    </tr>\n",
       "    <tr>\n",
       "      <th>98</th>\n",
       "      <td>304.029878</td>\n",
       "      <td>196.766542</td>\n",
       "      <td>4.381308</td>\n",
       "    </tr>\n",
       "    <tr>\n",
       "      <th>99</th>\n",
       "      <td>306.456941</td>\n",
       "      <td>197.067940</td>\n",
       "      <td>0.232391</td>\n",
       "    </tr>\n",
       "    <tr>\n",
       "      <th>100</th>\n",
       "      <td>309.065276</td>\n",
       "      <td>196.525091</td>\n",
       "      <td>0.505351</td>\n",
       "    </tr>\n",
       "  </tbody>\n",
       "</table>\n",
       "<p>101 rows × 3 columns</p>\n",
       "</div>"
      ],
      "text/plain": [
       "              X           Y          Z\n",
       "0     10.000000    5.000000  15.000000\n",
       "1     12.970949    7.392302  16.201149\n",
       "2     17.559468    8.306994  21.036315\n",
       "3     20.371597   12.236397  16.107424\n",
       "4     22.587257   11.930524  19.059619\n",
       "..          ...         ...        ...\n",
       "96   294.893440  192.958840   6.745971\n",
       "97   299.674735  194.293196   5.687911\n",
       "98   304.029878  196.766542   4.381308\n",
       "99   306.456941  197.067940   0.232391\n",
       "100  309.065276  196.525091   0.505351\n",
       "\n",
       "[101 rows x 3 columns]"
      ]
     },
     "execution_count": 6,
     "metadata": {},
     "output_type": "execute_result"
    }
   ],
   "source": [
    "df"
   ]
  },
  {
   "cell_type": "code",
   "execution_count": 7,
   "id": "af5b5d47",
   "metadata": {},
   "outputs": [
    {
     "data": {
      "text/plain": [
       "array([ -98., -110.,  -94.])"
      ]
     },
     "execution_count": 7,
     "metadata": {},
     "output_type": "execute_result"
    }
   ],
   "source": [
    "calculate_field_stength(walk_path[-1])"
   ]
  },
  {
   "cell_type": "code",
   "execution_count": 8,
   "id": "7495168b",
   "metadata": {},
   "outputs": [
    {
     "data": {
      "text/plain": [
       "(309.0652757941827, 196.52509095417915, 0.5053511096543062)"
      ]
     },
     "execution_count": 8,
     "metadata": {},
     "output_type": "execute_result"
    }
   ],
   "source": [
    "walk_path[-1]"
   ]
  },
  {
   "cell_type": "code",
   "execution_count": 9,
   "id": "1689f332",
   "metadata": {},
   "outputs": [],
   "source": [
    "walk_path_stength = []\n",
    "\n",
    "for i in range(0,len(walk_path)):\n",
    "    value_at_point = calculate_field_stength(walk_path[i])\n",
    "    walk_path_stength.append(value_at_point)"
   ]
  },
  {
   "cell_type": "code",
   "execution_count": 10,
   "id": "1a8732cc",
   "metadata": {},
   "outputs": [
    {
     "data": {
      "text/html": [
       "<div>\n",
       "<style scoped>\n",
       "    .dataframe tbody tr th:only-of-type {\n",
       "        vertical-align: middle;\n",
       "    }\n",
       "\n",
       "    .dataframe tbody tr th {\n",
       "        vertical-align: top;\n",
       "    }\n",
       "\n",
       "    .dataframe thead th {\n",
       "        text-align: right;\n",
       "    }\n",
       "</style>\n",
       "<table border=\"1\" class=\"dataframe\">\n",
       "  <thead>\n",
       "    <tr style=\"text-align: right;\">\n",
       "      <th></th>\n",
       "      <th>X</th>\n",
       "      <th>Y</th>\n",
       "      <th>Z</th>\n",
       "    </tr>\n",
       "  </thead>\n",
       "  <tbody>\n",
       "    <tr>\n",
       "      <th>0</th>\n",
       "      <td>10.000000</td>\n",
       "      <td>5.000000</td>\n",
       "      <td>15.000000</td>\n",
       "    </tr>\n",
       "    <tr>\n",
       "      <th>1</th>\n",
       "      <td>12.970949</td>\n",
       "      <td>7.392302</td>\n",
       "      <td>16.201149</td>\n",
       "    </tr>\n",
       "    <tr>\n",
       "      <th>2</th>\n",
       "      <td>17.559468</td>\n",
       "      <td>8.306994</td>\n",
       "      <td>21.036315</td>\n",
       "    </tr>\n",
       "    <tr>\n",
       "      <th>3</th>\n",
       "      <td>20.371597</td>\n",
       "      <td>12.236397</td>\n",
       "      <td>16.107424</td>\n",
       "    </tr>\n",
       "    <tr>\n",
       "      <th>4</th>\n",
       "      <td>22.587257</td>\n",
       "      <td>11.930524</td>\n",
       "      <td>19.059619</td>\n",
       "    </tr>\n",
       "    <tr>\n",
       "      <th>...</th>\n",
       "      <td>...</td>\n",
       "      <td>...</td>\n",
       "      <td>...</td>\n",
       "    </tr>\n",
       "    <tr>\n",
       "      <th>96</th>\n",
       "      <td>294.893440</td>\n",
       "      <td>192.958840</td>\n",
       "      <td>6.745971</td>\n",
       "    </tr>\n",
       "    <tr>\n",
       "      <th>97</th>\n",
       "      <td>299.674735</td>\n",
       "      <td>194.293196</td>\n",
       "      <td>5.687911</td>\n",
       "    </tr>\n",
       "    <tr>\n",
       "      <th>98</th>\n",
       "      <td>304.029878</td>\n",
       "      <td>196.766542</td>\n",
       "      <td>4.381308</td>\n",
       "    </tr>\n",
       "    <tr>\n",
       "      <th>99</th>\n",
       "      <td>306.456941</td>\n",
       "      <td>197.067940</td>\n",
       "      <td>0.232391</td>\n",
       "    </tr>\n",
       "    <tr>\n",
       "      <th>100</th>\n",
       "      <td>309.065276</td>\n",
       "      <td>196.525091</td>\n",
       "      <td>0.505351</td>\n",
       "    </tr>\n",
       "  </tbody>\n",
       "</table>\n",
       "<p>101 rows × 3 columns</p>\n",
       "</div>"
      ],
      "text/plain": [
       "              X           Y          Z\n",
       "0     10.000000    5.000000  15.000000\n",
       "1     12.970949    7.392302  16.201149\n",
       "2     17.559468    8.306994  21.036315\n",
       "3     20.371597   12.236397  16.107424\n",
       "4     22.587257   11.930524  19.059619\n",
       "..          ...         ...        ...\n",
       "96   294.893440  192.958840   6.745971\n",
       "97   299.674735  194.293196   5.687911\n",
       "98   304.029878  196.766542   4.381308\n",
       "99   306.456941  197.067940   0.232391\n",
       "100  309.065276  196.525091   0.505351\n",
       "\n",
       "[101 rows x 3 columns]"
      ]
     },
     "execution_count": 10,
     "metadata": {},
     "output_type": "execute_result"
    }
   ],
   "source": [
    "df"
   ]
  },
  {
   "cell_type": "code",
   "execution_count": 11,
   "id": "1bf482b7",
   "metadata": {},
   "outputs": [],
   "source": [
    "df2 = pd.DataFrame(walk_path_stength,columns=['Antenna 1','Antenna 2','Antenna 3'])"
   ]
  },
  {
   "cell_type": "code",
   "execution_count": 12,
   "id": "9741763c",
   "metadata": {},
   "outputs": [
    {
     "data": {
      "text/html": [
       "<div>\n",
       "<style scoped>\n",
       "    .dataframe tbody tr th:only-of-type {\n",
       "        vertical-align: middle;\n",
       "    }\n",
       "\n",
       "    .dataframe tbody tr th {\n",
       "        vertical-align: top;\n",
       "    }\n",
       "\n",
       "    .dataframe thead th {\n",
       "        text-align: right;\n",
       "    }\n",
       "</style>\n",
       "<table border=\"1\" class=\"dataframe\">\n",
       "  <thead>\n",
       "    <tr style=\"text-align: right;\">\n",
       "      <th></th>\n",
       "      <th>Antenna 1</th>\n",
       "      <th>Antenna 2</th>\n",
       "      <th>Antenna 3</th>\n",
       "    </tr>\n",
       "  </thead>\n",
       "  <tbody>\n",
       "    <tr>\n",
       "      <th>0</th>\n",
       "      <td>-67.0</td>\n",
       "      <td>-84.0</td>\n",
       "      <td>-83.0</td>\n",
       "    </tr>\n",
       "    <tr>\n",
       "      <th>1</th>\n",
       "      <td>-67.0</td>\n",
       "      <td>-84.0</td>\n",
       "      <td>-82.0</td>\n",
       "    </tr>\n",
       "    <tr>\n",
       "      <th>2</th>\n",
       "      <td>-68.0</td>\n",
       "      <td>-84.0</td>\n",
       "      <td>-82.0</td>\n",
       "    </tr>\n",
       "    <tr>\n",
       "      <th>3</th>\n",
       "      <td>-68.0</td>\n",
       "      <td>-84.0</td>\n",
       "      <td>-82.0</td>\n",
       "    </tr>\n",
       "    <tr>\n",
       "      <th>4</th>\n",
       "      <td>-68.0</td>\n",
       "      <td>-84.0</td>\n",
       "      <td>-82.0</td>\n",
       "    </tr>\n",
       "    <tr>\n",
       "      <th>...</th>\n",
       "      <td>...</td>\n",
       "      <td>...</td>\n",
       "      <td>...</td>\n",
       "    </tr>\n",
       "    <tr>\n",
       "      <th>96</th>\n",
       "      <td>-97.0</td>\n",
       "      <td>-109.0</td>\n",
       "      <td>-94.0</td>\n",
       "    </tr>\n",
       "    <tr>\n",
       "      <th>97</th>\n",
       "      <td>-97.0</td>\n",
       "      <td>-110.0</td>\n",
       "      <td>-94.0</td>\n",
       "    </tr>\n",
       "    <tr>\n",
       "      <th>98</th>\n",
       "      <td>-98.0</td>\n",
       "      <td>-110.0</td>\n",
       "      <td>-94.0</td>\n",
       "    </tr>\n",
       "    <tr>\n",
       "      <th>99</th>\n",
       "      <td>-98.0</td>\n",
       "      <td>-110.0</td>\n",
       "      <td>-94.0</td>\n",
       "    </tr>\n",
       "    <tr>\n",
       "      <th>100</th>\n",
       "      <td>-98.0</td>\n",
       "      <td>-110.0</td>\n",
       "      <td>-94.0</td>\n",
       "    </tr>\n",
       "  </tbody>\n",
       "</table>\n",
       "<p>101 rows × 3 columns</p>\n",
       "</div>"
      ],
      "text/plain": [
       "     Antenna 1  Antenna 2  Antenna 3\n",
       "0        -67.0      -84.0      -83.0\n",
       "1        -67.0      -84.0      -82.0\n",
       "2        -68.0      -84.0      -82.0\n",
       "3        -68.0      -84.0      -82.0\n",
       "4        -68.0      -84.0      -82.0\n",
       "..         ...        ...        ...\n",
       "96       -97.0     -109.0      -94.0\n",
       "97       -97.0     -110.0      -94.0\n",
       "98       -98.0     -110.0      -94.0\n",
       "99       -98.0     -110.0      -94.0\n",
       "100      -98.0     -110.0      -94.0\n",
       "\n",
       "[101 rows x 3 columns]"
      ]
     },
     "execution_count": 12,
     "metadata": {},
     "output_type": "execute_result"
    }
   ],
   "source": [
    "df2"
   ]
  },
  {
   "cell_type": "code",
   "execution_count": 13,
   "id": "df91585d",
   "metadata": {},
   "outputs": [],
   "source": [
    "df.to_csv('Random_Walk.csv')"
   ]
  },
  {
   "cell_type": "code",
   "execution_count": 14,
   "id": "3309b663",
   "metadata": {},
   "outputs": [],
   "source": [
    "df2.to_csv('Random_Walk_Detections.csv')"
   ]
  },
  {
   "cell_type": "code",
   "execution_count": 15,
   "id": "b419fa45",
   "metadata": {},
   "outputs": [],
   "source": [
    "random_calib_sampling = np.random.randint([-500,-500,0],[500,500,500],size=[300000,3])"
   ]
  },
  {
   "cell_type": "code",
   "execution_count": 16,
   "id": "07da9f0c",
   "metadata": {},
   "outputs": [],
   "source": [
    "calibration_data = []\n",
    "\n",
    "for i in range(0,len(random_calib_sampling)):\n",
    "    value_at_point = calculate_field_stength(random_calib_sampling[i])\n",
    "    calibration_data.append(value_at_point)"
   ]
  },
  {
   "cell_type": "code",
   "execution_count": 17,
   "id": "83565573",
   "metadata": {},
   "outputs": [],
   "source": [
    "df = pd.DataFrame(calibration_data,columns=['Antenna 1','Antenna 2','Antenna 3'])"
   ]
  },
  {
   "cell_type": "code",
   "execution_count": 1,
   "id": "ca4c4e2e",
   "metadata": {},
   "outputs": [
    {
     "ename": "NameError",
     "evalue": "name 'calibration_data' is not defined",
     "output_type": "error",
     "traceback": [
      "\u001b[0;31m---------------------------------------------------------------------------\u001b[0m",
      "\u001b[0;31mNameError\u001b[0m                                 Traceback (most recent call last)",
      "\u001b[0;32m/tmp/ipykernel_242860/2075286527.py\u001b[0m in \u001b[0;36m<module>\u001b[0;34m\u001b[0m\n\u001b[0;32m----> 1\u001b[0;31m \u001b[0mcalibration_data\u001b[0m\u001b[0;34m\u001b[0m\u001b[0;34m\u001b[0m\u001b[0m\n\u001b[0m",
      "\u001b[0;31mNameError\u001b[0m: name 'calibration_data' is not defined"
     ]
    }
   ],
   "source": [
    "calibration_data"
   ]
  },
  {
   "cell_type": "code",
   "execution_count": 18,
   "id": "71e61625",
   "metadata": {},
   "outputs": [],
   "source": [
    "RSSI_List = df['Antenna 1'].to_list()"
   ]
  },
  {
   "cell_type": "code",
   "execution_count": 19,
   "id": "4ed4a612",
   "metadata": {},
   "outputs": [
    {
     "data": {
      "text/plain": [
       "array([-316,  473,  214])"
      ]
     },
     "execution_count": 19,
     "metadata": {},
     "output_type": "execute_result"
    }
   ],
   "source": [
    "random_calib_sampling[0]"
   ]
  },
  {
   "cell_type": "code",
   "execution_count": 20,
   "id": "52ed565d",
   "metadata": {},
   "outputs": [],
   "source": [
    "X_Y_Z = np.row_stack(random_calib_sampling)"
   ]
  },
  {
   "cell_type": "code",
   "execution_count": 21,
   "id": "28a405ff",
   "metadata": {},
   "outputs": [],
   "source": [
    "df = pd.DataFrame(np.column_stack([X_Y_Z,RSSI_List]),columns=['X','Y','Z','RSSI'])"
   ]
  },
  {
   "cell_type": "code",
   "execution_count": 22,
   "id": "7c66cdea",
   "metadata": {},
   "outputs": [
    {
     "data": {
      "text/html": [
       "<div>\n",
       "<style scoped>\n",
       "    .dataframe tbody tr th:only-of-type {\n",
       "        vertical-align: middle;\n",
       "    }\n",
       "\n",
       "    .dataframe tbody tr th {\n",
       "        vertical-align: top;\n",
       "    }\n",
       "\n",
       "    .dataframe thead th {\n",
       "        text-align: right;\n",
       "    }\n",
       "</style>\n",
       "<table border=\"1\" class=\"dataframe\">\n",
       "  <thead>\n",
       "    <tr style=\"text-align: right;\">\n",
       "      <th></th>\n",
       "      <th>X</th>\n",
       "      <th>Y</th>\n",
       "      <th>Z</th>\n",
       "      <th>RSSI</th>\n",
       "    </tr>\n",
       "  </thead>\n",
       "  <tbody>\n",
       "    <tr>\n",
       "      <th>0</th>\n",
       "      <td>-316.0</td>\n",
       "      <td>473.0</td>\n",
       "      <td>214.0</td>\n",
       "      <td>-120.0</td>\n",
       "    </tr>\n",
       "    <tr>\n",
       "      <th>1</th>\n",
       "      <td>256.0</td>\n",
       "      <td>202.0</td>\n",
       "      <td>493.0</td>\n",
       "      <td>-118.0</td>\n",
       "    </tr>\n",
       "    <tr>\n",
       "      <th>2</th>\n",
       "      <td>-143.0</td>\n",
       "      <td>-245.0</td>\n",
       "      <td>356.0</td>\n",
       "      <td>-106.0</td>\n",
       "    </tr>\n",
       "    <tr>\n",
       "      <th>3</th>\n",
       "      <td>-467.0</td>\n",
       "      <td>-67.0</td>\n",
       "      <td>150.0</td>\n",
       "      <td>-110.0</td>\n",
       "    </tr>\n",
       "    <tr>\n",
       "      <th>4</th>\n",
       "      <td>355.0</td>\n",
       "      <td>382.0</td>\n",
       "      <td>348.0</td>\n",
       "      <td>-121.0</td>\n",
       "    </tr>\n",
       "    <tr>\n",
       "      <th>...</th>\n",
       "      <td>...</td>\n",
       "      <td>...</td>\n",
       "      <td>...</td>\n",
       "      <td>...</td>\n",
       "    </tr>\n",
       "    <tr>\n",
       "      <th>299995</th>\n",
       "      <td>332.0</td>\n",
       "      <td>11.0</td>\n",
       "      <td>10.0</td>\n",
       "      <td>-95.0</td>\n",
       "    </tr>\n",
       "    <tr>\n",
       "      <th>299996</th>\n",
       "      <td>308.0</td>\n",
       "      <td>375.0</td>\n",
       "      <td>355.0</td>\n",
       "      <td>-119.0</td>\n",
       "    </tr>\n",
       "    <tr>\n",
       "      <th>299997</th>\n",
       "      <td>231.0</td>\n",
       "      <td>309.0</td>\n",
       "      <td>362.0</td>\n",
       "      <td>-113.0</td>\n",
       "    </tr>\n",
       "    <tr>\n",
       "      <th>299998</th>\n",
       "      <td>336.0</td>\n",
       "      <td>-310.0</td>\n",
       "      <td>41.0</td>\n",
       "      <td>-106.0</td>\n",
       "    </tr>\n",
       "    <tr>\n",
       "      <th>299999</th>\n",
       "      <td>108.0</td>\n",
       "      <td>13.0</td>\n",
       "      <td>493.0</td>\n",
       "      <td>-110.0</td>\n",
       "    </tr>\n",
       "  </tbody>\n",
       "</table>\n",
       "<p>300000 rows × 4 columns</p>\n",
       "</div>"
      ],
      "text/plain": [
       "            X      Y      Z   RSSI\n",
       "0      -316.0  473.0  214.0 -120.0\n",
       "1       256.0  202.0  493.0 -118.0\n",
       "2      -143.0 -245.0  356.0 -106.0\n",
       "3      -467.0  -67.0  150.0 -110.0\n",
       "4       355.0  382.0  348.0 -121.0\n",
       "...       ...    ...    ...    ...\n",
       "299995  332.0   11.0   10.0  -95.0\n",
       "299996  308.0  375.0  355.0 -119.0\n",
       "299997  231.0  309.0  362.0 -113.0\n",
       "299998  336.0 -310.0   41.0 -106.0\n",
       "299999  108.0   13.0  493.0 -110.0\n",
       "\n",
       "[300000 rows x 4 columns]"
      ]
     },
     "execution_count": 22,
     "metadata": {},
     "output_type": "execute_result"
    }
   ],
   "source": [
    "df"
   ]
  },
  {
   "cell_type": "code",
   "execution_count": 23,
   "id": "072e5bd1",
   "metadata": {},
   "outputs": [],
   "source": [
    "df.to_csv('Fake_Calibration_Data.csv')"
   ]
  },
  {
   "cell_type": "code",
   "execution_count": 24,
   "id": "1c403192",
   "metadata": {},
   "outputs": [
    {
     "data": {
      "text/plain": [
       "'/home/main/Research/BIWF_Data'"
      ]
     },
     "execution_count": 24,
     "metadata": {},
     "output_type": "execute_result"
    }
   ],
   "source": [
    "pwd"
   ]
  },
  {
   "cell_type": "code",
   "execution_count": 25,
   "id": "55082bad",
   "metadata": {},
   "outputs": [
    {
     "data": {
      "text/plain": [
       "(array([ 1873., 15314., 39784., 70017., 66618., 52319., 31604., 14694.,\n",
       "         6647.,  1130.]),\n",
       " array([-142. , -134.4, -126.8, -119.2, -111.6, -104. ,  -96.4,  -88.8,\n",
       "         -81.2,  -73.6,  -66. ]),\n",
       " <BarContainer object of 10 artists>)"
      ]
     },
     "execution_count": 25,
     "metadata": {},
     "output_type": "execute_result"
    },
    {
     "data": {
      "image/png": "[encoded data removed]",
      "text/plain": [
       "<Figure size 432x288 with 1 Axes>"
      ]
     },
     "metadata": {
      "needs_background": "light"
     },
     "output_type": "display_data"
    }
   ],
   "source": [
    "plt.hist(df.RSSI)"
   ]
  },
  {
   "cell_type": "code",
   "execution_count": 26,
   "id": "1e383c3b",
   "metadata": {},
   "outputs": [],
   "source": [
    "import numpy as np\n",
    "from matplotlib import pyplot as plt\n",
    "\n",
    "\n",
    "def ellipsoid(X,Y,a,b,c,x0,y0,z0):\n",
    "    z = np.sqrt((1-(X-x0)**2/a**2 -(Y-y0)**2/b**2)*c**2)+z0\n",
    "    return \n",
    "\n"
   ]
  },
  {
   "cell_type": "code",
   "execution_count": 27,
   "id": "8ae81d68",
   "metadata": {},
   "outputs": [
    {
     "name": "stderr",
     "output_type": "stream",
     "text": [
      "/tmp/ipykernel_240503/3071594678.py:6: RuntimeWarning: invalid value encountered in sqrt\n",
      "  z = np.sqrt((1-(X-x0)**2/a**2 -(Y-y0)**2/b**2)*c**2)+z0\n"
     ]
    }
   ],
   "source": [
    "# Generate grid of points for the contour plot (focusing on positive x-axis)\n",
    "x = np.linspace(0, 2, 100)  # Only positive x-values\n",
    "y = np.linspace(-6, 6, 100)\n",
    "\n",
    "\n",
    "z = ellipsoid(x,y,a=1,b=6,c=1,x0=1,y0=0,z0=0)\n",
    "\n"
   ]
  },
  {
   "cell_type": "code",
   "execution_count": 28,
   "id": "d629d6fa",
   "metadata": {},
   "outputs": [
    {
     "ename": "ValueError",
     "evalue": "all the input array dimensions except for the concatenation axis must match exactly, but along dimension 0, the array at index 0 has size 100 and the array at index 2 has size 1",
     "output_type": "error",
     "traceback": [
      "\u001b[0;31m---------------------------------------------------------------------------\u001b[0m",
      "\u001b[0;31mValueError\u001b[0m                                Traceback (most recent call last)",
      "\u001b[0;32m/tmp/ipykernel_240503/3608453135.py\u001b[0m in \u001b[0;36m<module>\u001b[0;34m\u001b[0m\n\u001b[1;32m      1\u001b[0m \u001b[0;32mimport\u001b[0m \u001b[0mpandas\u001b[0m \u001b[0;32mas\u001b[0m \u001b[0mpd\u001b[0m\u001b[0;34m\u001b[0m\u001b[0;34m\u001b[0m\u001b[0m\n\u001b[1;32m      2\u001b[0m \u001b[0;34m\u001b[0m\u001b[0m\n\u001b[0;32m----> 3\u001b[0;31m \u001b[0mdf\u001b[0m \u001b[0;34m=\u001b[0m \u001b[0mpd\u001b[0m\u001b[0;34m.\u001b[0m\u001b[0mDataFrame\u001b[0m\u001b[0;34m(\u001b[0m\u001b[0mnp\u001b[0m\u001b[0;34m.\u001b[0m\u001b[0mcolumn_stack\u001b[0m\u001b[0;34m(\u001b[0m\u001b[0;34m[\u001b[0m\u001b[0mx\u001b[0m\u001b[0;34m,\u001b[0m\u001b[0my\u001b[0m\u001b[0;34m,\u001b[0m\u001b[0mz\u001b[0m\u001b[0;34m]\u001b[0m\u001b[0;34m)\u001b[0m\u001b[0;34m)\u001b[0m\u001b[0;34m\u001b[0m\u001b[0;34m\u001b[0m\u001b[0m\n\u001b[0m",
      "\u001b[0;32m~/.local/lib/python3.10/site-packages/numpy/core/overrides.py\u001b[0m in \u001b[0;36mcolumn_stack\u001b[0;34m(*args, **kwargs)\u001b[0m\n",
      "\u001b[0;32m~/.local/lib/python3.10/site-packages/numpy/lib/shape_base.py\u001b[0m in \u001b[0;36mcolumn_stack\u001b[0;34m(tup)\u001b[0m\n\u001b[1;32m    654\u001b[0m             \u001b[0marr\u001b[0m \u001b[0;34m=\u001b[0m \u001b[0marray\u001b[0m\u001b[0;34m(\u001b[0m\u001b[0marr\u001b[0m\u001b[0;34m,\u001b[0m \u001b[0mcopy\u001b[0m\u001b[0;34m=\u001b[0m\u001b[0;32mFalse\u001b[0m\u001b[0;34m,\u001b[0m \u001b[0msubok\u001b[0m\u001b[0;34m=\u001b[0m\u001b[0;32mTrue\u001b[0m\u001b[0;34m,\u001b[0m \u001b[0mndmin\u001b[0m\u001b[0;34m=\u001b[0m\u001b[0;36m2\u001b[0m\u001b[0;34m)\u001b[0m\u001b[0;34m.\u001b[0m\u001b[0mT\u001b[0m\u001b[0;34m\u001b[0m\u001b[0;34m\u001b[0m\u001b[0m\n\u001b[1;32m    655\u001b[0m         \u001b[0marrays\u001b[0m\u001b[0;34m.\u001b[0m\u001b[0mappend\u001b[0m\u001b[0;34m(\u001b[0m\u001b[0marr\u001b[0m\u001b[0;34m)\u001b[0m\u001b[0;34m\u001b[0m\u001b[0;34m\u001b[0m\u001b[0m\n\u001b[0;32m--> 656\u001b[0;31m     \u001b[0;32mreturn\u001b[0m \u001b[0m_nx\u001b[0m\u001b[0;34m.\u001b[0m\u001b[0mconcatenate\u001b[0m\u001b[0;34m(\u001b[0m\u001b[0marrays\u001b[0m\u001b[0;34m,\u001b[0m \u001b[0;36m1\u001b[0m\u001b[0;34m)\u001b[0m\u001b[0;34m\u001b[0m\u001b[0;34m\u001b[0m\u001b[0m\n\u001b[0m\u001b[1;32m    657\u001b[0m \u001b[0;34m\u001b[0m\u001b[0m\n\u001b[1;32m    658\u001b[0m \u001b[0;34m\u001b[0m\u001b[0m\n",
      "\u001b[0;32m~/.local/lib/python3.10/site-packages/numpy/core/overrides.py\u001b[0m in \u001b[0;36mconcatenate\u001b[0;34m(*args, **kwargs)\u001b[0m\n",
      "\u001b[0;31mValueError\u001b[0m: all the input array dimensions except for the concatenation axis must match exactly, but along dimension 0, the array at index 0 has size 100 and the array at index 2 has size 1"
     ]
    }
   ],
   "source": [
    "import pandas as pd\n",
    "\n",
    "df = pd.DataFrame(np.column_stack([x,y,z]))"
   ]
  },
  {
   "cell_type": "code",
   "execution_count": null,
   "id": "a63873e8",
   "metadata": {},
   "outputs": [],
   "source": []
  },
  {
   "cell_type": "code",
   "execution_count": null,
   "id": "8931a19d",
   "metadata": {},
   "outputs": [],
   "source": [
    "rot_mat = np.eye(3) # zero degree\n",
    "rot_mat = np.array([[0,-1,0],[1,0,0],[0,0,1]]) #90 degree"
   ]
  },
  {
   "cell_type": "code",
   "execution_count": null,
   "id": "9c3d7bde",
   "metadata": {},
   "outputs": [],
   "source": [
    "np.matmul(df.,rot_mat)"
   ]
  },
  {
   "cell_type": "code",
   "execution_count": null,
   "id": "bf2dea5b",
   "metadata": {},
   "outputs": [],
   "source": [
    "import numpy as np\n",
    "from matplotlib import pyplot as plt\n",
    "\n",
    "# Define ellipsoid parameters (adjust these values)\n",
    "a = 10  # Semi-major axis (x-direction)\n",
    "b = 20  # Semi-minor axis (y-direction)\n",
    "c = 5  # Semi-minor axis (z-direction)\n",
    "\n",
    "# Define decay function (exponential decay in this example)\n",
    "def decay(distance):\n",
    "    return np.exp(-distance / 2)  # Adjust decay rate as needed\n",
    "\n",
    "# Generate grid of points for the contour plot (focusing on positive x-axis)\n",
    "x = np.linspace(0, a, 100)  # Only positive x-values\n",
    "y = np.linspace(-b, b, 100)\n",
    "\n",
    "X, Y = np.meshgrid(x, y)\n",
    "\n",
    "# Calculate distance from origin for each point\n",
    "Z = np.sqrt(X**2 / a**2 + Y**2 / b**2)\n",
    "\n",
    "# Apply decay function\n",
    "Z = Z * decay(np.sqrt(X**2 + Y**2))\n",
    "\n",
    "# Create contour plot\n",
    "fig, ax = plt.subplots()\n",
    "ax.contourf(X, Y, Z, cmap='viridis')  # Adjust colormap for visualization\n",
    "\n",
    "# Set labels and title\n",
    "ax.set_xlabel('X')\n",
    "ax.set_ylabel('Y')\n",
    "plt.title('Contour Plot of Antenna Radiation Pattern (Ellipsoid)')\n",
    "\n",
    "# Optional: Add a point for the antenna at (0, 0)\n",
    "ax.scatter(0, 0, c='red', marker='o', label='Antenna')\n",
    "plt.legend()\n",
    "\n",
    "# Set limits to exclude negative x-axis\n",
    "ax.set_xlim([0, a])\n",
    "\n",
    "plt.show()"
   ]
  },
  {
   "cell_type": "code",
   "execution_count": null,
   "id": "6021b091",
   "metadata": {},
   "outputs": [],
   "source": []
  },
  {
   "cell_type": "code",
   "execution_count": null,
   "id": "faea236f",
   "metadata": {},
   "outputs": [],
   "source": []
  }
 ],
 "metadata": {
  "kernelspec": {
   "display_name": "Python 3 (ipykernel)",
   "language": "python",
   "name": "python3"
  },
  "language_info": {
   "codemirror_mode": {
    "name": "ipython",
    "version": 3
   },
   "file_extension": ".py",
   "mimetype": "text/x-python",
   "name": "python",
   "nbconvert_exporter": "python",
   "pygments_lexer": "ipython3",
   "version": "3.10.12"
  }
 },
 "nbformat": 4,
 "nbformat_minor": 5
}
