{
 "cells": [
  {
   "cell_type": "code",
   "execution_count": 1,
   "id": "33a15a99",
   "metadata": {},
   "outputs": [
    {
     "name": "stdout",
     "output_type": "stream",
     "text": [
      "1 added to Station_1's antennas.\n",
      "1 added to Station_2's antennas.\n",
      "1 added to Station_3's antennas.\n"
     ]
    }
   ],
   "source": [
    "from WingWatch.Intersections.detection import Detection\n",
    "from WingWatch.Intersections import tri\n",
    "import trimesh\n",
    "import pycork\n",
    "import pandas as pd\n",
    "import numpy as np\n",
    "import WingWatch.Intersections.physicalTrackLimiter as PTL\n",
    "from WingWatch.Equipment import station\n",
    "from WingWatch.Equipment import antenna\n",
    "from WingWatch.Tools import translation,spheres\n",
    "from WingWatch.Tools import point_check as pc\n",
    "import matplotlib.pyplot as plt\n",
    "import scipy.spatial as ss\n",
    "\n",
    "test_data_file = 'Fake_Calibration_Data.csv'\n",
    "df = pd.read_csv(test_data_file)\n",
    "\n",
    "\n",
    "Station_1 = station.Station('Station_1',41.1479, -71.5901)\n",
    "Station_1_Comp_Data = pd.read_csv(test_data_file)\n",
    "Station_2_pos = translation.convert_back_to_lla([0,-200,0],Station_1.lat,Station_1.long,Station_1.alt)\n",
    "Station_3_pos = translation.convert_back_to_lla([100*np.sqrt(3),-100,0],Station_1.lat,Station_1.long,Station_1.alt)\n",
    "\n",
    "\n",
    "freq_of_antenna_MHz = 434\n",
    "antenna_number = '1'\n",
    "antenna_type = 'test'\n",
    "bearing_of_antenna = 0 \n",
    "\n",
    "\n",
    "a1 = antenna.Antenna(antenna_number,antenna_type,bearing_of_antenna,freq_of_antenna_MHz)\n",
    "a1.assign_pattern(Station_1_Comp_Data)\n",
    "Station_1.add_antenna(a1)\n",
    "\n",
    "Station_2 = station.Station('Station_2',Station_2_pos[0], Station_2_pos[1])\n",
    "Station_2_Comp_Data = pd.read_csv(test_data_file)\n",
    "\n",
    "\n",
    "a1 = antenna.Antenna(antenna_number,antenna_type,bearing_of_antenna,freq_of_antenna_MHz)\n",
    "a1.assign_pattern(Station_2_Comp_Data)\n",
    "Station_2.add_antenna(a1)\n",
    "\n",
    "\n",
    "\n",
    "\n",
    "Station_3 = station.Station('Station_3',Station_3_pos[0], Station_3_pos[1])\n",
    "Station_3_Comp_Data = pd.read_csv(test_data_file)\n",
    "\n",
    "a1 = antenna.Antenna(antenna_number,antenna_type,bearing_of_antenna,freq_of_antenna_MHz)\n",
    "a1.assign_pattern(Station_3_Comp_Data)\n",
    "Station_3.add_antenna(a1)\n"
   ]
  },
  {
   "cell_type": "code",
   "execution_count": 2,
   "id": "935989c8",
   "metadata": {},
   "outputs": [],
   "source": [
    "df_detections = pd.read_csv('straight_walk_Detections.csv')\n",
    "df_walk = pd.read_csv('straight_walk.csv')\n",
    "\n",
    "\n",
    "#first step, generate all of the single point detections\n",
    "g = 0 \n",
    "points_to_follow = []\n",
    "cx_cent = []\n",
    "cy_cent = []\n",
    "for i in range(len(df_detections['Station 1'])):\n",
    "    det1 = Detection(Station_1,df_detections['Station 1'][i],1)\n",
    "    det2 = Detection(Station_2,df_detections['Station 2'][i],1)\n",
    "    det3 = Detection(Station_3,df_detections['Station 3'][i],1)\n",
    "    data_to_send_through = [det1,det2,det3]\n",
    "    intersections,hull_of_intersections = tri.overlap_of_three_radiation_patterns(data_to_send_through)\n",
    "    points_to_follow.append(intersections)\n",
    "    cx = np.mean(hull_of_intersections.points[hull_of_intersections.vertices,0])\n",
    "    cy = np.mean(hull_of_intersections.points[hull_of_intersections.vertices,1])\n",
    "    cz = np.mean(hull_of_intersections.points[hull_of_intersections.vertices,2])\n",
    "    cx_cent.append(cx)\n",
    "    cy_cent.append(cy)\n",
    "    g += pc.point_in_hull(np.array([df_walk.iloc[i].X,df_walk.iloc[i].Y,df_walk.iloc[i].Z]),hull_of_intersections,tolerance=2.5)\n",
    "\n",
    "\n",
    "#g should be the same value as the len of the detections"
   ]
  },
  {
   "cell_type": "code",
   "execution_count": 3,
   "id": "4c20ef5a",
   "metadata": {},
   "outputs": [],
   "source": [
    "import WingWatch.Tools.spheres as sph"
   ]
  },
  {
   "cell_type": "code",
   "execution_count": 4,
   "id": "6c44da74",
   "metadata": {},
   "outputs": [
    {
     "data": {
      "text/plain": [
       "<matplotlib.collections.PathCollection at 0x7f725b04cd60>"
      ]
     },
     "execution_count": 4,
     "metadata": {},
     "output_type": "execute_result"
    },
    {
     "data": {
      "image/png": "[encoded data removed]",
      "text/plain": [
       "<Figure size 432x288 with 1 Axes>"
      ]
     },
     "metadata": {
      "needs_background": "light"
     },
     "output_type": "display_data"
    }
   ],
   "source": [
    "plt.scatter(cx_cent,cy_cent)\n",
    "plt.scatter(df_walk.X,df_walk.Y)"
   ]
  },
  {
   "cell_type": "code",
   "execution_count": 5,
   "id": "9472fd0d",
   "metadata": {},
   "outputs": [],
   "source": [
    "cx_appv = cx_cent[0:3]\n",
    "cy_appv = cy_cent[0:3]\n",
    "\n",
    "radius_list_oldest = []\n",
    "for i in range(len(points_to_follow)):\n",
    "    V = ss.ConvexHull(points_to_follow[i]).volume\n",
    "    radius = sph.find_radius_from_vol(V)\n",
    "    radius_list_oldest.append(radius)\n"
   ]
  },
  {
   "cell_type": "code",
   "execution_count": 6,
   "id": "09f40a71-c16e-4fca-afd7-34f1d7bcffb6",
   "metadata": {},
   "outputs": [],
   "source": [
    "cx_new = []\n",
    "cy_new = []\n",
    "points_to_follow_new = [points_to_follow[0]]\n",
    "cx_new.append(cx_cent[0])\n",
    "cy_new.append(cy_cent[0])\n",
    "\n",
    "i = 1\n",
    "\n",
    "intersections,hull_of_intersections = PTL.check_constraints(points_to_follow[i-1],points_to_follow[i],5,i)\n",
    "points_to_follow_new.append(intersections)\n",
    "\n",
    "\n",
    "radius_list = []\n",
    "for i in range(len(points_to_follow_new)):\n",
    "    V = ss.ConvexHull(points_to_follow_new[i]).volume\n",
    "    radius = sph.find_radius_from_vol(V)\n",
    "    radius_list.append(radius)\n"
   ]
  },
  {
   "cell_type": "code",
   "execution_count": 7,
   "id": "49c2a9d2-6a05-4bed-a958-5fbd9bde1e81",
   "metadata": {},
   "outputs": [
    {
     "data": {
      "text/plain": [
       "[236.87094998957127, 223.66948172928596]"
      ]
     },
     "execution_count": 7,
     "metadata": {},
     "output_type": "execute_result"
    }
   ],
   "source": [
    "radius_list"
   ]
  },
  {
   "cell_type": "code",
   "execution_count": null,
   "id": "5a36f0b7",
   "metadata": {},
   "outputs": [
    {
     "name": "stdout",
     "output_type": "stream",
     "text": [
      "1\n",
      "2\n",
      "3\n",
      "4\n",
      "5\n",
      "6\n",
      "7\n",
      "8\n",
      "9\n",
      "10\n",
      "11\n"
     ]
    }
   ],
   "source": [
    "cx_new = []\n",
    "cy_new = []\n",
    "points_to_follow_new = []\n",
    "\n",
    "for i in range(len(points_to_follow)):\n",
    "    if i == 0: \n",
    "        cx_new.append(cx_cent[i])\n",
    "        cy_new.append(cy_cent[i])\n",
    "        points_to_follow_new.append(points_to_follow[i])\n",
    "        continue\n",
    "    print(i)\n",
    "    intersections,hull_of_intersections = PTL.check_constraints(points_to_follow_new[i-1],points_to_follow[i],5,1)\n",
    "    points_to_follow_new.append(intersections)\n",
    "    cx = np.mean(hull_of_intersections.points[hull_of_intersections.vertices,0])\n",
    "    cy = np.mean(hull_of_intersections.points[hull_of_intersections.vertices,1])\n",
    "    cx_new.append(cx)\n",
    "    cy_new.append(cy)"
   ]
  },
  {
   "cell_type": "code",
   "execution_count": null,
   "id": "5f4480fb-7b3f-46d6-a935-6496147b6024",
   "metadata": {},
   "outputs": [],
   "source": [
    "i"
   ]
  },
  {
   "cell_type": "code",
   "execution_count": null,
   "id": "3392147c-98ef-4242-b397-b6f16a05365a",
   "metadata": {},
   "outputs": [],
   "source": [
    "radius_list = []\n",
    "for i in range(len(points_to_follow_new)):\n",
    "    V = ss.ConvexHull(points_to_follow_new[i],qhull_options='Q12').volume\n",
    "    radius = sph.find_radius_from_vol(V)\n",
    "    radius_list.append(radius)"
   ]
  },
  {
   "cell_type": "code",
   "execution_count": null,
   "id": "ccf51653-4f97-4763-997d-ea4d5927fe53",
   "metadata": {},
   "outputs": [],
   "source": [
    "radius_list"
   ]
  },
  {
   "cell_type": "code",
   "execution_count": null,
   "id": "55610e54-88cd-46cf-9727-4695eea82827",
   "metadata": {},
   "outputs": [],
   "source": [
    "df_detections.idxmin()"
   ]
  },
  {
   "cell_type": "code",
   "execution_count": null,
   "id": "98bae8bd-f38e-4c55-86bc-3ead76d18d74",
   "metadata": {},
   "outputs": [],
   "source": [
    "df_detections.min()"
   ]
  },
  {
   "cell_type": "code",
   "execution_count": null,
   "id": "f42b77fd-216f-4a5c-90cb-c0b15e1223c4",
   "metadata": {},
   "outputs": [],
   "source": [
    "import matplotlib.pyplot as plt\n",
    "\n",
    "df_walk = pd.read_csv('straight_walk.csv')\n",
    "\n",
    "\n",
    "\n",
    "# Example coordinates and radii\n",
    "x_coords = cx_cent\n",
    "y_coords = cy_cent\n",
    "radii = radius_list\n",
    "\n",
    "# Create a figure and axis\n",
    "fig, ax = plt.subplots()\n",
    "\n",
    "# Plot each circle\n",
    "for x, y, radius in zip(x_coords, y_coords, radii):\n",
    "    circle = plt.Circle((x, y), radius, edgecolor='blue', facecolor='none')  # Create a circle\n",
    "    ax.add_patch(circle)  # Add the circle to the plot\n",
    "\n",
    "# Set axis limits (for proper circle display)\n",
    "ax.set_xlim(min(x_coords) - max(radii), max(x_coords) + max(radii))\n",
    "ax.set_ylim(min(y_coords) - max(radii), max(y_coords) + max(radii))\n",
    "ax.set_aspect('equal', 'box')  # Ensure the aspect ratio is equal\n",
    "\n",
    "\n",
    "plt.scatter(0,0,label='Station 1')\n",
    "plt.scatter(0,-200,label='Station 2')\n",
    "plt.scatter(100*np.sqrt(3),-100,label='Station 3')\n",
    "plt.scatter(df_walk.X,df_walk.Y, label='Detection Walk')\n",
    "\n",
    "\n",
    "# Show plot\n",
    "plt.show()"
   ]
  },
  {
   "cell_type": "code",
   "execution_count": null,
   "id": "e3bae8bb-1fcf-4745-9e12-1f6dc84e0b99",
   "metadata": {},
   "outputs": [],
   "source": [
    "import matplotlib.pyplot as plt\n",
    "\n",
    "df_walk = pd.read_csv('straight_walk.csv')\n",
    "\n",
    "\n",
    "\n",
    "# Example coordinates and radii\n",
    "x_coords = cx_cent[60:80]\n",
    "y_coords = cy_cent[60:80]\n",
    "radii = radius_list[60:80]\n",
    "\n",
    "# Create a figure and axis\n",
    "fig, ax = plt.subplots()\n",
    "\n",
    "# Plot each circle\n",
    "for x, y, radius in zip(x_coords, y_coords, radii):\n",
    "    circle = plt.Circle((x, y), radius, edgecolor='blue', facecolor='none')  # Create a circle\n",
    "    ax.add_patch(circle)  # Add the circle to the plot\n",
    "\n",
    "# Set axis limits (for proper circle display)\n",
    "ax.set_xlim(min(x_coords) - max(radii), max(x_coords) + max(radii))\n",
    "ax.set_ylim(min(y_coords) - max(radii), max(y_coords) + max(radii))\n",
    "ax.set_aspect('equal', 'box')  # Ensure the aspect ratio is equal\n",
    "\n",
    "\n",
    "plt.scatter(0,0,label='Station 1')\n",
    "plt.scatter(0,-200,label='Station 2')\n",
    "plt.scatter(100*np.sqrt(3),-100,label='Station 3')\n",
    "plt.scatter(df_walk.X,df_walk.Y, label='Detection Walk')\n",
    "\n",
    "\n",
    "# Show plot\n",
    "plt.show()"
   ]
  },
  {
   "cell_type": "code",
   "execution_count": null,
   "id": "2dfa616a",
   "metadata": {},
   "outputs": [],
   "source": [
    "plt.scatter(cx_cent,cy_cent)\n",
    "plt.scatter(cx_new,cy_new)\n",
    "plt.scatter(df_walk.X,df_walk.Y)"
   ]
  },
  {
   "cell_type": "code",
   "execution_count": null,
   "id": "ec5992ce",
   "metadata": {},
   "outputs": [],
   "source": [
    "plt.scatter(intersections[:,0],intersections[:,1])\n",
    "\n",
    "cx = np.mean(hull_of_intersections.points[hull_of_intersections.vertices,0])\n",
    "cy = np.mean(hull_of_intersections.points[hull_of_intersections.vertices,1])\n",
    "\n",
    "#plt.scatter(cx_cent,cy_cent)\n",
    "plt.scatter(df_walk.X,df_walk.Y)\n",
    "\n",
    "plt.scatter(cx,cy)"
   ]
  },
  {
   "cell_type": "code",
   "execution_count": null,
   "id": "1497aa51-f3de-431c-bc57-dfb5ec973d07",
   "metadata": {},
   "outputs": [],
   "source": [
    "df_detections.idxmin()"
   ]
  },
  {
   "cell_type": "code",
   "execution_count": null,
   "id": "e220972f",
   "metadata": {},
   "outputs": [],
   "source": [
    "cx_new = []\n",
    "cy_new = []\n",
    "points_to_follow_new = []\n",
    "\n",
    "for i in range(71,len(points_to_follow)):\n",
    "    #for i in range(3):\n",
    "    if i == 0: \n",
    "        cx_new.append(cx_cent[i])\n",
    "        cy_new.append(cy_cent[i])\n",
    "        continue\n",
    "    intersections,hull_of_intersections = PTL.check_constraints(points_to_follow[i-1],points_to_follow[i],5,i)\n",
    "    points_to_follow_new.append(intersections)\n",
    "    cx = np.mean(hull_of_intersections.points[hull_of_intersections.vertices,0])\n",
    "    cy = np.mean(hull_of_intersections.points[hull_of_intersections.vertices,1])\n",
    "    cx_new.append(cx)\n",
    "    cy_new.append(cy)"
   ]
  },
  {
   "cell_type": "code",
   "execution_count": null,
   "id": "77389ccd",
   "metadata": {},
   "outputs": [],
   "source": [
    "radius_list_new = []\n",
    "for i in range(len(points_to_follow_new)):\n",
    "    V = ss.ConvexHull(points_to_follow_new[i],qhull_options='Q12').volume\n",
    "    radius = sph.find_radius_from_vol(V)\n",
    "    radius_list_new.append(radius)"
   ]
  },
  {
   "cell_type": "code",
   "execution_count": null,
   "id": "53d0a218-cdf6-42ed-b502-03943d82cb29",
   "metadata": {},
   "outputs": [],
   "source": [
    "radius_list_new"
   ]
  },
  {
   "cell_type": "code",
   "execution_count": null,
   "id": "7a3f706f-f3a1-4231-aa7b-e75d28fcec75",
   "metadata": {},
   "outputs": [],
   "source": [
    "radius_list_new"
   ]
  },
  {
   "cell_type": "code",
   "execution_count": null,
   "id": "827ce2e6-d987-4f16-80ea-2116a7efb0b6",
   "metadata": {},
   "outputs": [],
   "source": [
    "radius_list[70:]"
   ]
  },
  {
   "cell_type": "code",
   "execution_count": null,
   "id": "55e0ad0a-5d6f-4846-b776-9fe529bb437f",
   "metadata": {},
   "outputs": [],
   "source": [
    "radius_list_oldest[70:]"
   ]
  },
  {
   "cell_type": "code",
   "execution_count": null,
   "id": "b2d42c5c-5192-4fe7-9f3d-d01a44fc271b",
   "metadata": {},
   "outputs": [],
   "source": []
  }
 ],
 "metadata": {
  "kernelspec": {
   "display_name": "Python 3 (ipykernel)",
   "language": "python",
   "name": "python3"
  },
  "language_info": {
   "codemirror_mode": {
    "name": "ipython",
    "version": 3
   },
   "file_extension": ".py",
   "mimetype": "text/x-python",
   "name": "python",
   "nbconvert_exporter": "python",
   "pygments_lexer": "ipython3",
   "version": "3.10.12"
  }
 },
 "nbformat": 4,
 "nbformat_minor": 5
}
