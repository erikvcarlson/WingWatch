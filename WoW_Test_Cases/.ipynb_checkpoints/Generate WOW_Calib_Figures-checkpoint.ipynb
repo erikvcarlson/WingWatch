{
 "cells": [
  {
   "cell_type": "code",
   "execution_count": 1,
   "id": "c7c7e17a",
   "metadata": {},
   "outputs": [],
   "source": [
    "import sys\n",
    "#sys.path.insert(1, '/home/user/Research/base-WingWatch')\n",
    "sys.path.insert(1, '/home/main/Research/WingWatch')\n",
    "\n",
    "from WingWatch.Equipment import station\n",
    "from WingWatch.Equipment import antenna\n",
    "from WingWatch.Intersections import montecarlo\n",
    "from WingWatch.Tools import translation\n",
    "from WingWatch.Calibration import clean_data\n",
    "\n",
    "import pandas as pd\n",
    "import numpy as np\n",
    "import matplotlib.pyplot as plt\n",
    "\n"
   ]
  },
  {
   "cell_type": "code",
   "execution_count": 2,
   "id": "17320ba2",
   "metadata": {},
   "outputs": [
    {
     "name": "stderr",
     "output_type": "stream",
     "text": [
      "/home/main/Research/WingWatch/WingWatch/Calibration/clean_data.py:73: SettingWithCopyWarning: \n",
      "A value is trying to be set on a copy of a slice from a DataFrame.\n",
      "Try using .loc[row_indexer,col_indexer] = value instead\n",
      "\n",
      "See the caveats in the documentation: https://pandas.pydata.org/pandas-docs/stable/user_guide/indexing.html#returning-a-view-versus-a-copy\n",
      "  df_gps_reduced_col['time'] = pd.to_datetime(df_gps_reduced_col['time']).astype(int) / 10**9\n"
     ]
    }
   ],
   "source": [
    "cleaned_gps_data = clean_data.clean_gps_data_csv(\"track_points.csv\")\n"
   ]
  },
  {
   "cell_type": "code",
   "execution_count": 3,
   "id": "3a74a079",
   "metadata": {},
   "outputs": [
    {
     "name": "stderr",
     "output_type": "stream",
     "text": [
      "/home/main/Research/WingWatch/WingWatch/Calibration/clean_data.py:48: SettingWithCopyWarning: \n",
      "A value is trying to be set on a copy of a slice from a DataFrame.\n",
      "Try using .loc[row_indexer,col_indexer] = value instead\n",
      "\n",
      "See the caveats in the documentation: https://pandas.pydata.org/pandas-docs/stable/user_guide/indexing.html#returning-a-view-versus-a-copy\n",
      "  calibration_tags_only['port'] = port_cleaned\n"
     ]
    }
   ],
   "source": [
    "cleaned_tag_data = clean_data.clean_motus_Tag_data(\"allTagsSub390_1.csv\",start_date=\"\",end_date='2025-06-30',calibration_tags_list=[82521,82516])\n"
   ]
  },
  {
   "cell_type": "code",
   "execution_count": 4,
   "id": "b2d16ffd",
   "metadata": {},
   "outputs": [],
   "source": [
    "SOI = ['SE_Light_434','Black_Rock_434','BIWF_Turbine1']\n",
    "SOI_Lat = [41.15308,41.14792,41.12579]\n",
    "SOI_Long = [-71.55141,-71.59009,-71.50742]\n",
    "SOI_Alt = [20,20,20]"
   ]
  },
  {
   "cell_type": "code",
   "execution_count": 5,
   "id": "8a439257",
   "metadata": {},
   "outputs": [],
   "source": [
    "data_dataframe = clean_data.merge_gps_and_tag_data(cleaned_tag_data,cleaned_gps_data,stations_of_interest=SOI)\n"
   ]
  },
  {
   "cell_type": "code",
   "execution_count": 6,
   "id": "a7e7f304",
   "metadata": {},
   "outputs": [],
   "source": [
    "for i in range(len(SOI)):\n",
    "    for j in range(5):\n",
    "        temp_data_frame = clean_data.generate_antenna_station_calib_file(data_dataframe,station_of_interest=SOI[i],antenna=j+1,ref_lat = SOI_Lat[i], ref_long = SOI_Long[i], ref_alt = SOI_Alt[i])\n",
    "        temp_data_frame = temp_data_frame.dropna(axis=0)\n",
    "        plt.scatter(temp_data_frame.X,temp_data_frame.Y,c=temp_data_frame.RSSI)\n",
    "        plt.scatter(0,0,color='black')\n",
    "        plt.savefig(SOI[i] + '_' + str(j) + '_calib_fig.pdf')\n",
    "        plt.close()\n",
    "        temp_data_frame.to_csv(SOI[i] + '_' + str(j) + '_calib.csv')"
   ]
  },
  {
   "cell_type": "code",
   "execution_count": 7,
   "id": "8002cc33",
   "metadata": {},
   "outputs": [],
   "source": [
    "SE_Light = data_dataframe[data_dataframe['recvDeployName'] =='SE_Light_434']"
   ]
  },
  {
   "cell_type": "code",
   "execution_count": 13,
   "id": "09f1ba10",
   "metadata": {},
   "outputs": [
    {
     "data": {
      "text/html": [
       "<div>\n",
       "<style scoped>\n",
       "    .dataframe tbody tr th:only-of-type {\n",
       "        vertical-align: middle;\n",
       "    }\n",
       "\n",
       "    .dataframe tbody tr th {\n",
       "        vertical-align: top;\n",
       "    }\n",
       "\n",
       "    .dataframe thead th {\n",
       "        text-align: right;\n",
       "    }\n",
       "</style>\n",
       "<table border=\"1\" class=\"dataframe\">\n",
       "  <thead>\n",
       "    <tr style=\"text-align: right;\">\n",
       "      <th></th>\n",
       "      <th>tsCorrected</th>\n",
       "      <th>sig</th>\n",
       "      <th>port</th>\n",
       "      <th>recvDeployName</th>\n",
       "      <th>motusTagID</th>\n",
       "      <th>mfgID</th>\n",
       "      <th>Y</th>\n",
       "      <th>X</th>\n",
       "      <th>ele</th>\n",
       "    </tr>\n",
       "  </thead>\n",
       "  <tbody>\n",
       "    <tr>\n",
       "      <th>0</th>\n",
       "      <td>1.710948e+09</td>\n",
       "      <td>-89.0</td>\n",
       "      <td>2</td>\n",
       "      <td>SE_Light_434</td>\n",
       "      <td>82521</td>\n",
       "      <td>61332A2D</td>\n",
       "      <td>41.153206</td>\n",
       "      <td>-71.551734</td>\n",
       "      <td>51.8</td>\n",
       "    </tr>\n",
       "    <tr>\n",
       "      <th>1</th>\n",
       "      <td>1.710948e+09</td>\n",
       "      <td>-95.0</td>\n",
       "      <td>3</td>\n",
       "      <td>SE_Light_434</td>\n",
       "      <td>82521</td>\n",
       "      <td>61332A2D</td>\n",
       "      <td>41.153206</td>\n",
       "      <td>-71.551734</td>\n",
       "      <td>51.8</td>\n",
       "    </tr>\n",
       "    <tr>\n",
       "      <th>2</th>\n",
       "      <td>1.710948e+09</td>\n",
       "      <td>-90.0</td>\n",
       "      <td>5</td>\n",
       "      <td>SE_Light_434</td>\n",
       "      <td>82521</td>\n",
       "      <td>61332A2D</td>\n",
       "      <td>41.153206</td>\n",
       "      <td>-71.551734</td>\n",
       "      <td>51.8</td>\n",
       "    </tr>\n",
       "    <tr>\n",
       "      <th>3</th>\n",
       "      <td>1.710948e+09</td>\n",
       "      <td>-95.0</td>\n",
       "      <td>3</td>\n",
       "      <td>SE_Light_434</td>\n",
       "      <td>82521</td>\n",
       "      <td>61332A2D</td>\n",
       "      <td>41.153206</td>\n",
       "      <td>-71.551734</td>\n",
       "      <td>47.0</td>\n",
       "    </tr>\n",
       "    <tr>\n",
       "      <th>4</th>\n",
       "      <td>1.710948e+09</td>\n",
       "      <td>-91.0</td>\n",
       "      <td>5</td>\n",
       "      <td>SE_Light_434</td>\n",
       "      <td>82521</td>\n",
       "      <td>61332A2D</td>\n",
       "      <td>41.153206</td>\n",
       "      <td>-71.551734</td>\n",
       "      <td>47.0</td>\n",
       "    </tr>\n",
       "    <tr>\n",
       "      <th>...</th>\n",
       "      <td>...</td>\n",
       "      <td>...</td>\n",
       "      <td>...</td>\n",
       "      <td>...</td>\n",
       "      <td>...</td>\n",
       "      <td>...</td>\n",
       "      <td>...</td>\n",
       "      <td>...</td>\n",
       "      <td>...</td>\n",
       "    </tr>\n",
       "    <tr>\n",
       "      <th>51547</th>\n",
       "      <td>1.717171e+09</td>\n",
       "      <td>-107.0</td>\n",
       "      <td>1</td>\n",
       "      <td>SE_Light_434</td>\n",
       "      <td>82521</td>\n",
       "      <td>61332A2D</td>\n",
       "      <td>41.153145</td>\n",
       "      <td>-71.551676</td>\n",
       "      <td>60.6</td>\n",
       "    </tr>\n",
       "    <tr>\n",
       "      <th>51548</th>\n",
       "      <td>1.717171e+09</td>\n",
       "      <td>-96.0</td>\n",
       "      <td>3</td>\n",
       "      <td>SE_Light_434</td>\n",
       "      <td>82521</td>\n",
       "      <td>61332A2D</td>\n",
       "      <td>41.153143</td>\n",
       "      <td>-71.551677</td>\n",
       "      <td>60.6</td>\n",
       "    </tr>\n",
       "    <tr>\n",
       "      <th>51549</th>\n",
       "      <td>1.717171e+09</td>\n",
       "      <td>-78.0</td>\n",
       "      <td>2</td>\n",
       "      <td>SE_Light_434</td>\n",
       "      <td>82521</td>\n",
       "      <td>61332A2D</td>\n",
       "      <td>41.153143</td>\n",
       "      <td>-71.551677</td>\n",
       "      <td>60.6</td>\n",
       "    </tr>\n",
       "    <tr>\n",
       "      <th>51550</th>\n",
       "      <td>1.717171e+09</td>\n",
       "      <td>-81.0</td>\n",
       "      <td>5</td>\n",
       "      <td>SE_Light_434</td>\n",
       "      <td>82521</td>\n",
       "      <td>61332A2D</td>\n",
       "      <td>41.153143</td>\n",
       "      <td>-71.551677</td>\n",
       "      <td>60.6</td>\n",
       "    </tr>\n",
       "    <tr>\n",
       "      <th>51551</th>\n",
       "      <td>1.717171e+09</td>\n",
       "      <td>-93.0</td>\n",
       "      <td>4</td>\n",
       "      <td>SE_Light_434</td>\n",
       "      <td>82521</td>\n",
       "      <td>61332A2D</td>\n",
       "      <td>41.153143</td>\n",
       "      <td>-71.551677</td>\n",
       "      <td>60.6</td>\n",
       "    </tr>\n",
       "  </tbody>\n",
       "</table>\n",
       "<p>20807 rows × 9 columns</p>\n",
       "</div>"
      ],
      "text/plain": [
       "        tsCorrected    sig  port recvDeployName  motusTagID     mfgID  \\\n",
       "0      1.710948e+09  -89.0     2   SE_Light_434       82521  61332A2D   \n",
       "1      1.710948e+09  -95.0     3   SE_Light_434       82521  61332A2D   \n",
       "2      1.710948e+09  -90.0     5   SE_Light_434       82521  61332A2D   \n",
       "3      1.710948e+09  -95.0     3   SE_Light_434       82521  61332A2D   \n",
       "4      1.710948e+09  -91.0     5   SE_Light_434       82521  61332A2D   \n",
       "...             ...    ...   ...            ...         ...       ...   \n",
       "51547  1.717171e+09 -107.0     1   SE_Light_434       82521  61332A2D   \n",
       "51548  1.717171e+09  -96.0     3   SE_Light_434       82521  61332A2D   \n",
       "51549  1.717171e+09  -78.0     2   SE_Light_434       82521  61332A2D   \n",
       "51550  1.717171e+09  -81.0     5   SE_Light_434       82521  61332A2D   \n",
       "51551  1.717171e+09  -93.0     4   SE_Light_434       82521  61332A2D   \n",
       "\n",
       "               Y          X   ele  \n",
       "0      41.153206 -71.551734  51.8  \n",
       "1      41.153206 -71.551734  51.8  \n",
       "2      41.153206 -71.551734  51.8  \n",
       "3      41.153206 -71.551734  47.0  \n",
       "4      41.153206 -71.551734  47.0  \n",
       "...          ...        ...   ...  \n",
       "51547  41.153145 -71.551676  60.6  \n",
       "51548  41.153143 -71.551677  60.6  \n",
       "51549  41.153143 -71.551677  60.6  \n",
       "51550  41.153143 -71.551677  60.6  \n",
       "51551  41.153143 -71.551677  60.6  \n",
       "\n",
       "[20807 rows x 9 columns]"
      ]
     },
     "execution_count": 13,
     "metadata": {},
     "output_type": "execute_result"
    }
   ],
   "source": [
    "SE_Light[SE_Light.mfgID=='61332A2D']"
   ]
  },
  {
   "cell_type": "code",
   "execution_count": 16,
   "id": "c831c37d",
   "metadata": {},
   "outputs": [],
   "source": [
    "BRR = data_dataframe[data_dataframe['recvDeployName'] =='Black_Rock_434']"
   ]
  },
  {
   "cell_type": "code",
   "execution_count": 21,
   "id": "223720a1",
   "metadata": {},
   "outputs": [],
   "source": [
    "filtered_df = BRR[~((BRR['mfgID'] == '61332A2D') & (BRR['tsCorrected'] > 1717214399))]\n"
   ]
  },
  {
   "cell_type": "code",
   "execution_count": 23,
   "id": "81e17f61",
   "metadata": {},
   "outputs": [
    {
     "data": {
      "text/plain": [
       "1717603050.0"
      ]
     },
     "execution_count": 23,
     "metadata": {},
     "output_type": "execute_result"
    }
   ],
   "source": [
    "filtered_df.tsCorrected[98695]"
   ]
  },
  {
   "cell_type": "code",
   "execution_count": 9,
   "id": "ce62b569",
   "metadata": {},
   "outputs": [],
   "source": [
    "BRR = data_dataframe[data_dataframe['recvDeployName'] =='SE_Light_434']"
   ]
  },
  {
   "cell_type": "code",
   "execution_count": 10,
   "id": "74c80ea9",
   "metadata": {},
   "outputs": [
    {
     "data": {
      "text/plain": [
       "<matplotlib.collections.PathCollection at 0x7f6144d433a0>"
      ]
     },
     "execution_count": 10,
     "metadata": {},
     "output_type": "execute_result"
    },
    {
     "data": {
      "image/png": "[encoded data removed]",
      "text/plain": [
       "<Figure size 432x288 with 1 Axes>"
      ]
     },
     "metadata": {
      "needs_background": "light"
     },
     "output_type": "display_data"
    }
   ],
   "source": [
    "plt.scatter(BRR.Y,BRR.X,c=BRR.sig)"
   ]
  },
  {
   "cell_type": "code",
   "execution_count": 13,
   "id": "37a04db5",
   "metadata": {},
   "outputs": [
    {
     "data": {
      "text/html": [
       "<div>\n",
       "<style scoped>\n",
       "    .dataframe tbody tr th:only-of-type {\n",
       "        vertical-align: middle;\n",
       "    }\n",
       "\n",
       "    .dataframe tbody tr th {\n",
       "        vertical-align: top;\n",
       "    }\n",
       "\n",
       "    .dataframe thead th {\n",
       "        text-align: right;\n",
       "    }\n",
       "</style>\n",
       "<table border=\"1\" class=\"dataframe\">\n",
       "  <thead>\n",
       "    <tr style=\"text-align: right;\">\n",
       "      <th></th>\n",
       "      <th>tsCorrected</th>\n",
       "      <th>sig</th>\n",
       "      <th>port</th>\n",
       "      <th>recvDeployName</th>\n",
       "      <th>motusTagID</th>\n",
       "      <th>mfgID</th>\n",
       "      <th>Y</th>\n",
       "      <th>X</th>\n",
       "      <th>ele</th>\n",
       "    </tr>\n",
       "  </thead>\n",
       "  <tbody>\n",
       "  </tbody>\n",
       "</table>\n",
       "</div>"
      ],
      "text/plain": [
       "Empty DataFrame\n",
       "Columns: [tsCorrected, sig, port, recvDeployName, motusTagID, mfgID, Y, X, ele]\n",
       "Index: []"
      ]
     },
     "execution_count": 13,
     "metadata": {},
     "output_type": "execute_result"
    }
   ],
   "source": [
    "SE_Light[SE_Light.tsCorrected > 1717545600]"
   ]
  },
  {
   "cell_type": "code",
   "execution_count": 18,
   "id": "36e18019",
   "metadata": {},
   "outputs": [
    {
     "data": {
      "text/plain": [
       "146831"
      ]
     },
     "execution_count": 18,
     "metadata": {},
     "output_type": "execute_result"
    }
   ],
   "source": [
    "1717692431-1717545600"
   ]
  },
  {
   "cell_type": "code",
   "execution_count": 20,
   "id": "377acc17",
   "metadata": {},
   "outputs": [
    {
     "data": {
      "text/plain": [
       "1717172089.0"
      ]
     },
     "execution_count": 20,
     "metadata": {},
     "output_type": "execute_result"
    }
   ],
   "source": [
    "max(cleaned_tag_data.tsCorrected)"
   ]
  },
  {
   "cell_type": "code",
   "execution_count": 22,
   "id": "8fa68e9f",
   "metadata": {},
   "outputs": [
    {
     "data": {
      "text/plain": [
       "0.9997825321202535"
      ]
     },
     "execution_count": 22,
     "metadata": {},
     "output_type": "execute_result"
    }
   ],
   "source": [
    "1717172089.0/1717545600"
   ]
  },
  {
   "cell_type": "code",
   "execution_count": null,
   "id": "86aa4eba",
   "metadata": {},
   "outputs": [],
   "source": []
  }
 ],
 "metadata": {
  "kernelspec": {
   "display_name": "Python 3 (ipykernel)",
   "language": "python",
   "name": "python3"
  },
  "language_info": {
   "codemirror_mode": {
    "name": "ipython",
    "version": 3
   },
   "file_extension": ".py",
   "mimetype": "text/x-python",
   "name": "python",
   "nbconvert_exporter": "python",
   "pygments_lexer": "ipython3",
   "version": "3.10.12"
  }
 },
 "nbformat": 4,
 "nbformat_minor": 5
}
