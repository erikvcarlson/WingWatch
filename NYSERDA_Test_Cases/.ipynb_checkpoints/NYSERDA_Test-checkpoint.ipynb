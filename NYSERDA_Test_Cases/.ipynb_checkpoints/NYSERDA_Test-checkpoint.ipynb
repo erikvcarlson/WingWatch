{
 "cells": [
  {
   "cell_type": "code",
   "execution_count": 2,
   "id": "58b5269c",
   "metadata": {},
   "outputs": [],
   "source": [
    "import sys\n",
    "sys.path.insert(1, '/home/user/Research/base-WingWatch')\n",
    "\n",
    "from WingWatch.Equipment import station\n",
    "from WingWatch.Equipment import antenna\n",
    "from WingWatch.Intersections import montecarlo\n",
    "from WingWatch.Tools import translation\n",
    "from WingWatch.Calibration import clean_data\n",
    "\n",
    "import pandas as pd\n",
    "import numpy as np"
   ]
  },
  {
   "cell_type": "code",
   "execution_count": 3,
   "id": "72fbca0d",
   "metadata": {},
   "outputs": [],
   "source": [
    "df = pd.read_csv('SE_Light_434_0_calib.csv')"
   ]
  },
  {
   "cell_type": "code",
   "execution_count": 4,
   "id": "8a7697d3",
   "metadata": {},
   "outputs": [],
   "source": [
    "string = 'SE_Light_434_0_calib.csv'"
   ]
  },
  {
   "cell_type": "code",
   "execution_count": 5,
   "id": "23987f19",
   "metadata": {},
   "outputs": [
    {
     "data": {
      "text/plain": [
       "'.csv'"
      ]
     },
     "execution_count": 5,
     "metadata": {},
     "output_type": "execute_result"
    }
   ],
   "source": [
    "string[-4:]"
   ]
  },
  {
   "cell_type": "code",
   "execution_count": 6,
   "id": "d320ec10",
   "metadata": {},
   "outputs": [
    {
     "ename": "AttributeError",
     "evalue": "'Antenna' object has no attribute 'rad_pattern'",
     "output_type": "error",
     "traceback": [
      "\u001b[0;31m---------------------------------------------------------------------------\u001b[0m",
      "\u001b[0;31mAttributeError\u001b[0m                            Traceback (most recent call last)",
      "\u001b[0;32m/tmp/ipykernel_298644/229174568.py\u001b[0m in \u001b[0;36m<module>\u001b[0;34m\u001b[0m\n\u001b[1;32m      5\u001b[0m \u001b[0ma1\u001b[0m \u001b[0;34m=\u001b[0m \u001b[0mantenna\u001b[0m\u001b[0;34m.\u001b[0m\u001b[0mAntenna\u001b[0m\u001b[0;34m(\u001b[0m\u001b[0;34m'1'\u001b[0m\u001b[0;34m,\u001b[0m\u001b[0;34m'yagi'\u001b[0m\u001b[0;34m,\u001b[0m\u001b[0;36m0\u001b[0m\u001b[0;34m,\u001b[0m\u001b[0;36m434\u001b[0m\u001b[0;34m)\u001b[0m\u001b[0;34m\u001b[0m\u001b[0;34m\u001b[0m\u001b[0m\n\u001b[1;32m      6\u001b[0m \u001b[0ma1\u001b[0m\u001b[0;34m.\u001b[0m\u001b[0massign_pattern\u001b[0m\u001b[0;34m(\u001b[0m\u001b[0;34m'SE_Light_434_0_calib.csv'\u001b[0m\u001b[0;34m)\u001b[0m\u001b[0;34m\u001b[0m\u001b[0;34m\u001b[0m\u001b[0m\n\u001b[0;32m----> 7\u001b[0;31m \u001b[0ma1\u001b[0m\u001b[0;34m.\u001b[0m\u001b[0mconvert_to_lat_long\u001b[0m\u001b[0;34m(\u001b[0m\u001b[0mSEL_Station\u001b[0m\u001b[0;34m)\u001b[0m\u001b[0;34m\u001b[0m\u001b[0;34m\u001b[0m\u001b[0m\n\u001b[0m\u001b[1;32m      8\u001b[0m \u001b[0;34m\u001b[0m\u001b[0m\n\u001b[1;32m      9\u001b[0m \u001b[0ma2\u001b[0m \u001b[0;34m=\u001b[0m \u001b[0mantenna\u001b[0m\u001b[0;34m.\u001b[0m\u001b[0mAntenna\u001b[0m\u001b[0;34m(\u001b[0m\u001b[0;34m'2'\u001b[0m\u001b[0;34m,\u001b[0m\u001b[0;34m'yagi'\u001b[0m\u001b[0;34m,\u001b[0m\u001b[0;36m0\u001b[0m\u001b[0;34m,\u001b[0m\u001b[0;36m434\u001b[0m\u001b[0;34m)\u001b[0m\u001b[0;34m\u001b[0m\u001b[0;34m\u001b[0m\u001b[0m\n",
      "\u001b[0;32m~/Research/base-WingWatch/WingWatch/Equipment/antenna.py\u001b[0m in \u001b[0;36mconvert_to_lat_long\u001b[0;34m(self, station)\u001b[0m\n\u001b[1;32m     43\u001b[0m \u001b[0;34m\u001b[0m\u001b[0m\n\u001b[1;32m     44\u001b[0m         \u001b[0;31m# Calculate new latitude and longitude using DataFrame columns\u001b[0m\u001b[0;34m\u001b[0m\u001b[0;34m\u001b[0m\u001b[0m\n\u001b[0;32m---> 45\u001b[0;31m         \u001b[0mlat2\u001b[0m \u001b[0;34m=\u001b[0m \u001b[0mlat1\u001b[0m \u001b[0;34m+\u001b[0m \u001b[0;34m(\u001b[0m\u001b[0mself\u001b[0m\u001b[0;34m.\u001b[0m\u001b[0mrad_pattern\u001b[0m\u001b[0;34m[\u001b[0m\u001b[0;34m'Y'\u001b[0m\u001b[0;34m]\u001b[0m\u001b[0;34m/\u001b[0m \u001b[0mearth_radius\u001b[0m\u001b[0;34m)\u001b[0m\u001b[0;34m\u001b[0m\u001b[0;34m\u001b[0m\u001b[0m\n\u001b[0m\u001b[1;32m     46\u001b[0m         \u001b[0mlon2\u001b[0m \u001b[0;34m=\u001b[0m \u001b[0mlon1\u001b[0m \u001b[0;34m+\u001b[0m \u001b[0;34m(\u001b[0m\u001b[0mself\u001b[0m\u001b[0;34m.\u001b[0m\u001b[0mrad_pattern\u001b[0m\u001b[0;34m[\u001b[0m\u001b[0;34m'X'\u001b[0m\u001b[0;34m]\u001b[0m \u001b[0;34m/\u001b[0m \u001b[0;34m(\u001b[0m\u001b[0mearth_radius\u001b[0m \u001b[0;34m*\u001b[0m \u001b[0mmath\u001b[0m\u001b[0;34m.\u001b[0m\u001b[0mcos\u001b[0m\u001b[0;34m(\u001b[0m\u001b[0mlat1\u001b[0m\u001b[0;34m)\u001b[0m\u001b[0;34m)\u001b[0m\u001b[0;34m)\u001b[0m\u001b[0;34m\u001b[0m\u001b[0;34m\u001b[0m\u001b[0m\n\u001b[1;32m     47\u001b[0m         \u001b[0;31m# Convert back to degrees and add the results as new columns\u001b[0m\u001b[0;34m\u001b[0m\u001b[0;34m\u001b[0m\u001b[0m\n",
      "\u001b[0;31mAttributeError\u001b[0m: 'Antenna' object has no attribute 'rad_pattern'"
     ]
    }
   ],
   "source": [
    "#Setup each of the actual stations\n",
    "\n",
    "SEL_Station = station.Station('SEL',41.1534, -71.5521)\n",
    "\n",
    "a1 = antenna.Antenna('1','yagi',0,434)\n",
    "df = 'SE_Light_434_0_calib.csv'\n",
    "a1.assign_pattern('SE_Light_434_0_calib.csv')\n",
    "a1.convert_to_lat_long(SEL_Station)\n",
    "\n",
    "a2 = antenna.Antenna('2','yagi',0,434)\n",
    "a2.assign_pattern('SE_Light_434_1_calib.csv')\n",
    "a2.convert_to_lat_long(SEL_Station)\n",
    "\n",
    "a3 = antenna.Antenna('3','yagi',0,434)\n",
    "a3.assign_pattern('SE_Light_434_2_calib.csv')\n",
    "a3.convert_to_lat_long(SEL_Station)\n",
    "\n",
    "a4 = antenna.Antenna('4','yagi',0,434)\n",
    "a4.assign_pattern('SE_Light_434_3_calib.csv')\n",
    "a4.convert_to_lat_long(SEL_Station)\n",
    "\n",
    "SEL_Station.add_antenna(a1)\n",
    "SEL_Station.add_antenna(a2)\n",
    "SEL_Station.add_antenna(a3)\n",
    "SEL_Station.add_antenna(a4)"
   ]
  },
  {
   "cell_type": "code",
   "execution_count": null,
   "id": "29c38026",
   "metadata": {},
   "outputs": [],
   "source": []
  },
  {
   "cell_type": "code",
   "execution_count": null,
   "id": "471a3a55",
   "metadata": {},
   "outputs": [],
   "source": []
  },
  {
   "cell_type": "code",
   "execution_count": 3,
   "id": "625bacb3",
   "metadata": {},
   "outputs": [
    {
     "name": "stdout",
     "output_type": "stream",
     "text": [
      "1 added to BRR's antennas.\n",
      "2 added to BRR's antennas.\n",
      "3 added to BRR's antennas.\n",
      "4 added to BRR's antennas.\n"
     ]
    }
   ],
   "source": [
    "BRR_Station = Station('BRR',41.1479, -71.5901)\n",
    "BRR_Comp_Data = pd.read_csv('BRR_Recalculated_Calibration_Data.csv')\n",
    "\n",
    "\n",
    "t1 = (90-25.990845)\n",
    "\n",
    "a1 = Antenna('1','yagi',t1,434)\n",
    "a1.assign_pattern(BRR_Comp_Data)\n",
    "a1.convert_to_lat_long(BRR_Station)\n",
    "\n",
    "a2 = Antenna('2','yagi',(t1+90)%360,434)\n",
    "a2.assign_pattern(BRR_Comp_Data)\n",
    "a2.convert_to_lat_long(BRR_Station)\n",
    "\n",
    "a3 = Antenna('3','yagi',(t1+180)%360,434)\n",
    "a3.assign_pattern(BRR_Comp_Data)\n",
    "a3.convert_to_lat_long(BRR_Station)\n",
    "\n",
    "a4 = Antenna('4','yagi',(t1+270)%360,434)\n",
    "a4.assign_pattern(BRR_Comp_Data)\n",
    "a4.convert_to_lat_long(BRR_Station)\n",
    "\n",
    "BRR_Station.add_antenna(a1)\n",
    "BRR_Station.add_antenna(a2)\n",
    "BRR_Station.add_antenna(a3)\n",
    "BRR_Station.add_antenna(a4)"
   ]
  },
  {
   "cell_type": "code",
   "execution_count": 4,
   "id": "7d3df3e9",
   "metadata": {},
   "outputs": [
    {
     "name": "stdout",
     "output_type": "stream",
     "text": [
      "1 added to MON's antennas.\n",
      "2 added to MON's antennas.\n",
      "3 added to MON's antennas.\n",
      "4 added to MON's antennas.\n"
     ]
    }
   ],
   "source": [
    "#this stations lat and long is wrong\n",
    "MON_Station = Station('MON',41.1534, -71.5521)\n",
    "MON_Comp_Data = pd.read_csv('final_MON_composite_data_upd80.csv')\n",
    "\n",
    "\n",
    "a1 = Antenna('1','yagi',0+80,434)\n",
    "a1.assign_pattern(MON_Comp_Data)\n",
    "a1.convert_to_lat_long(MON_Station)\n",
    "\n",
    "a2 = Antenna('2','yagi',90+80,434)\n",
    "a2.assign_pattern(MON_Comp_Data)\n",
    "a2.convert_to_lat_long(MON_Station)\n",
    "\n",
    "a3 = Antenna('3','yagi',180+80,434)\n",
    "a3.assign_pattern(MON_Comp_Data)\n",
    "a3.convert_to_lat_long(MON_Station)\n",
    "\n",
    "a4 = Antenna('4','yagi',270+80,434)\n",
    "a4.assign_pattern(MON_Comp_Data)\n",
    "a4.convert_to_lat_long(MON_Station)\n",
    "\n",
    "MON_Station.add_antenna(a1)\n",
    "MON_Station.add_antenna(a2)\n",
    "MON_Station.add_antenna(a3)\n",
    "MON_Station.add_antenna(a4)"
   ]
  },
  {
   "cell_type": "code",
   "execution_count": 5,
   "id": "2ae5d6b0",
   "metadata": {},
   "outputs": [
    {
     "name": "stdout",
     "output_type": "stream",
     "text": [
      "1 added to TUR's antennas.\n",
      "2 added to TUR's antennas.\n",
      "3 added to TUR's antennas.\n",
      "4 added to TUR's antennas.\n"
     ]
    }
   ],
   "source": [
    "TUR_Station = Station('TUR',41.1256, -71.5075)\n",
    "TUR_Comp_Data = pd.read_csv('TUR_Recalculated_Calibration_Data.csv')\n",
    "\n",
    "t1 = (360-355.9741)+90\n",
    "\n",
    "\n",
    "\n",
    "\n",
    "a1 = Antenna('1','yagi',(t1+180)%360,434)\n",
    "a1.assign_pattern(TUR_Comp_Data)\n",
    "a1.convert_to_lat_long(TUR_Station)\n",
    "\n",
    "a2 = Antenna('2','yagi',(t1+270)%360,434)\n",
    "a2.assign_pattern(TUR_Comp_Data)\n",
    "a2.convert_to_lat_long(TUR_Station)\n",
    "\n",
    "a3 = Antenna('3','yagi',(t1+0)%360,434)\n",
    "a3.assign_pattern(TUR_Comp_Data)\n",
    "a3.convert_to_lat_long(TUR_Station)\n",
    "\n",
    "a4 = Antenna('4','yagi',(t1+90)%360,434)\n",
    "a4.assign_pattern(TUR_Comp_Data)\n",
    "a4.convert_to_lat_long(TUR_Station)\n",
    "\n",
    "TUR_Station.add_antenna(a1)\n",
    "TUR_Station.add_antenna(a2)\n",
    "TUR_Station.add_antenna(a3)\n",
    "TUR_Station.add_antenna(a4)"
   ]
  },
  {
   "cell_type": "code",
   "execution_count": 6,
   "id": "f5183320",
   "metadata": {},
   "outputs": [],
   "source": [
    "#Let us start working some geometries\n",
    "\n",
    "df = pd.read_csv('allTagsAll390.csv',low_memory=False)\n",
    "\n",
    "#BIWF goes offline on 11-29-2021\n",
    "#SE Light goes offline on 12-25-2021\n",
    "#Black Rock Goes offline on 5-26-2022\n",
    "\n",
    "\n",
    "\n",
    "#remove any detections from the MOTUS project which are detected after the stations came down \n",
    "df['ts'] = pd.to_datetime(df['ts'])\n",
    "df1 = df[df['ts'] < pd.to_datetime('2022-05-26')]\n",
    "\n",
    "#filter just our recievers\n",
    "mask = (df1['recvDeployName'] == 'Black_Rock_434') | (df1['recvDeployName'] == 'SE_Light_434') | (df1['recv'] == 'CTT-6A8468DA84C0')\n",
    "\n",
    "#BIT is the Block Island Turbine\n",
    "df_Black_Rock = df1[df1['recvDeployName'] == 'Black_Rock_434'].reset_index()\n",
    "df_SE_Light = df1[df1['recvDeployName'] == 'SE_Light_434'].reset_index()\n",
    "df_BIT = df1[df1['recv'] == 'CTT-6A8468DA84C0'].reset_index()"
   ]
  },
  {
   "cell_type": "code",
   "execution_count": 7,
   "id": "226c8c46",
   "metadata": {},
   "outputs": [],
   "source": [
    "#Ground Truth Test - tsCorrected is in UNIX Time at GMT \n",
    "\n",
    "df_BR_GT = df_Black_Rock[(df_Black_Rock['tsCorrected'] >= 1630333415.0) & (df_Black_Rock['tsCorrected'] <= 1630333417.0)].reset_index()\n",
    "df_SE_Light_GT = df_SE_Light[(df_SE_Light['tsCorrected'] >= 1630333415.0) & (df_SE_Light['tsCorrected'] <= 1630333417.0)].reset_index()\n",
    "df_BIT_GT = df_BIT[(df_BIT['tsCorrected'] >= 1630333415.0) & (df_BIT['tsCorrected'] <= 1630333417.0)].reset_index()"
   ]
  },
  {
   "cell_type": "code",
   "execution_count": 8,
   "id": "0c8b1425",
   "metadata": {},
   "outputs": [],
   "source": [
    "def combine_simultaneous_timestamps(*timestamp_lists):\n",
    "    combined_timestamps = {}\n",
    "    \n",
    "    for list_index, timestamps in enumerate(timestamp_lists):\n",
    "        for index, timestamp in enumerate(timestamps):\n",
    "            if timestamp in combined_timestamps:\n",
    "                combined_timestamps[timestamp].append((list_index, index))\n",
    "            else:\n",
    "                combined_timestamps[timestamp] = [(list_index, index)]\n",
    "    filtered_combined_timestamps = {timestamp: indexes for timestamp, indexes in combined_timestamps.items() if len(indexes) > 2}\n",
    "\n",
    "    return filtered_combined_timestamps\n",
    "\n",
    "# Example lists of time stamps\n",
    "list1 = list(df_BIT_GT['tsCorrected'])\n",
    "list2 = list(df_SE_Light_GT['tsCorrected'])\n",
    "list3 = list(df_BR_GT['tsCorrected'])\n",
    "\n",
    "combined = combine_simultaneous_timestamps(list1,list2, list3)\n"
   ]
  },
  {
   "cell_type": "code",
   "execution_count": 14,
   "id": "1f7117cd",
   "metadata": {},
   "outputs": [
    {
     "data": {
      "text/plain": [
       "{1630333415.0: [(0, 0), (0, 1), (0, 2), (1, 0), (1, 1), (1, 2), (2, 0)],\n",
       " 1630333416.0: [(0, 3), (0, 4), (0, 5), (1, 3)],\n",
       " 1630333417.0: [(0, 6), (0, 7), (0, 8), (1, 4), (1, 5), (2, 1)]}"
      ]
     },
     "execution_count": 14,
     "metadata": {},
     "output_type": "execute_result"
    }
   ],
   "source": [
    "combined"
   ]
  },
  {
   "cell_type": "code",
   "execution_count": 15,
   "id": "e1c5ede0",
   "metadata": {},
   "outputs": [],
   "source": [
    "import navpy \n",
    "source_location_xyz_offset = navpy.lla2ned(BRR_Station.lat,BRR_Station.long,0,BRR_Station.lat,BRR_Station.long,0)"
   ]
  },
  {
   "cell_type": "code",
   "execution_count": 16,
   "id": "9331671f",
   "metadata": {},
   "outputs": [],
   "source": [
    "source_location_xyz_offset = navpy.lla2ned(41.127364,-71.492852,0,BRR_Station.lat,BRR_Station.long,0)"
   ]
  },
  {
   "cell_type": "code",
   "execution_count": 17,
   "id": "fab46bb9",
   "metadata": {},
   "outputs": [
    {
     "data": {
      "text/plain": [
       "array([-2.27609752e+03,  8.16620423e+03,  5.62728341e+00])"
      ]
     },
     "execution_count": 17,
     "metadata": {},
     "output_type": "execute_result"
    }
   ],
   "source": [
    "source_location_xyz_offset"
   ]
  },
  {
   "cell_type": "code",
   "execution_count": 18,
   "id": "c1731713",
   "metadata": {},
   "outputs": [],
   "source": [
    "source_location_xyz_offset = [source_location_xyz_offset[1],source_location_xyz_offset[0],-source_location_xyz_offset[2]]"
   ]
  },
  {
   "cell_type": "code",
   "execution_count": 19,
   "id": "b0424103",
   "metadata": {},
   "outputs": [
    {
     "data": {
      "text/plain": [
       "[8166.2042272241815, -2276.0975216454417, -5.627283409516855]"
      ]
     },
     "execution_count": 19,
     "metadata": {},
     "output_type": "execute_result"
    }
   ],
   "source": [
    "source_location_xyz_offset"
   ]
  },
  {
   "cell_type": "code",
   "execution_count": 20,
   "id": "235260d9",
   "metadata": {},
   "outputs": [],
   "source": [
    "a = combined[list(combined.keys())[0]]\n",
    "key_list = list(combined.keys())\n",
    "for i in range(len(a)):\n",
    "    if a[i][0] == 0:\n",
    "        data_column_rows = df_BIT_GT[df_BIT_GT.tsCorrected == key_list[0]] \n",
    "        #key_list[0] will need to change when dealing with multiple time iterations. it should be the same as the \n",
    "        # number that is indexing a, at the top of this box\n",
    "        data_BIT = []\n",
    "        for index,row in data_column_rows.iterrows():\n",
    "            data_BIT.append([int(row['port'][-1]),row['sig']]) \n",
    "    if a[i][0] == 1:\n",
    "        data_column_rows = df_SE_Light_GT[df_SE_Light_GT.tsCorrected == key_list[0]]\n",
    "        data_SEL = []\n",
    "        for index,row in data_column_rows.iterrows():\n",
    "            data_SEL.append([int(row['port'][-1]),row['sig']])    \n",
    "    if a[i][0] == 2:\n",
    "        data_column_rows = df_BR_GT[df_BR_GT.tsCorrected == key_list[0]]\n",
    "        data_BR = []\n",
    "        for index,row in data_column_rows.iterrows():\n",
    "            data_BR.append([int(row['port'][-1]),row['sig']])"
   ]
  },
  {
   "cell_type": "code",
   "execution_count": 21,
   "id": "facc98f7",
   "metadata": {},
   "outputs": [
    {
     "data": {
      "text/plain": [
       "[[1, -100.0]]"
      ]
     },
     "execution_count": 21,
     "metadata": {},
     "output_type": "execute_result"
    }
   ],
   "source": [
    "data_BR"
   ]
  },
  {
   "cell_type": "code",
   "execution_count": 23,
   "id": "3c827d88",
   "metadata": {},
   "outputs": [],
   "source": [
    "import matplotlib.pyplot as plt\n",
    "from shapely.geometry import Point, Polygon\n",
    "\n",
    "\n",
    "#okay back to the ranch, find the boundaries for each of the ports and their respective RSSI, we will use the \n",
    "#black rock station as our reference station. \n",
    "\n",
    "\n",
    "#i need to write a function that calculates the X,Y offsets of each of the stations\n",
    "\n",
    "station_shells = []\n",
    "\n",
    "for i in range(len(data_BR)):\n",
    "    if data_BR[i][0]-1 >= len(BRR_Station.antennas):\n",
    "        continue\n",
    "    station_shells.append(BRR_Station.provide_boundary(data_BR[i][0]-1 ,data_BR[i][1],0,0,22.6))\n",
    "\n",
    "for i in range(len(data_SEL)):\n",
    "    if data_SEL[i][0]-1 >= len(SEL_Station.antennas):\n",
    "        continue\n",
    "    station_shells.append(SEL_Station.provide_boundary(data_SEL[i][0]-1 ,data_SEL[i][1],3189,-611,47.3))\n",
    "  \n",
    "    \n",
    "for i in range(len(data_SEL)):\n",
    "    if data_BIT[i][0]-1 >= len(TUR_Station.antennas):\n",
    "        continue\n",
    "    station_shells.append(TUR_Station.provide_boundary(data_BIT[i][0]-1 ,data_BIT[i][1],6936,2473,20))\n",
    "\n",
    "station_shells_stacked = np.row_stack(station_shells)\n",
    "\n",
    "  \n",
    "\n",
    "def is_point_inside_hull(hull_vertices, point):\n",
    "    hull_polygon = Polygon(hull_vertices)\n",
    "    point = Point(point)\n",
    "    return hull_polygon.contains(point)\n",
    "\n",
    "# Define the range for x and y values\n",
    "x_values_hull = station_shells_stacked[:,0]\n",
    "y_values_hull = station_shells_stacked[:,1]\n",
    "z_values_hull = station_shells_stacked[:,2]\n",
    "\n",
    "x_min, x_max = np.min(x_values_hull), np.max(x_values_hull)\n",
    "y_min, y_max = np.min(y_values_hull), np.max(y_values_hull)\n",
    "z_min, z_max = np.min(z_values_hull), np.max(z_values_hull)\n",
    "\n",
    "# Generate 1e5 (100,000) random 2D points\n",
    "num_points = int(1e5)\n",
    "x_values = np.random.uniform(x_min, x_max, num_points)\n",
    "y_values = np.random.uniform(y_min, y_max, num_points)\n",
    "z_values = np.random.uniform(z_min, z_max, num_points)\n",
    "\n",
    "# Combine x and y values into 2D points\n",
    "points = np.column_stack((x_values, y_values,z_values))\n",
    "\n",
    "# Example usage:\n",
    "#hull_vertices = [(0, 0), (0, 1), (1, 1), (1, 0)]\n",
    "#point_to_check = (25000, 0.5)\n",
    "\n",
    "result_nested_list = [] \n",
    "\n",
    "for j in station_shells:\n",
    "    result_nested_list.append([is_point_inside_hull(j, x) for x in points])\n",
    "\n",
    "    \n",
    "result_nested_list = np.column_stack(result_nested_list)\n",
    "\n",
    "index_map = np.all(result_nested_list,axis=1)"
   ]
  },
  {
   "cell_type": "code",
   "execution_count": 28,
   "id": "09faaafe",
   "metadata": {},
   "outputs": [
    {
     "data": {
      "text/plain": [
       "<matplotlib.collections.PathCollection at 0x7f4b60133730>"
      ]
     },
     "execution_count": 28,
     "metadata": {},
     "output_type": "execute_result"
    },
    {
     "data": {
      "image/png": "[encoded data removed]",
      "text/plain": [
       "<Figure size 432x288 with 1 Axes>"
      ]
     },
     "metadata": {
      "needs_background": "light"
     },
     "output_type": "display_data"
    }
   ],
   "source": [
    "XY = points[index_map][:,0:2]\n",
    "rot_mat = np.eye(2)\n",
    "#rot_mat = np.array([[0,1],[-1,0]])\n",
    "rot_points = np.matmul(XY,rot_mat)\n",
    "\n",
    "\n",
    "plt.scatter(rot_points[:,0],rot_points[:,1])\n",
    "plt.scatter(8166,2276,color=\"black\",label='GPS Detection')\n",
    "#plt.xlim(-20000, 20000)\n",
    "#plt.ylim(-10000, 10000)\n",
    "plt.scatter(0,0,marker='*',color='green',label='Station')\n",
    "plt.scatter(3189,611,marker='*',color='green',label='Station')\n",
    "plt.scatter(6936,-2473,marker='*',color='green',label='Station')\n",
    "#plt.legend()\n"
   ]
  },
  {
   "cell_type": "code",
   "execution_count": 45,
   "id": "1c96b7dc",
   "metadata": {},
   "outputs": [
    {
     "data": {
      "text/plain": [
       "array([[1., 0.],\n",
       "       [0., 1.]])"
      ]
     },
     "execution_count": 45,
     "metadata": {},
     "output_type": "execute_result"
    }
   ],
   "source": [
    "rot_mat"
   ]
  },
  {
   "cell_type": "code",
   "execution_count": 39,
   "id": "dabf170d",
   "metadata": {},
   "outputs": [
    {
     "data": {
      "text/plain": [
       "array([[-7690.09511221, 10726.11654248],\n",
       "       [-7811.77521529,  9569.55802481],\n",
       "       [-8416.49897135,  9938.68221764],\n",
       "       [-8232.40278436, 10038.50527184],\n",
       "       [-6962.7251478 , 10606.21012877],\n",
       "       [-8493.19758478, 10121.51464017],\n",
       "       [-8647.62134845, 10058.9285848 ],\n",
       "       [-8425.30587313,  9276.32194351],\n",
       "       [-7077.8924679 , 10281.31223924],\n",
       "       [-8346.2012343 ,  9858.51705932],\n",
       "       [-8578.04180538,  9620.2636648 ],\n",
       "       [-7913.67074253, 10061.6415987 ],\n",
       "       [-7569.85756293, 10366.9690484 ],\n",
       "       [-6999.71932127, 10329.39381041],\n",
       "       [-7147.70540549, 10532.80766576],\n",
       "       [-7734.69370012,  9638.82850368],\n",
       "       [-8199.40332085,  9452.71983784],\n",
       "       [-8108.20031518, 10007.29265069],\n",
       "       [-2684.20928113, -1418.48597458],\n",
       "       [-7065.92265846, 10404.49895622],\n",
       "       [-7646.47530275,  9705.7137136 ],\n",
       "       [-7805.28174252, 10419.6899477 ],\n",
       "       [-7782.53761425, 10417.10894378],\n",
       "       [-7882.79294668,  9722.21271072],\n",
       "       [-8262.76185418,  9452.38655051],\n",
       "       [-8184.14070427, 11140.51510966],\n",
       "       [ 9369.54254932, -4084.11708035],\n",
       "       [-8635.23688055, 11438.73370085],\n",
       "       [-8447.43339545,  9017.6734355 ],\n",
       "       [-7674.07167197,  9474.91885739],\n",
       "       [-8726.30332092,  9669.8498707 ],\n",
       "       [ -565.28539509, -6698.07118724],\n",
       "       [-8815.95613157, 10250.71630158],\n",
       "       [-8703.20406375, 10214.99119647],\n",
       "       [-8165.48337688,  9188.16415886],\n",
       "       [-7301.36712026, 10440.90294572]])"
      ]
     },
     "execution_count": 39,
     "metadata": {},
     "output_type": "execute_result"
    }
   ],
   "source": [
    "XY"
   ]
  },
  {
   "cell_type": "code",
   "execution_count": 46,
   "id": "807fbe19",
   "metadata": {},
   "outputs": [],
   "source": [
    "SEL_Comp_Data = pd.read_csv('SE_Light_Recalculated_Calibration_Data.csv')\n"
   ]
  },
  {
   "cell_type": "code",
   "execution_count": 52,
   "id": "a785ba76",
   "metadata": {},
   "outputs": [
    {
     "data": {
      "text/plain": [
       "<matplotlib.collections.PathCollection at 0x7fce56cf7df0>"
      ]
     },
     "execution_count": 52,
     "metadata": {},
     "output_type": "execute_result"
    },
    {
     "data": {
      "image/png": "[encoded data removed]",
      "text/plain": [
       "<Figure size 432x288 with 1 Axes>"
      ]
     },
     "metadata": {
      "needs_background": "light"
     },
     "output_type": "display_data"
    }
   ],
   "source": [
    "plt.scatter(BRR_Comp_Data.X,BRR_Comp_Data.Y,c=BRR_Comp_Data.RSSI)"
   ]
  },
  {
   "cell_type": "code",
   "execution_count": 67,
   "id": "91ebff64",
   "metadata": {},
   "outputs": [
    {
     "data": {
      "text/plain": [
       "<matplotlib.collections.PathCollection at 0x7fce4931ec80>"
      ]
     },
     "execution_count": 67,
     "metadata": {},
     "output_type": "execute_result"
    },
    {
     "data": {
      "image/png": "[encoded data removed]",
      "text/plain": [
       "<Figure size 432x288 with 1 Axes>"
      ]
     },
     "metadata": {
      "needs_background": "light"
     },
     "output_type": "display_data"
    }
   ],
   "source": [
    "XY = SEL_Comp_Data[['X','Y']].to_numpy()\n",
    "#rot_mat = np.eye(2) #zero degree rotation\n",
    "#rot_mat = np.array([[0,-1],[1,0]]) #90 degree rotation\n",
    "#rot_mat = np.array([[-1,0],[0,-1]]) #180 degree rotation\n",
    "rot_mat = np.array([[0,1],[-1,0]]) #270 degree rotation\n",
    "\n",
    "rot_points = np.matmul(XY,rot_mat)\n",
    "\n",
    "\n",
    "plt.scatter(rot_points[:,1],rot_points[:,0],c=SEL_Comp_Data.RSSI)\n",
    "\n",
    "\n",
    "\n"
   ]
  },
  {
   "cell_type": "code",
   "execution_count": null,
   "id": "9e6dd957",
   "metadata": {},
   "outputs": [],
   "source": [
    "XY = SEL_Comp_Data[['X','Y']].to_numpy()\n",
    "#rot_mat = np.eye(2) #zero degree rotation\n",
    "#rot_mat = np.array([[0,-1],[1,0]]) #90 degree rotation\n",
    "#rot_mat = np.array([[-1,0],[0,-1]]) #180 degree rotation\n",
    "rot_mat = np.array([[0,1],[-1,0]]) #270 degree rotation\n",
    "\n",
    "rot_points = np.matmul(XY,rot_mat)\n",
    "\n",
    "\n",
    "plt.scatter(rot_points[:,1],rot_points[:,0],c=SEL_Comp_Data.RSSI)"
   ]
  },
  {
   "cell_type": "code",
   "execution_count": 62,
   "id": "278c2f0a",
   "metadata": {},
   "outputs": [
    {
     "data": {
      "text/html": [
       "<div>\n",
       "<style scoped>\n",
       "    .dataframe tbody tr th:only-of-type {\n",
       "        vertical-align: middle;\n",
       "    }\n",
       "\n",
       "    .dataframe tbody tr th {\n",
       "        vertical-align: top;\n",
       "    }\n",
       "\n",
       "    .dataframe thead th {\n",
       "        text-align: right;\n",
       "    }\n",
       "</style>\n",
       "<table border=\"1\" class=\"dataframe\">\n",
       "  <thead>\n",
       "    <tr style=\"text-align: right;\">\n",
       "      <th></th>\n",
       "      <th>X</th>\n",
       "      <th>Y</th>\n",
       "    </tr>\n",
       "  </thead>\n",
       "  <tbody>\n",
       "    <tr>\n",
       "      <th>0</th>\n",
       "      <td>40.856073</td>\n",
       "      <td>2.420415</td>\n",
       "    </tr>\n",
       "    <tr>\n",
       "      <th>1</th>\n",
       "      <td>40.252517</td>\n",
       "      <td>1.837025</td>\n",
       "    </tr>\n",
       "    <tr>\n",
       "      <th>2</th>\n",
       "      <td>45.655500</td>\n",
       "      <td>-3.752732</td>\n",
       "    </tr>\n",
       "    <tr>\n",
       "      <th>3</th>\n",
       "      <td>46.259058</td>\n",
       "      <td>-3.169341</td>\n",
       "    </tr>\n",
       "    <tr>\n",
       "      <th>4</th>\n",
       "      <td>46.259061</td>\n",
       "      <td>-3.169342</td>\n",
       "    </tr>\n",
       "    <tr>\n",
       "      <th>...</th>\n",
       "      <td>...</td>\n",
       "      <td>...</td>\n",
       "    </tr>\n",
       "    <tr>\n",
       "      <th>55027</th>\n",
       "      <td>14342.160957</td>\n",
       "      <td>7438.384716</td>\n",
       "    </tr>\n",
       "    <tr>\n",
       "      <th>55028</th>\n",
       "      <td>14654.362973</td>\n",
       "      <td>7633.285369</td>\n",
       "    </tr>\n",
       "    <tr>\n",
       "      <th>55029</th>\n",
       "      <td>14705.619039</td>\n",
       "      <td>7666.571796</td>\n",
       "    </tr>\n",
       "    <tr>\n",
       "      <th>55030</th>\n",
       "      <td>15068.274602</td>\n",
       "      <td>7893.995630</td>\n",
       "    </tr>\n",
       "    <tr>\n",
       "      <th>55031</th>\n",
       "      <td>16848.429900</td>\n",
       "      <td>9006.262106</td>\n",
       "    </tr>\n",
       "  </tbody>\n",
       "</table>\n",
       "<p>55032 rows × 2 columns</p>\n",
       "</div>"
      ],
      "text/plain": [
       "                  X            Y\n",
       "0         40.856073     2.420415\n",
       "1         40.252517     1.837025\n",
       "2         45.655500    -3.752732\n",
       "3         46.259058    -3.169341\n",
       "4         46.259061    -3.169342\n",
       "...             ...          ...\n",
       "55027  14342.160957  7438.384716\n",
       "55028  14654.362973  7633.285369\n",
       "55029  14705.619039  7666.571796\n",
       "55030  15068.274602  7893.995630\n",
       "55031  16848.429900  9006.262106\n",
       "\n",
       "[55032 rows x 2 columns]"
      ]
     },
     "execution_count": 62,
     "metadata": {},
     "output_type": "execute_result"
    }
   ],
   "source": [
    "SEL_Comp_Data[['X','Y']]"
   ]
  },
  {
   "cell_type": "code",
   "execution_count": 61,
   "id": "cc19d443",
   "metadata": {},
   "outputs": [],
   "source": [
    "def haversine(lon1, lat1, lon2, lat2):\n",
    "    \"\"\"\n",
    "    Calculate the great circle distance in kilometers between two points \n",
    "    on the earth (specified in decimal degrees)\n",
    "    \"\"\"\n",
    "    # convert decimal degrees to radians \n",
    "    lon1, lat1, lon2, lat2 = map(math.radians, [lon1, lat1, lon2, lat2])\n",
    "\n",
    "    # haversine formula \n",
    "    dlon = lon2 - lon1 \n",
    "    dlat = lat2 - lat1 \n",
    "    a = math.sin(dlat/2)**2 + math.cos(lat1) * math.cos(lat2) * math.sin(dlon/2)**2\n",
    "    c = 2 * math.asin(math.sqrt(a)) \n",
    "    r = 6371000 # Radius of earth in meters\n",
    "    print(c)\n",
    "    return [r*c*cos,]"
   ]
  },
  {
   "cell_type": "code",
   "execution_count": 62,
   "id": "95aea1c1",
   "metadata": {},
   "outputs": [
    {
     "name": "stdout",
     "output_type": "stream",
     "text": [
      "0.0006639189990627708\n"
     ]
    }
   ],
   "source": [
    "lat1 = BRR_Station.lat  # Reference latitude\n",
    "lon1 = BRR_Station.long  # Reference longitude\n",
    "lat2 = SEL_Station.lat # Second latitude\n",
    "lon2 = SEL_Station.long # Second longitude\n",
    "\n",
    "\n",
    "r= haversine(lat1, lon1, lat2, lon2)"
   ]
  },
  {
   "cell_type": "code",
   "execution_count": 63,
   "id": "28e9f76c",
   "metadata": {},
   "outputs": [
    {
     "data": {
      "text/plain": [
       "4229.827943028912"
      ]
     },
     "execution_count": 63,
     "metadata": {},
     "output_type": "execute_result"
    }
   ],
   "source": [
    "r"
   ]
  },
  {
   "cell_type": "code",
   "execution_count": 35,
   "id": "0ca7d5a2",
   "metadata": {},
   "outputs": [
    {
     "data": {
      "text/plain": [
       "array([-8219.97352436, -1162.05973354,  1717.56760922])"
      ]
     },
     "execution_count": 35,
     "metadata": {},
     "output_type": "execute_result"
    }
   ],
   "source": [
    "import navpy\n",
    "navpy.lla2ecef(BRR_Station.lat,BRR_Station.long,60)-navpy.lla2ecef(41.127365 ,-71.492852,60)"
   ]
  },
  {
   "cell_type": "code",
   "execution_count": 21,
   "id": "0bb415f7",
   "metadata": {},
   "outputs": [
    {
     "data": {
      "text/plain": [
       "array([-7424.73695451, -7374.21214728, -7735.1670516 , -7760.11221871,\n",
       "       -7836.05991505, -7586.40465925, -7725.81844148, -7517.88779729,\n",
       "       -7803.46635363, -7536.97488102, -8016.26547052, -7655.3101809 ,\n",
       "       -7824.52807567])"
      ]
     },
     "execution_count": 21,
     "metadata": {},
     "output_type": "execute_result"
    }
   ],
   "source": [
    "points[index_map][:,1]"
   ]
  },
  {
   "cell_type": "code",
   "execution_count": 12,
   "id": "a692e307",
   "metadata": {},
   "outputs": [],
   "source": [
    "#We are going to start trying to locate some of the target species that we know were tagged. Pam informed me that\n",
    "#there was a signular falcon which was double tagged that traveled through our station coverage area. \n",
    "\n",
    "df_BR_Falcon = df_Black_Rock[df_Black_Rock['speciesEN'] == 'Peregrine Falcon'].reset_index()\n",
    "df_SE_Light_Falcon = df_SE_Light[df_SE_Light['speciesEN'] == 'Peregrine Falcon'].reset_index()\n",
    "df_BIT_Falcon = df_BIT[df_BIT['speciesEN'] == 'Peregrine Falcon'].reset_index()"
   ]
  },
  {
   "cell_type": "code",
   "execution_count": 13,
   "id": "ecc026f9",
   "metadata": {},
   "outputs": [
    {
     "data": {
      "text/plain": [
       "{1633962325.0: [(0, 1), (1, 1032), (1, 1033)],\n",
       " 1633816172.0: [(1, 21), (1, 22), (1, 23), (1, 24), (1, 25)],\n",
       " 1633816177.0: [(1, 26), (1, 27), (1, 28), (1, 29)],\n",
       " 1633816182.0: [(1, 30), (1, 31), (1, 32)],\n",
       " 1633816228.0: [(1, 38), (1, 39), (1, 40)],\n",
       " 1633816233.0: [(1, 41), (1, 42), (1, 43), (1, 44)],\n",
       " 1633816239.0: [(1, 45), (1, 46), (1, 47), (1, 48)],\n",
       " 1633816244.0: [(1, 49), (1, 50), (1, 51)],\n",
       " 1633816249.0: [(1, 52), (1, 53), (1, 54)],\n",
       " 1633816254.0: [(1, 55), (1, 56), (1, 57)],\n",
       " 1633816259.0: [(1, 58), (1, 59), (1, 60), (1, 61), (1, 62)],\n",
       " 1633816264.0: [(1, 63), (1, 64), (1, 65), (1, 66), (1, 67)],\n",
       " 1633816269.0: [(1, 68), (1, 69), (1, 70), (1, 71), (1, 72)],\n",
       " 1633816275.0: [(1, 73), (1, 74), (1, 75), (1, 76), (1, 77)],\n",
       " 1633816296.0: [(1, 78), (1, 79), (1, 80), (1, 81)],\n",
       " 1633816301.0: [(1, 82), (1, 83), (1, 84), (1, 85), (1, 86)],\n",
       " 1633816319.0: [(1, 87), (1, 88), (1, 89), (1, 90), (1, 91)],\n",
       " 1633816336.0: [(1, 92), (1, 93), (1, 94), (1, 95), (1, 96)],\n",
       " 1633816362.0: [(1, 97), (1, 98), (1, 99), (1, 100), (1, 101)],\n",
       " 1633816367.0: [(1, 102), (1, 103), (1, 104), (1, 105), (1, 106)],\n",
       " 1633816372.0: [(1, 107), (1, 108), (1, 109), (1, 110), (1, 111)],\n",
       " 1633816377.0: [(1, 112), (1, 113), (1, 114), (1, 115)],\n",
       " 1633816415.0: [(1, 116), (1, 117), (1, 118), (1, 119), (1, 120)],\n",
       " 1633816586.0: [(1, 121), (1, 122), (1, 123), (1, 124), (1, 125)],\n",
       " 1633816591.0: [(1, 126), (1, 127), (1, 128), (1, 129), (1, 130)],\n",
       " 1633816596.0: [(1, 131), (1, 132), (1, 133), (1, 134), (1, 135)],\n",
       " 1633816622.0: [(1, 136), (1, 137), (1, 138), (1, 139), (1, 140)],\n",
       " 1633816782.0: [(1, 141), (1, 142), (1, 143), (1, 144), (1, 145)],\n",
       " 1633816787.0: [(1, 146), (1, 147), (1, 148), (1, 149), (1, 150)],\n",
       " 1633816792.0: [(1, 151), (1, 152), (1, 153), (1, 154), (1, 155)],\n",
       " 1633816798.0: [(1, 156), (1, 157), (1, 158)],\n",
       " 1633816834.0: [(1, 159), (1, 160), (1, 161), (1, 162), (1, 163)],\n",
       " 1633816924.0: [(1, 166), (1, 167), (1, 168)],\n",
       " 1633816952.0: [(1, 170), (1, 171), (1, 172)],\n",
       " 1633816973.0: [(1, 177), (1, 178), (1, 179), (1, 180), (1, 181)],\n",
       " 1633816987.0: [(1, 182), (1, 183), (1, 184), (1, 185)],\n",
       " 1633864629.0: [(1, 198), (1, 199), (1, 200), (1, 201), (1, 202)],\n",
       " 1633864634.0: [(1, 203), (1, 204), (1, 205), (1, 206), (1, 207)],\n",
       " 1633864655.0: [(1, 208), (1, 209), (1, 210), (1, 211), (1, 212)],\n",
       " 1633864660.0: [(1, 213), (1, 214), (1, 215)],\n",
       " 1633864665.0: [(1, 216), (1, 217), (1, 218), (1, 219)],\n",
       " 1633865789.0: [(1, 223), (1, 224), (1, 225)],\n",
       " 1633865794.0: [(1, 226), (1, 227), (1, 228)],\n",
       " 1633865810.0: [(1, 232), (1, 233), (1, 234)],\n",
       " 1633865820.0: [(1, 237), (1, 238), (1, 239)],\n",
       " 1633865825.0: [(1, 240), (1, 241), (1, 242)],\n",
       " 1633865830.0: [(1, 243), (1, 244), (1, 245), (1, 246), (1, 247)],\n",
       " 1633865836.0: [(1, 248), (1, 249), (1, 250), (1, 251), (1, 252)],\n",
       " 1633865841.0: [(1, 253), (1, 254), (1, 255), (1, 256)],\n",
       " 1633865846.0: [(1, 257), (1, 258), (1, 259), (1, 260)],\n",
       " 1633865851.0: [(1, 261), (1, 262), (1, 263), (1, 264), (1, 265)],\n",
       " 1633865856.0: [(1, 266), (1, 267), (1, 268), (1, 269)],\n",
       " 1633865861.0: [(1, 270), (1, 271), (1, 272), (1, 273), (1, 274)],\n",
       " 1633865866.0: [(1, 275), (1, 276), (1, 277), (1, 278), (1, 279)],\n",
       " 1633865872.0: [(1, 280), (1, 281), (1, 282), (1, 283), (1, 284)],\n",
       " 1633865877.0: [(1, 285), (1, 286), (1, 287), (1, 288), (1, 289)],\n",
       " 1633865882.0: [(1, 290), (1, 291), (1, 292), (1, 293), (1, 294)],\n",
       " 1633870726.0: [(1, 325), (1, 326), (1, 327), (1, 328)],\n",
       " 1633870731.0: [(1, 329), (1, 330), (1, 331), (1, 332)],\n",
       " 1633870736.0: [(1, 333), (1, 334), (1, 335), (1, 336), (1, 337)],\n",
       " 1633870741.0: [(1, 338), (1, 339), (1, 340), (1, 341)],\n",
       " 1633870746.0: [(1, 342), (1, 343), (1, 344), (1, 345)],\n",
       " 1633870751.0: [(1, 346), (1, 347), (1, 348), (1, 349)],\n",
       " 1633870756.0: [(1, 350), (1, 351), (1, 352), (1, 353)],\n",
       " 1633870762.0: [(1, 354), (1, 355), (1, 356), (1, 357), (1, 358)],\n",
       " 1633870767.0: [(1, 359), (1, 360), (1, 361)],\n",
       " 1633870772.0: [(1, 362), (1, 363), (1, 364), (1, 365)],\n",
       " 1633870777.0: [(1, 366), (1, 367), (1, 368), (1, 369), (1, 370)],\n",
       " 1633870782.0: [(1, 371), (1, 372), (1, 373), (1, 374)],\n",
       " 1633870787.0: [(1, 375), (1, 376), (1, 377), (1, 378), (1, 379)],\n",
       " 1633870792.0: [(1, 380), (1, 381), (1, 382), (1, 383), (1, 384)],\n",
       " 1633870798.0: [(1, 385), (1, 386), (1, 387), (1, 388)],\n",
       " 1633870803.0: [(1, 389), (1, 390), (1, 391), (1, 392)],\n",
       " 1633870808.0: [(1, 393), (1, 394), (1, 395), (1, 396), (1, 397)],\n",
       " 1633870813.0: [(1, 398), (1, 399), (1, 400)],\n",
       " 1633870818.0: [(1, 401), (1, 402), (1, 403), (1, 404), (1, 405)],\n",
       " 1633870828.0: [(1, 408), (1, 409), (1, 410)],\n",
       " 1633873970.0: [(1, 486), (1, 487), (1, 488)],\n",
       " 1633874315.0: [(1, 525), (1, 526), (1, 527), (1, 528)],\n",
       " 1633874320.0: [(1, 529), (1, 530), (1, 531)],\n",
       " 1633874326.0: [(1, 532), (1, 533), (1, 534), (1, 535), (1, 536)],\n",
       " 1633874331.0: [(1, 537), (1, 538), (1, 539), (1, 540), (1, 541)],\n",
       " 1633874336.0: [(1, 542), (1, 543), (1, 544), (1, 545), (1, 546)],\n",
       " 1633874341.0: [(1, 547), (1, 548), (1, 549), (1, 550), (1, 551)],\n",
       " 1633874346.0: [(1, 552), (1, 553), (1, 554), (1, 555), (1, 556)],\n",
       " 1633874351.0: [(1, 557), (1, 558), (1, 559), (1, 560)],\n",
       " 1633874356.0: [(1, 561), (1, 562), (1, 563)],\n",
       " 1633874398.0: [(1, 576), (1, 577), (1, 578)],\n",
       " 1633874485.0: [(1, 591), (1, 592), (1, 593), (1, 594)],\n",
       " 1633874500.0: [(1, 597), (1, 598), (1, 599)],\n",
       " 1633874505.0: [(1, 600), (1, 601), (1, 602)],\n",
       " 1633874511.0: [(1, 603), (1, 604), (1, 605)],\n",
       " 1633874516.0: [(1, 606), (1, 607), (1, 608)],\n",
       " 1633874521.0: [(1, 609), (1, 610), (1, 611)],\n",
       " 1633874536.0: [(1, 616), (1, 617), (1, 618)],\n",
       " 1633874583.0: [(1, 629), (1, 630), (1, 631), (1, 632)],\n",
       " 1633874593.0: [(1, 635), (1, 636), (1, 637), (1, 638), (1, 639)],\n",
       " 1633876394.0: [(1, 667), (1, 668), (1, 669), (1, 670), (1, 671)],\n",
       " 1633876399.0: [(1, 672), (1, 673), (1, 674), (1, 675), (1, 676)],\n",
       " 1633876405.0: [(1, 677), (1, 678), (1, 679), (1, 680), (1, 681)],\n",
       " 1633876410.0: [(1, 682), (1, 683), (1, 684)],\n",
       " 1633878461.0: [(1, 688), (1, 689), (1, 690)],\n",
       " 1633885041.0: [(1, 881), (1, 882), (1, 883), (1, 884), (1, 885)],\n",
       " 1633885046.0: [(1, 886), (1, 887), (1, 888)],\n",
       " 1633885051.0: [(1, 889), (1, 890), (1, 891), (1, 892), (1, 893)],\n",
       " 1633885056.0: [(1, 894), (1, 895), (1, 896), (1, 897), (1, 898)],\n",
       " 1633885061.0: [(1, 899), (1, 900), (1, 901), (1, 902), (1, 903)],\n",
       " 1633885066.0: [(1, 904), (1, 905), (1, 906), (1, 907), (1, 908)],\n",
       " 1633885077.0: [(1, 911), (1, 912), (1, 913), (1, 914)],\n",
       " 1633885082.0: [(1, 915), (1, 916), (1, 917), (1, 918), (1, 919)],\n",
       " 1633885118.0: [(1, 927), (1, 928), (1, 929), (1, 930), (1, 931)],\n",
       " 1633885149.0: [(1, 937), (1, 938), (1, 939)],\n",
       " 1633885159.0: [(1, 941), (1, 942), (1, 943)],\n",
       " 1633885164.0: [(1, 944), (1, 945), (1, 946), (1, 947)],\n",
       " 1633885169.0: [(1, 948), (1, 949), (1, 950), (1, 951)],\n",
       " 1633885180.0: [(1, 953), (1, 954), (1, 955), (1, 956)],\n",
       " 1633885190.0: [(1, 959), (1, 960), (1, 961)],\n",
       " 1633885200.0: [(1, 964), (1, 965), (1, 966)],\n",
       " 1633885205.0: [(1, 967), (1, 968), (1, 969)],\n",
       " 1633962294.0: [(1, 1018), (1, 1019), (1, 1020), (1, 1021)],\n",
       " 1633962299.0: [(1, 1022), (1, 1023), (1, 1024)],\n",
       " 1633962305.0: [(1, 1025), (1, 1026), (1, 1027), (1, 1028)]}"
      ]
     },
     "execution_count": 13,
     "metadata": {},
     "output_type": "execute_result"
    }
   ],
   "source": [
    "#combine_simultaneous_timestamps in takes the time stamps from the detection data frames (i.e df_BR_Falcon)\n",
    "# and looks to see if there are at least 3 simulatenous detections. Note that there can be more than one detection \n",
    "#from a given station. For example Station A has detections on Port 1 & 2 and Station B has detections on Port 4, \n",
    "#this would qualify as having three simultaneous detections\n",
    "\n",
    "def combine_simultaneous_timestamps(*timestamp_lists):\n",
    "    combined_timestamps = {}\n",
    "    \n",
    "    for list_index, timestamps in enumerate(timestamp_lists):\n",
    "        for index, timestamp in enumerate(timestamps):\n",
    "            if timestamp in combined_timestamps:\n",
    "                combined_timestamps[timestamp].append((list_index, index))\n",
    "            else:\n",
    "                combined_timestamps[timestamp] = [(list_index, index)]\n",
    "    filtered_combined_timestamps = {timestamp: indexes for timestamp, indexes in combined_timestamps.items() if len(indexes) > 2}\n",
    "\n",
    "    return filtered_combined_timestamps\n",
    "\n",
    "# Example lists of time stamps\n",
    "list1 = list(df_BIT_Falcon['tsCorrected'])\n",
    "list2 = list(df_SE_Light_Falcon['tsCorrected'])\n",
    "list3 = list(df_BR_Falcon['tsCorrected'])\n",
    "\n",
    "combined = combine_simultaneous_timestamps(list2, list3)\n",
    "#the below is read [Unix time :(list number, index in that list)]\n",
    "#uncommenting .keys just gives the unix time where multiple detections were found\n",
    "combined#.keys()"
   ]
  },
  {
   "cell_type": "code",
   "execution_count": 14,
   "id": "6c892ddb",
   "metadata": {},
   "outputs": [],
   "source": [
    "# let us just take a random example and make a tesselated geometry. Let us just use the first entry\n",
    "\n",
    "a = combined[list(combined.keys())[0]]\n",
    "key_list = list(combined.keys())\n",
    "for i in range(len(a)):\n",
    "    if a[i][0] == 0:\n",
    "        data_column_rows = df_SE_Light_Falcon[df_SE_Light_Falcon.tsCorrected == key_list[i]]\n",
    "        data_SEL = []\n",
    "        for index,row in data_column_rows.iterrows():\n",
    "            data_SEL.append([int(row['port'][-1]),row['sig']])    \n",
    "    if a[i][0] == 1:\n",
    "        data_column_rows = df_BR_Falcon[df_BR_Falcon.tsCorrected == key_list[i]]\n",
    "        data_BR = []\n",
    "        for index,row in data_column_rows.iterrows():\n",
    "            data_BR.append([int(row['port'][-1]),row['sig']])"
   ]
  },
  {
   "cell_type": "code",
   "execution_count": 14,
   "id": "f14ce3f7",
   "metadata": {},
   "outputs": [
    {
     "data": {
      "text/plain": [
       "[[3, -97.0], [5, -98.0], [2, -98.0], [4, -99.0]]"
      ]
     },
     "execution_count": 14,
     "metadata": {},
     "output_type": "execute_result"
    }
   ],
   "source": [
    "#what are the ports of the Black Rock station that had detections at this time\n",
    "data_BR"
   ]
  },
  {
   "cell_type": "code",
   "execution_count": 15,
   "id": "3ecc625d",
   "metadata": {},
   "outputs": [
    {
     "data": {
      "text/plain": [
       "[[1, -88.0]]"
      ]
     },
     "execution_count": 15,
     "metadata": {},
     "output_type": "execute_result"
    }
   ],
   "source": [
    "#what are the ports of the Southeast Light station that had detections at this time\n",
    "data_SEL"
   ]
  },
  {
   "cell_type": "code",
   "execution_count": 16,
   "id": "39055c56",
   "metadata": {},
   "outputs": [
    {
     "data": {
      "text/plain": [
       "[(0, 1), (1, 1032), (1, 1033)]"
      ]
     },
     "execution_count": 16,
     "metadata": {},
     "output_type": "execute_result"
    }
   ],
   "source": [
    "a"
   ]
  },
  {
   "cell_type": "code",
   "execution_count": 68,
   "id": "641d28f0",
   "metadata": {},
   "outputs": [
    {
     "data": {
      "text/plain": [
       "array([-7094.38076158,  -649.49572315,  1865.21875238])"
      ]
     },
     "execution_count": 68,
     "metadata": {},
     "output_type": "execute_result"
    }
   ],
   "source": [
    "import navpy\n",
    "\n",
    "navpy.lla2ecef(BRR_Station.lat,BRR_Station.long,60) - navpy.lla2ecef(TUR_Station.lat,TUR_Station.long,60)"
   ]
  },
  {
   "cell_type": "code",
   "execution_count": 18,
   "id": "a5290b79",
   "metadata": {},
   "outputs": [],
   "source": [
    "import matplotlib.pyplot as plt\n",
    "from shapely.geometry import Point, Polygon\n",
    "\n",
    "\n",
    "#okay back to the ranch, find the boundaries for each of the ports and their respective RSSI, we will use the \n",
    "#black rock station as our reference station. \n",
    "\n",
    "station_shells = []\n",
    "\n",
    "for i in range(len(data_BR)):\n",
    "    if data_BR[i][0]-1 >= len(BRR_Station.antennas):\n",
    "        continue\n",
    "    station_shells.append(BRR_Station.provide_boundary(data_BR[i][0]-1 ,data_BR[i][1]))\n",
    "\n",
    "for i in range(len(data_SEL)):\n",
    "    if data_SEL[i][0]-1 >= len(SEL_Station.antennas):\n",
    "        continue\n",
    "    station_shells.append(SEL_Station.provide_boundary(data_SEL[i][0]-1 ,data_SEL[i][1],0,611))\n",
    "\n",
    "station_shells_stacked = np.row_stack(station_shells)\n",
    "\n",
    "  \n",
    "\n",
    "def is_point_inside_hull(hull_vertices, point):\n",
    "    hull_polygon = Polygon(hull_vertices)\n",
    "    point = Point(point)\n",
    "    return hull_polygon.contains(point)\n",
    "\n",
    "# Define the range for x and y values\n",
    "x_values_hull = station_shells_stacked[:,0]\n",
    "y_values_hull = station_shells_stacked[:,1]\n",
    "z_values_hull = station_shells_stacked[:,2]\n",
    "\n",
    "x_min, x_max = np.min(x_values_hull), np.max(x_values_hull)\n",
    "y_min, y_max = np.min(y_values_hull), np.max(y_values_hull)\n",
    "z_min, z_max = np.min(z_values_hull), np.max(z_values_hull)\n",
    "\n",
    "# Generate 1e5 (100,000) random 2D points\n",
    "num_points = int(1e5)\n",
    "x_values = np.random.uniform(x_min, x_max, num_points)\n",
    "y_values = np.random.uniform(y_min, y_max, num_points)\n",
    "z_values = np.random.uniform(z_min, z_max, num_points)\n",
    "\n",
    "# Combine x and y values into 2D points\n",
    "points = np.column_stack((x_values, y_values,z_values))\n",
    "\n",
    "# Example usage:\n",
    "#hull_vertices = [(0, 0), (0, 1), (1, 1), (1, 0)]\n",
    "#point_to_check = (25000, 0.5)\n",
    "\n",
    "result_nested_list = [] \n",
    "\n",
    "for j in station_shells:\n",
    "    result_nested_list.append([is_point_inside_hull(j, x) for x in points])\n",
    "\n",
    "    \n",
    "result_nested_list = np.column_stack(result_nested_list)\n",
    "\n",
    "index_map = np.all(result_nested_list,axis=1)\n",
    "\n",
    "#index_map = indices_where_all_true(result_list_2,result_list_3,result_list_4,result_list_5)\n",
    "    "
   ]
  },
  {
   "cell_type": "code",
   "execution_count": 19,
   "id": "ceb48128",
   "metadata": {},
   "outputs": [
    {
     "data": {
      "text/plain": [
       "<matplotlib.collections.PathCollection at 0x7b6e621505b0>"
      ]
     },
     "execution_count": 19,
     "metadata": {},
     "output_type": "execute_result"
    },
    {
     "data": {
      "image/png": "[encoded data removed]",
      "text/plain": [
       "<Figure size 432x288 with 1 Axes>"
      ]
     },
     "metadata": {
      "needs_background": "light"
     },
     "output_type": "display_data"
    }
   ],
   "source": [
    "plt.scatter(points[index_map][:,0],points[index_map][:,1])"
   ]
  },
  {
   "cell_type": "code",
   "execution_count": 20,
   "id": "aa7abe44",
   "metadata": {},
   "outputs": [],
   "source": [
    "# let us just take a random example and make a tesselated geometry. Let us just use the first entry\n",
    "\n",
    "myKeys = list(combined.keys())\n",
    "myKeys.sort()\n",
    "sorted_dict = {i: combined[i] for i in myKeys}\n",
    " \n",
    "combined = sorted_dict"
   ]
  },
  {
   "cell_type": "code",
   "execution_count": 45,
   "id": "a5c5f960",
   "metadata": {},
   "outputs": [],
   "source": [
    "a = combined[list(combined.keys())[0]]\n",
    "key_list = list(combined.keys())\n",
    "for i in range(len(a)):\n",
    "    if a[i][0] == 0:\n",
    "        data_column_rows = df_SE_Light_Falcon[df_SE_Light_Falcon.tsCorrected == key_list[i]]\n",
    "        data_SEL = []\n",
    "        for index,row in data_column_rows.iterrows():\n",
    "            data_SEL.append([int(row['port'][-1]),row['sig']])    \n",
    "    if a[i][0] == 1:\n",
    "        data_column_rows = df_BR_Falcon[df_BR_Falcon.tsCorrected == key_list[i]]\n",
    "        data_BR = []\n",
    "        for index,row in data_column_rows.iterrows():\n",
    "            data_BR.append([int(row['port'][-1]),row['sig']])\n",
    "            \n",
    "            \n",
    "station_shells = []\n",
    "\n",
    "for i in range(len(data_BR)):\n",
    "    if data_BR[i][0]-1 >= len(BRR_Station.antennas):\n",
    "        continue\n",
    "    station_shells.append(BRR_Station.provide_boundary(data_BR[i][0]-1 ,data_BR[i][1]))\n",
    "\n",
    "for i in range(len(data_SEL)):\n",
    "    if data_SEL[i][0]-1 >= len(SEL_Station.antennas):\n",
    "        continue\n",
    "    station_shells.append(SEL_Station.provide_boundary(data_SEL[i][0]-1 ,data_SEL[i][1],0,611))\n",
    "\n",
    "station_shells_stacked = np.row_stack(station_shells)\n",
    "\n",
    "  \n",
    "\n",
    "def is_point_inside_hull(hull_vertices, point):\n",
    "    hull_polygon = Polygon(hull_vertices)\n",
    "    point = Point(point)\n",
    "    return hull_polygon.contains(point)\n",
    "\n",
    "# Define the range for x and y values\n",
    "x_values_hull = station_shells_stacked[:,0]\n",
    "y_values_hull = station_shells_stacked[:,1]\n",
    "z_values_hull = station_shells_stacked[:,2]\n",
    "\n",
    "x_min, x_max = np.min(x_values_hull), np.max(x_values_hull)\n",
    "y_min, y_max = np.min(y_values_hull), np.max(y_values_hull)\n",
    "z_min, z_max = np.min(z_values_hull), np.max(z_values_hull)\n",
    "\n",
    "# Generate 1e5 (100,000) random 2D points\n",
    "num_points = int(1e5)\n",
    "x_values = np.random.uniform(x_min, x_max, num_points)\n",
    "y_values = np.random.uniform(y_min, y_max, num_points)\n",
    "z_values = np.random.uniform(z_min, z_max, num_points)\n",
    "\n",
    "# Combine x and y values into 2D points\n",
    "points = np.column_stack((x_values, y_values,z_values))\n",
    "\n",
    "# Example usage:\n",
    "#hull_vertices = [(0, 0), (0, 1), (1, 1), (1, 0)]\n",
    "#point_to_check = (25000, 0.5)\n",
    "\n",
    "result_nested_list = [] \n",
    "\n",
    "for j in station_shells:\n",
    "    result_nested_list.append([is_point_inside_hull(j, x) for x in points])\n",
    "\n",
    "    \n",
    "result_nested_list = np.column_stack(result_nested_list)\n",
    "\n",
    "index_map = np.all(result_nested_list,axis=1)\n"
   ]
  },
  {
   "cell_type": "code",
   "execution_count": 46,
   "id": "34b7f28c",
   "metadata": {},
   "outputs": [],
   "source": [
    "a = combined[list(combined.keys())[1]]\n",
    "key_list = list(combined.keys())\n",
    "for i in range(len(a)):\n",
    "    if a[i][0] == 0:\n",
    "        data_column_rows = df_SE_Light_Falcon[df_SE_Light_Falcon.tsCorrected == key_list[i]]\n",
    "        data_SEL = []\n",
    "        for index,row in data_column_rows.iterrows():\n",
    "            data_SEL.append([int(row['port'][-1]),row['sig']])    \n",
    "    if a[i][0] == 1:\n",
    "        data_column_rows = df_BR_Falcon[df_BR_Falcon.tsCorrected == key_list[i]]\n",
    "        data_BR = []\n",
    "        for index,row in data_column_rows.iterrows():\n",
    "            data_BR.append([int(row['port'][-1]),row['sig']])\n",
    "            \n",
    "            \n",
    "station_shells = []\n",
    "\n",
    "for i in range(len(data_BR)):\n",
    "    if data_BR[i][0]-1 >= len(BRR_Station.antennas):\n",
    "        continue\n",
    "    station_shells.append(BRR_Station.provide_boundary(data_BR[i][0]-1 ,data_BR[i][1]))\n",
    "\n",
    "for i in range(len(data_SEL)):\n",
    "    if data_SEL[i][0]-1 >= len(SEL_Station.antennas):\n",
    "        continue\n",
    "    station_shells.append(SEL_Station.provide_boundary(data_SEL[i][0]-1 ,data_SEL[i][1],0,611))\n",
    "\n",
    "station_shells_stacked = np.row_stack(station_shells)\n",
    "   \n",
    "    \n",
    "    \n",
    "# Define the range for x and y values\n",
    "x_values_hull = station_shells_stacked[:,0]\n",
    "y_values_hull = station_shells_stacked[:,1]\n",
    "z_values_hull = station_shells_stacked[:,2]\n",
    "\n",
    "x_min, x_max = np.min(x_values_hull), np.max(x_values_hull)\n",
    "y_min, y_max = np.min(y_values_hull), np.max(y_values_hull)\n",
    "z_min, z_max = np.min(z_values_hull), np.max(z_values_hull)\n",
    "\n",
    "# Generate 1e5 (100,000) random 2D points\n",
    "num_points = int(1e5)\n",
    "x_values = np.random.uniform(x_min, x_max, num_points)\n",
    "y_values = np.random.uniform(y_min, y_max, num_points)\n",
    "z_values = np.random.uniform(z_min, z_max, num_points)\n",
    "\n",
    "# Combine x and y values into 2D points\n",
    "points_1 = np.column_stack((x_values, y_values,z_values))\n",
    "\n",
    "\n",
    "# Example usage:\n",
    "#hull_vertices = [(0, 0), (0, 1), (1, 1), (1, 0)]\n",
    "#point_to_check = (25000, 0.5)\n",
    "\n",
    "result_nested_list = [] \n",
    "\n",
    "for j in station_shells:\n",
    "    result_nested_list.append([is_point_inside_hull(j, x) for x in points_1])\n",
    "\n",
    "    \n",
    "result_nested_list = np.column_stack(result_nested_list)\n",
    "\n",
    "index_map_1 = np.all(result_nested_list,axis=1)"
   ]
  },
  {
   "cell_type": "code",
   "execution_count": 40,
   "id": "c1577a83",
   "metadata": {},
   "outputs": [
    {
     "data": {
      "text/plain": [
       "[['L4', -89.0], ['L2', -96.0], ['L5', -102.0], ['L3', -92.0]]"
      ]
     },
     "execution_count": 40,
     "metadata": {},
     "output_type": "execute_result"
    }
   ],
   "source": [
    "data_BR"
   ]
  },
  {
   "cell_type": "code",
   "execution_count": 61,
   "id": "447ac5aa",
   "metadata": {},
   "outputs": [
    {
     "data": {
      "image/png": "[encoded data removed]",
      "text/plain": [
       "<Figure size 432x288 with 1 Axes>"
      ]
     },
     "metadata": {
      "needs_background": "light"
     },
     "output_type": "display_data"
    }
   ],
   "source": [
    "plt.scatter(points[index_map][:,0],points[index_map][:,1],marker='o',color='None',edgecolor='black')\n",
    "plt.scatter(points_1[index_map_1][:,0],points_1[index_map_1][:,1],marker='*',color='None',edgecolor='grey')\n",
    "\n",
    "plt.savefig('Overlap.pdf')\n"
   ]
  },
  {
   "cell_type": "code",
   "execution_count": null,
   "id": "e23e463a",
   "metadata": {},
   "outputs": [],
   "source": [
    "#idiot check time!"
   ]
  },
  {
   "cell_type": "code",
   "execution_count": null,
   "id": "0330dd72",
   "metadata": {},
   "outputs": [],
   "source": []
  },
  {
   "cell_type": "code",
   "execution_count": 23,
   "id": "9faaea39",
   "metadata": {},
   "outputs": [
    {
     "data": {
      "image/png": "[encoded data removed]",
      "text/plain": [
       "<Figure size 432x288 with 1 Axes>"
      ]
     },
     "metadata": {
      "needs_background": "light"
     },
     "output_type": "display_data"
    }
   ],
   "source": [
    "import numpy as np\n",
    "import matplotlib.pyplot as plt\n",
    "from scipy import spatial\n",
    "\n",
    "#plot all of the points where the RSSI of the black rock station is equal to -97 dBm (black)\n",
    "#find the boundary points (red) \n",
    "\n",
    "\n",
    "#xy = np.loadtxt('xy.txt')\n",
    "x = BRR_Station.antennas[2].rad_pattern[BRR_Station.antennas[2].rad_pattern.RSSI == -97].X\n",
    "y = BRR_Station.antennas[2].rad_pattern[BRR_Station.antennas[2].rad_pattern.RSSI == -97].Y\n",
    "\n",
    "xy = np.column_stack((np.array(x).T,np.array(y).T))\n",
    "\n",
    "hull = spatial.ConvexHull(xy, incremental=False, qhull_options='Qt')\n",
    "hull_indices = hull.vertices\n",
    "\n",
    "boundary_x = []\n",
    "boundary_y = []\n",
    "\n",
    "for i in range(len(hull_indices)):\n",
    "    index = hull_indices[i]\n",
    "    boundary_x.append(xy[index, 0].astype('float64'))\n",
    "    boundary_y.append(xy[index, 1].astype('float64'))\n",
    "\n",
    "plt.plot(np.array(x), np.array(y), 'o', color='black', markersize=6)\n",
    "plt.plot(boundary_x, boundary_y, 'o', color='red', markersize=4)\n",
    "\n",
    "plt.show()"
   ]
  },
  {
   "cell_type": "code",
   "execution_count": 24,
   "id": "5504557c",
   "metadata": {},
   "outputs": [
    {
     "data": {
      "text/plain": [
       "16        3683.221321\n",
       "39        3685.183441\n",
       "53        3690.793740\n",
       "63        3688.011201\n",
       "72        3681.385388\n",
       "             ...     \n",
       "77686     6816.695611\n",
       "77689     6937.488413\n",
       "77782    10600.247063\n",
       "77797    11153.140724\n",
       "77801    11341.616259\n",
       "Name: X, Length: 5407, dtype: float64"
      ]
     },
     "execution_count": 24,
     "metadata": {},
     "output_type": "execute_result"
    }
   ],
   "source": [
    "x"
   ]
  },
  {
   "cell_type": "code",
   "execution_count": null,
   "id": "f5a09636",
   "metadata": {},
   "outputs": [],
   "source": []
  },
  {
   "cell_type": "code",
   "execution_count": 25,
   "id": "543c1af8",
   "metadata": {},
   "outputs": [
    {
     "data": {
      "text/plain": [
       "array([[  3683.2213209 ,  -3837.60364485],\n",
       "       [  3685.18344096,  -3833.68375409],\n",
       "       [  3690.7937398 ,  -3840.64786046],\n",
       "       ...,\n",
       "       [ 10600.2470628 , -12532.36893294],\n",
       "       [ 11153.14072387, -13225.75255897],\n",
       "       [ 11341.61625879, -13475.82641104]])"
      ]
     },
     "execution_count": 25,
     "metadata": {},
     "output_type": "execute_result"
    }
   ],
   "source": [
    "np.column_stack((np.array(x).T,np.array(y).T))"
   ]
  },
  {
   "cell_type": "code",
   "execution_count": 26,
   "id": "a409d495",
   "metadata": {},
   "outputs": [
    {
     "data": {
      "text/plain": [
       "16        3683.221321\n",
       "39        3685.183441\n",
       "53        3690.793740\n",
       "63        3688.011201\n",
       "72        3681.385388\n",
       "             ...     \n",
       "77686     6816.695611\n",
       "77689     6937.488413\n",
       "77782    10600.247063\n",
       "77797    11153.140724\n",
       "77801    11341.616259\n",
       "Name: X, Length: 5407, dtype: float64"
      ]
     },
     "execution_count": 26,
     "metadata": {},
     "output_type": "execute_result"
    }
   ],
   "source": [
    "BRR_Station.antennas[2].rad_pattern[BRR_Station.antennas[2].rad_pattern.RSSI == -97].X"
   ]
  },
  {
   "cell_type": "code",
   "execution_count": 27,
   "id": "8cb2ac54",
   "metadata": {},
   "outputs": [],
   "source": [
    "#okay back to the ranch, find the boundaries for each of the ports and their respective RSSI, we will use the \n",
    "#black rock station as our reference station. \n",
    "\n",
    "a2 = BRR_Station.provide_boundary(1,-98)\n",
    "a3 = BRR_Station.provide_boundary(2,-97)\n",
    "a4 = BRR_Station.provide_boundary(3,-99)\n",
    "a5 = SEL_Station.provide_boundary(0,-88,0,611)"
   ]
  },
  {
   "cell_type": "code",
   "execution_count": 28,
   "id": "24af4fcc",
   "metadata": {},
   "outputs": [
    {
     "data": {
      "text/plain": [
       "<matplotlib.collections.PathCollection at 0x7b6e620d2e30>"
      ]
     },
     "execution_count": 28,
     "metadata": {},
     "output_type": "execute_result"
    },
    {
     "data": {
      "image/png": "[encoded data removed]",
      "text/plain": [
       "<Figure size 432x288 with 1 Axes>"
      ]
     },
     "metadata": {
      "needs_background": "light"
     },
     "output_type": "display_data"
    }
   ],
   "source": [
    "#plot each of the geometries. each one will have a different color. XY axis are in meters. \n",
    "\n",
    "plt.scatter(a2[:,0],a2[:,1])\n",
    "plt.scatter(a3[:,0],a3[:,1])\n",
    "plt.scatter(a4[:,0],a4[:,1])\n",
    "plt.scatter(a5[:,0],a5[:,1])\n"
   ]
  },
  {
   "cell_type": "code",
   "execution_count": 29,
   "id": "12a06f19",
   "metadata": {},
   "outputs": [],
   "source": [
    "Equirectangular approximation\n",
    "import matplotlib.pyplot as plt\n",
    "from shapely.geometry import Point, Polygon\n",
    "\n",
    "def is_point_inside_hull(hull_vertices, point):\n",
    "    hull_polygon = Polygon(hull_vertices)\n",
    "    point = Point(point)\n",
    "    return hull_polygon.contains(point)\n",
    "\n",
    "def indices_where_all_true(*lists):\n",
    "    return [i for i, values in enumerate(zip(*lists)) if all(values)]\n",
    "\n",
    "# Define the range for x and y values\n",
    "x_values_hull = np.concatenate((a2[:,0],a3[:,0],a4[:,0],a5[:,0]))\n",
    "y_values_hull = np.concatenate((a2[:,1],a3[:,1],a4[:,1],a5[:,1]))\n",
    "z_values_hull = np.concatenate((a2[:,2],a3[:,2],a4[:,2],a5[:,2]))\n",
    "\n",
    "x_min, x_max = np.min(x_values_hull), np.max(x_values_hull)\n",
    "y_min, y_max = np.min(y_values_hull), np.max(y_values_hull)\n",
    "z_min, z_max = np.min(z_values_hull), np.max(z_values_hull)\n",
    "\n",
    "# Generate 1e5 (100,000) random 2D points\n",
    "num_points = int(1e5)\n",
    "x_values = np.random.uniform(x_min, x_max, num_points)\n",
    "y_values = np.random.uniform(y_min, y_max, num_points)\n",
    "z_values = np.random.uniform(z_min, z_max, num_points)\n",
    "\n",
    "# Combine x and y values into 2D points\n",
    "points = np.column_stack((x_values, y_values,z_values))\n",
    "\n",
    "# Example usage:\n",
    "#hull_vertices = [(0, 0), (0, 1), (1, 1), (1, 0)]\n",
    "#point_to_check = (25000, 0.5)\n",
    "\n",
    "result_list_2 = [is_point_inside_hull(a2, x) for x in points]\n",
    "result_list_3 = [is_point_inside_hull(a3, x) for x in points]\n",
    "result_list_4 = [is_point_inside_hull(a4, x) for x in points]\n",
    "result_list_5 = [is_point_inside_hull(a5, x) for x in points]\n",
    "\n",
    "index_map = indices_where_all_true(result_list_2,result_list_3,result_list_4,result_list_5)\n"
   ]
  },
  {
   "cell_type": "code",
   "execution_count": 30,
   "id": "ed5114ed",
   "metadata": {},
   "outputs": [
    {
     "data": {
      "text/plain": [
       "<matplotlib.collections.PathCollection at 0x7b6e61f62290>"
      ]
     },
     "execution_count": 30,
     "metadata": {},
     "output_type": "execute_result"
    },
    {
     "data": {
      "image/png": "[encoded data removed]",
      "text/plain": [
       "<Figure size 432x288 with 1 Axes>"
      ]
     },
     "metadata": {
      "needs_background": "light"
     },
     "output_type": "display_data"
    }
   ],
   "source": [
    "plt.scatter(a2[:,0],a2[:,1])\n",
    "plt.scatter(a3[:,0],a3[:,1])\n",
    "plt.scatter(a4[:,0],a4[:,1])\n",
    "plt.scatter(a5[:,0],a5[:,1])\n",
    "\n",
    "plt.scatter(points[index_map][:,0],points[index_map][:,1])"
   ]
  },
  {
   "cell_type": "code",
   "execution_count": 31,
   "id": "25a0c864",
   "metadata": {},
   "outputs": [
    {
     "data": {
      "image/png": "[encoded data removed]",
      "text/plain": [
       "<Figure size 432x288 with 1 Axes>"
      ]
     },
     "metadata": {
      "needs_background": "light"
     },
     "output_type": "display_data"
    }
   ],
   "source": [
    "heatmap, xedges, yedges = np.histogram2d(points[index_map][:,0], points[index_map][:,1], bins=30)\n",
    "#extent = [xedges[0], xedges[-1], yedges[0], yedges[-1]]\n",
    "extent = [-25000, 25000, -25000, 25000]\n",
    "\n",
    "\n",
    "plt.clf()\n",
    "plt.imshow(heatmap.T, extent=extent, origin='lower')\n",
    "plt.show()\n"
   ]
  },
  {
   "cell_type": "code",
   "execution_count": 32,
   "id": "7a387b57",
   "metadata": {},
   "outputs": [
    {
     "name": "stderr",
     "output_type": "stream",
     "text": [
      "/tmp/ipykernel_9930/3470780893.py:4: DeprecationWarning: Please use `gaussian_filter` from the `scipy.ndimage` namespace, the `scipy.ndimage.filters` namespace is deprecated.\n",
      "  from scipy.ndimage.filters import gaussian_filter\n"
     ]
    },
    {
     "data": {
      "image/png": "[encoded data removed]",
      "text/plain": [
       "<Figure size 432x288 with 4 Axes>"
      ]
     },
     "metadata": {
      "needs_background": "light"
     },
     "output_type": "display_data"
    }
   ],
   "source": [
    "import numpy as np\n",
    "import matplotlib.pyplot as plt\n",
    "import matplotlib.cm as cm\n",
    "from scipy.ndimage.filters import gaussian_filter\n",
    "\n",
    "\n",
    "def myplot(x, y, s, bins=1000):\n",
    "    heatmap, xedges, yedges = np.histogram2d(x, y, bins=bins)\n",
    "    heatmap = gaussian_filter(heatmap, sigma=s)\n",
    "\n",
    "    extent = [xedges[0], xedges[-1], yedges[0], yedges[-1]]\n",
    "    return heatmap.T, extent\n",
    "\n",
    "\n",
    "fig, axs = plt.subplots(2, 2)\n",
    "\n",
    "# Generate some test data\n",
    "x = points[index_map][:,0]\n",
    "y = points[index_map][:,1]\n",
    "\n",
    "sigmas = [0, 16, 32, 64]\n",
    "\n",
    "for ax, s in zip(axs.flatten(), sigmas):\n",
    "    if s == 0:\n",
    "        ax.plot(x, y, 'k.', markersize=5)\n",
    "        ax.set_title(\"Scatter plot\")\n",
    "    else:\n",
    "        img, extent = myplot(x, y, s)\n",
    "        ax.imshow(img, extent=extent, origin='lower', cmap=cm.jet)\n",
    "        ax.set_title(\"Smoothing with  $\\sigma$ = %d\" % s)\n",
    "\n",
    "plt.tight_layout()  # Adjust layout to prevent overlapping\n",
    "\n",
    "plt.savefig('Smoothed_Location_Plots.pdf')"
   ]
  },
  {
   "cell_type": "code",
   "execution_count": 33,
   "id": "9c1ace1d",
   "metadata": {},
   "outputs": [],
   "source": [
    "#let us sort the keys chronologically so we can find two detections that are within a few seconds of each other\n",
    "\n",
    "\n",
    "myKeys = list(combined.keys())\n",
    "myKeys.sort()\n",
    "sorted_dict = {i: combined[i] for i in myKeys}\n",
    " \n",
    "combined = sorted_dict"
   ]
  },
  {
   "cell_type": "code",
   "execution_count": 34,
   "id": "de38e469",
   "metadata": {},
   "outputs": [],
   "source": [
    "# let us just take a random example and make a tesselated geometry. Let us just use the first entry\n",
    "\n",
    "a = combined[list(combined.keys())[0]]\n",
    "key_list = list(combined.keys())\n",
    "for i in range(len(a)):\n",
    "    if a[i][0] == 0:\n",
    "        data_column_rows = df_SE_Light_Falcon[df_SE_Light_Falcon.tsCorrected == key_list[i]]\n",
    "        data_SEL = []\n",
    "        for index,row in data_column_rows.iterrows():\n",
    "            data_SEL.append([row['port'],row['sig']])    \n",
    "    if a[i][0] == 1:\n",
    "        data_column_rows = df_BR_Falcon[df_BR_Falcon.tsCorrected == key_list[i]]\n",
    "        data_BR = []\n",
    "        for index,row in data_column_rows.iterrows():\n",
    "            data_BR.append([row['port'],row['sig']])"
   ]
  },
  {
   "cell_type": "code",
   "execution_count": 35,
   "id": "fea171cc",
   "metadata": {},
   "outputs": [
    {
     "data": {
      "text/plain": [
       "1633816172.0"
      ]
     },
     "execution_count": 35,
     "metadata": {},
     "output_type": "execute_result"
    }
   ],
   "source": [
    "list(combined.keys())[0]"
   ]
  },
  {
   "cell_type": "code",
   "execution_count": 36,
   "id": "f9fbcd09",
   "metadata": {},
   "outputs": [
    {
     "data": {
      "text/plain": [
       "-146153.0"
      ]
     },
     "execution_count": 36,
     "metadata": {},
     "output_type": "execute_result"
    }
   ],
   "source": [
    "1633816172.0 - 1633962325.0\n",
    "\n"
   ]
  },
  {
   "cell_type": "code",
   "execution_count": 37,
   "id": "05926c97",
   "metadata": {},
   "outputs": [
    {
     "data": {
      "text/plain": [
       "40.598055555555554"
      ]
     },
     "execution_count": 37,
     "metadata": {},
     "output_type": "execute_result"
    }
   ],
   "source": [
    "146153.0/60/60"
   ]
  },
  {
   "cell_type": "code",
   "execution_count": 17,
   "id": "6e56de55",
   "metadata": {},
   "outputs": [],
   "source": [
    "df = pd.read_csv('final_TUR_composite_data_upd90.csv')"
   ]
  },
  {
   "cell_type": "code",
   "execution_count": 23,
   "id": "34c13ed9",
   "metadata": {},
   "outputs": [],
   "source": [
    "df1 = df.dropna().reset_index()"
   ]
  },
  {
   "cell_type": "code",
   "execution_count": 27,
   "id": "e6653d21",
   "metadata": {},
   "outputs": [],
   "source": [
    "df1[[\"X\",\"Y\",\"Z\",\"RSSI\"]].to_csv(\"final_TUR_composite_data_upd90_dropped_nan.csv\")"
   ]
  },
  {
   "cell_type": "code",
   "execution_count": 66,
   "id": "0f9795f8",
   "metadata": {},
   "outputs": [
    {
     "data": {
      "text/plain": [
       "0   NaN\n",
       "1   NaN\n",
       "2   NaN\n",
       "3   NaN\n",
       "4   NaN\n",
       "5   NaN\n",
       "Name: recvDeployAlt, dtype: float64"
      ]
     },
     "execution_count": 66,
     "metadata": {},
     "output_type": "execute_result"
    }
   ],
   "source": [
    "df_SE_Light_GT.recvDeployAlt"
   ]
  },
  {
   "cell_type": "code",
   "execution_count": null,
   "id": "76d4fdba",
   "metadata": {},
   "outputs": [],
   "source": []
  }
 ],
 "metadata": {
  "kernelspec": {
   "display_name": "Python 3 (ipykernel)",
   "language": "python",
   "name": "python3"
  },
  "language_info": {
   "codemirror_mode": {
    "name": "ipython",
    "version": 3
   },
   "file_extension": ".py",
   "mimetype": "text/x-python",
   "name": "python",
   "nbconvert_exporter": "python",
   "pygments_lexer": "ipython3",
   "version": "3.10.12"
  }
 },
 "nbformat": 4,
 "nbformat_minor": 5
}
