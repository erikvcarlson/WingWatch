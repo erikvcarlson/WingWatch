{
 "cells": [
  {
   "cell_type": "code",
   "execution_count": 1,
   "id": "dc1eca60",
   "metadata": {},
   "outputs": [],
   "source": [
    "import sys\n",
    "sys.path.insert(1, '/home/main/Research/WingWatch')\n",
    "#sys.path.insert(1, '/home/user/Research/base-WingWatch')\n",
    "\n",
    "from WingWatch.Equipment import station\n",
    "from WingWatch.Equipment import antenna\n",
    "from WingWatch.Intersections import montecarlo\n",
    "from WingWatch.Tools import translation\n",
    "from WingWatch.Calibration import clean_data\n",
    "\n",
    "import pandas as pd\n",
    "import numpy as np\n",
    "import matplotlib.pyplot as plt"
   ]
  },
  {
   "cell_type": "code",
   "execution_count": 2,
   "id": "d320ec10",
   "metadata": {},
   "outputs": [
    {
     "name": "stdout",
     "output_type": "stream",
     "text": [
      "1 added to SEL's antennas.\n",
      "2 added to SEL's antennas.\n",
      "3 added to SEL's antennas.\n",
      "4 added to SEL's antennas.\n"
     ]
    }
   ],
   "source": [
    "#Setup each of the actual stations\n",
    "\n",
    "SEL_Station = station.Station('SEL',41.1534, -71.5521)\n",
    "\n",
    "a1 = antenna.Antenna('1','yagi',0,434)\n",
    "df = pd.read_csv('SE_Light_434_0_calib.csv')\n",
    "a1.assign_pattern(df)\n",
    "a1.convert_to_lat_long(SEL_Station)\n",
    "\n",
    "a2 = antenna.Antenna('2','yagi',0,434)\n",
    "df = pd.read_csv('SE_Light_434_1_calib.csv')\n",
    "a2.assign_pattern(df)\n",
    "a2.convert_to_lat_long(SEL_Station)\n",
    "\n",
    "a3 = antenna.Antenna('3','yagi',0,434)\n",
    "df = pd.read_csv('SE_Light_434_2_calib.csv')\n",
    "a3.assign_pattern(df)\n",
    "a3.convert_to_lat_long(SEL_Station)\n",
    "\n",
    "\n",
    "a4 = antenna.Antenna('4','yagi',0,434)\n",
    "df = pd.read_csv('SE_Light_434_3_calib.csv')\n",
    "a4.assign_pattern(df)\n",
    "a4.convert_to_lat_long(SEL_Station)\n",
    "\n",
    "SEL_Station.add_antenna(a1)\n",
    "SEL_Station.add_antenna(a2)\n",
    "SEL_Station.add_antenna(a3)\n",
    "SEL_Station.add_antenna(a4)"
   ]
  },
  {
   "cell_type": "code",
   "execution_count": 3,
   "id": "986f56f0",
   "metadata": {},
   "outputs": [
    {
     "name": "stdout",
     "output_type": "stream",
     "text": [
      "1 added to BRR's antennas.\n",
      "2 added to BRR's antennas.\n",
      "3 added to BRR's antennas.\n",
      "4 added to BRR's antennas.\n"
     ]
    }
   ],
   "source": [
    "#Setup each of the actual stations\n",
    "\n",
    "BRR_Station = station.Station('BRR',41.1479, -71.5901)\n",
    "\n",
    "a1 = antenna.Antenna('1','yagi',0,434)\n",
    "df = pd.read_csv('Black_Rock_434_0_calib.csv')\n",
    "a1.assign_pattern(df)\n",
    "a1.convert_to_lat_long(SEL_Station)\n",
    "\n",
    "a2 = antenna.Antenna('2','yagi',0,434)\n",
    "df = pd.read_csv('Black_Rock_434_1_calib.csv')\n",
    "a2.assign_pattern(df)\n",
    "a2.convert_to_lat_long(SEL_Station)\n",
    "\n",
    "a3 = antenna.Antenna('3','yagi',0,434)\n",
    "df = pd.read_csv('Black_Rock_434_2_calib.csv')\n",
    "a3.assign_pattern(df)\n",
    "a3.convert_to_lat_long(SEL_Station)\n",
    "\n",
    "\n",
    "a4 = antenna.Antenna('4','yagi',0,434)\n",
    "df = pd.read_csv('Black_Rock_434_3_calib.csv')\n",
    "a4.assign_pattern(df)\n",
    "a4.convert_to_lat_long(SEL_Station)\n",
    "\n",
    "BRR_Station.add_antenna(a1)\n",
    "BRR_Station.add_antenna(a2)\n",
    "BRR_Station.add_antenna(a3)\n",
    "BRR_Station.add_antenna(a4)"
   ]
  },
  {
   "cell_type": "code",
   "execution_count": 4,
   "id": "887db8bc",
   "metadata": {},
   "outputs": [
    {
     "name": "stdout",
     "output_type": "stream",
     "text": [
      "1 added to TUR's antennas.\n",
      "2 added to TUR's antennas.\n",
      "3 added to TUR's antennas.\n",
      "4 added to TUR's antennas.\n"
     ]
    }
   ],
   "source": [
    "#Setup each of the actual stations\n",
    "\n",
    "TUR_Station = station.Station('TUR',41.1256, -71.5075)\n",
    "\n",
    "a1 = antenna.Antenna('1','yagi',0,434)\n",
    "df = pd.read_csv('BIWF_Turbine1_0_calib.csv')\n",
    "a1.assign_pattern(df)\n",
    "a1.convert_to_lat_long(SEL_Station)\n",
    "\n",
    "a2 = antenna.Antenna('2','yagi',0,434)\n",
    "df = pd.read_csv('BIWF_Turbine1_1_calib.csv')\n",
    "a2.assign_pattern(df)\n",
    "a2.convert_to_lat_long(SEL_Station)\n",
    "\n",
    "a3 = antenna.Antenna('3','yagi',0,434)\n",
    "df = pd.read_csv('BIWF_Turbine1_2_calib.csv')\n",
    "a3.assign_pattern(df)\n",
    "a3.convert_to_lat_long(SEL_Station)\n",
    "\n",
    "\n",
    "a4 = antenna.Antenna('4','yagi',0,434)\n",
    "df = pd.read_csv('BIWF_Turbine1_3_calib.csv')\n",
    "a4.assign_pattern(df)\n",
    "a4.convert_to_lat_long(SEL_Station)\n",
    "\n",
    "TUR_Station.add_antenna(a1)\n",
    "TUR_Station.add_antenna(a2)\n",
    "TUR_Station.add_antenna(a3)\n",
    "TUR_Station.add_antenna(a4)"
   ]
  },
  {
   "cell_type": "code",
   "execution_count": 5,
   "id": "a995c41c",
   "metadata": {},
   "outputs": [],
   "source": [
    "#At an epoch time of 1630333415, the test tag was at 41.127364,-71.492852,0"
   ]
  },
  {
   "cell_type": "code",
   "execution_count": 6,
   "id": "f5183320",
   "metadata": {},
   "outputs": [],
   "source": [
    "#Let us start working some geometries\n",
    "\n",
    "df = pd.read_csv('allTagsAll390.csv',low_memory=False)\n",
    "\n",
    "#BIWF goes offline on 11-29-2021\n",
    "#SE Light goes offline on 12-25-2021\n",
    "#Black Rock Goes offline on 5-26-2022\n",
    "\n",
    "\n",
    "\n",
    "#remove any detections from the MOTUS project which are detected after the stations came down \n",
    "df['ts'] = pd.to_datetime(df['ts'])\n",
    "df1 = df[df['ts'] < pd.to_datetime('2022-05-26')]\n",
    "\n",
    "#filter just our recievers\n",
    "mask = (df1['recvDeployName'] == 'Black_Rock_434') | (df1['recvDeployName'] == 'SE_Light_434') | (df1['recv'] == 'CTT-6A8468DA84C0')\n",
    "\n",
    "#BIT is the Block Island Turbine\n",
    "df_Black_Rock = df1[df1['recvDeployName'] == 'Black_Rock_434'].reset_index()\n",
    "df_SE_Light = df1[df1['recvDeployName'] == 'SE_Light_434'].reset_index()\n",
    "df_BIT = df1[df1['recv'] == 'CTT-6A8468DA84C0'].reset_index()"
   ]
  },
  {
   "cell_type": "code",
   "execution_count": 7,
   "id": "226c8c46",
   "metadata": {},
   "outputs": [],
   "source": [
    "#Ground Truth Test - tsCorrected is in UNIX Time at GMT \n",
    "\n",
    "df_BR_GT = df_Black_Rock[(df_Black_Rock['tsCorrected'] >= 1630333415.0) & (df_Black_Rock['tsCorrected'] <= 1630333417.0)].reset_index()\n",
    "df_SE_Light_GT = df_SE_Light[(df_SE_Light['tsCorrected'] >= 1630333415.0) & (df_SE_Light['tsCorrected'] <= 1630333417.0)].reset_index()\n",
    "df_BIT_GT = df_BIT[(df_BIT['tsCorrected'] >= 1630333415.0) & (df_BIT['tsCorrected'] <= 1630333417.0)].reset_index()"
   ]
  },
  {
   "cell_type": "code",
   "execution_count": 8,
   "id": "0c8b1425",
   "metadata": {},
   "outputs": [],
   "source": [
    "def combine_simultaneous_timestamps(*timestamp_lists):\n",
    "    combined_timestamps = {}\n",
    "    \n",
    "    for list_index, timestamps in enumerate(timestamp_lists):\n",
    "        for index, timestamp in enumerate(timestamps):\n",
    "            if timestamp in combined_timestamps:\n",
    "                combined_timestamps[timestamp].append((list_index, index))\n",
    "            else:\n",
    "                combined_timestamps[timestamp] = [(list_index, index)]\n",
    "    filtered_combined_timestamps = {timestamp: indexes for timestamp, indexes in combined_timestamps.items() if len(indexes) > 2}\n",
    "\n",
    "    return filtered_combined_timestamps\n",
    "\n",
    "# Example lists of time stamps\n",
    "list1 = list(df_BIT_GT['tsCorrected'])\n",
    "list2 = list(df_SE_Light_GT['tsCorrected'])\n",
    "list3 = list(df_BR_GT['tsCorrected'])\n",
    "\n",
    "combined = combine_simultaneous_timestamps(list1,list2, list3)\n"
   ]
  },
  {
   "cell_type": "code",
   "execution_count": 9,
   "id": "1f7117cd",
   "metadata": {},
   "outputs": [
    {
     "data": {
      "text/plain": [
       "{1630333415.0: [(0, 0), (0, 1), (0, 2), (1, 0), (1, 1), (1, 2), (2, 0)],\n",
       " 1630333416.0: [(0, 3), (0, 4), (0, 5), (1, 3)],\n",
       " 1630333417.0: [(0, 6), (0, 7), (0, 8), (1, 4), (1, 5), (2, 1)]}"
      ]
     },
     "execution_count": 9,
     "metadata": {},
     "output_type": "execute_result"
    }
   ],
   "source": [
    "combined"
   ]
  },
  {
   "cell_type": "code",
   "execution_count": 10,
   "id": "235260d9",
   "metadata": {},
   "outputs": [],
   "source": [
    "a = combined[list(combined.keys())[0]]\n",
    "key_list = list(combined.keys())\n",
    "for i in range(len(a)):\n",
    "    if a[i][0] == 0:\n",
    "        data_column_rows = df_BIT_GT[df_BIT_GT.tsCorrected == key_list[0]] \n",
    "        #key_list[0] will need to change when dealing with multiple time iterations. it should be the same as the \n",
    "        # number that is indexing a, at the top of this box\n",
    "        data_BIT = []\n",
    "        for index,row in data_column_rows.iterrows():\n",
    "            data_BIT.append([int(row['port'][-1]),row['sig']]) \n",
    "    if a[i][0] == 1:\n",
    "        data_column_rows = df_SE_Light_GT[df_SE_Light_GT.tsCorrected == key_list[0]]\n",
    "        data_SEL = []\n",
    "        for index,row in data_column_rows.iterrows():\n",
    "            data_SEL.append([int(row['port'][-1]),row['sig']])    \n",
    "    if a[i][0] == 2:\n",
    "        data_column_rows = df_BR_GT[df_BR_GT.tsCorrected == key_list[0]]\n",
    "        data_BR = []\n",
    "        for index,row in data_column_rows.iterrows():\n",
    "            data_BR.append([int(row['port'][-1]),row['sig']])"
   ]
  },
  {
   "cell_type": "code",
   "execution_count": 11,
   "id": "f1b51378",
   "metadata": {},
   "outputs": [
    {
     "data": {
      "text/plain": [
       "[[3, -83.0], [4, -86.0], [2, -96.0]]"
      ]
     },
     "execution_count": 11,
     "metadata": {},
     "output_type": "execute_result"
    }
   ],
   "source": [
    "data_BIT"
   ]
  },
  {
   "cell_type": "code",
   "execution_count": 12,
   "id": "8efe6ef7",
   "metadata": {},
   "outputs": [
    {
     "data": {
      "text/plain": [
       "[[1, -100.0]]"
      ]
     },
     "execution_count": 12,
     "metadata": {},
     "output_type": "execute_result"
    }
   ],
   "source": [
    "data_BR"
   ]
  },
  {
   "cell_type": "code",
   "execution_count": 13,
   "id": "86169020",
   "metadata": {},
   "outputs": [],
   "source": [
    "from WingWatch.Intersections.montecarlo import montecarlo_intersection\n",
    "from WingWatch.Equipment import station\n",
    "from WingWatch.Equipment import antenna\n",
    "from WingWatch.Intersections import montecarlo\n",
    "from WingWatch.Tools import translation\n",
    "from WingWatch.Calibration import clean_data\n",
    "\n",
    "station_data = [[data_BR,BRR_Station],[data_SEL,SEL_Station],[data_BIT,TUR_Station]]\n",
    "points,index_map = montecarlo_intersection(station_data)"
   ]
  },
  {
   "cell_type": "code",
   "execution_count": 14,
   "id": "4f96a0d2",
   "metadata": {},
   "outputs": [
    {
     "data": {
      "image/png": "[encoded data removed]",
      "text/plain": [
       "<Figure size 432x288 with 1 Axes>"
      ]
     },
     "metadata": {
      "needs_background": "light"
     },
     "output_type": "display_data"
    }
   ],
   "source": [
    "XY = points[index_map][:,0:2]\n",
    "rot_mat = np.eye(2)\n",
    "#rot_mat = np.array([[0,1],[-1,0]])\n",
    "rot_points = np.matmul(XY,rot_mat)\n",
    "\n",
    "\n",
    "plt.scatter(rot_points[:,0],rot_points[:,1])\n",
    "plt.scatter(8166,2276,color=\"black\",label='GPS Detection')\n",
    "#plt.xlim(-20000, 20000)\n",
    "#plt.ylim(-10000, 10000)\n",
    "plt.scatter(0,0,marker='*',color='green',label='Station')\n",
    "plt.scatter(3189,611,marker='*',color='green',label='Station')\n",
    "plt.scatter(6936,-2473,marker='*',color='green',label='Station')\n",
    "plt.legend(loc='lower left')\n",
    "plt.savefig('Working_Triangulation_Algorithm_7_antennas.pdf')"
   ]
  },
  {
   "cell_type": "code",
   "execution_count": 15,
   "id": "2ead6657",
   "metadata": {},
   "outputs": [],
   "source": [
    "a = combined[list(combined.keys())[1]]\n",
    "key_list = list(combined.keys())\n",
    "for i in range(len(a)):\n",
    "    if a[i][0] == 0:\n",
    "        data_column_rows = df_BIT_GT[df_BIT_GT.tsCorrected == key_list[1]] \n",
    "        #key_list[0] will need to change when dealing with multiple time iterations. it should be the same as the \n",
    "        # number that is indexing a, at the top of this box\n",
    "        data_BIT = []\n",
    "        for index,row in data_column_rows.iterrows():\n",
    "            data_BIT.append([int(row['port'][-1]),row['sig']]) \n",
    "    if a[i][0] == 1:\n",
    "        data_column_rows = df_SE_Light_GT[df_SE_Light_GT.tsCorrected == key_list[1]]\n",
    "        data_SEL = []\n",
    "        for index,row in data_column_rows.iterrows():\n",
    "            data_SEL.append([int(row['port'][-1]),row['sig']])    \n",
    "    if a[i][0] == 2:\n",
    "        data_column_rows = df_BR_GT[df_BR_GT.tsCorrected == key_list[1]]\n",
    "        data_BR = []\n",
    "        for index,row in data_column_rows.iterrows():\n",
    "            data_BR.append([int(row['port'][-1]),row['sig']])"
   ]
  },
  {
   "cell_type": "code",
   "execution_count": 16,
   "id": "7dd6c1ed",
   "metadata": {},
   "outputs": [],
   "source": [
    "station_data_1 = [[data_BR,BRR_Station],[data_SEL,SEL_Station],[data_BIT,TUR_Station]]\n",
    "points_1,index_map_1 = montecarlo_intersection(station_data_1)"
   ]
  },
  {
   "cell_type": "code",
   "execution_count": 17,
   "id": "5e4f4c4e",
   "metadata": {},
   "outputs": [
    {
     "data": {
      "text/plain": [
       "<matplotlib.legend.Legend at 0x7ff79d3d9bd0>"
      ]
     },
     "execution_count": 17,
     "metadata": {},
     "output_type": "execute_result"
    },
    {
     "data": {
      "image/png": "[encoded data removed]",
      "text/plain": [
       "<Figure size 432x288 with 1 Axes>"
      ]
     },
     "metadata": {
      "needs_background": "light"
     },
     "output_type": "display_data"
    }
   ],
   "source": [
    "XY = points_1[index_map_1][:,0:2]\n",
    "rot_mat = np.eye(2)\n",
    "#rot_mat = np.array([[0,1],[-1,0]])\n",
    "rot_points = np.matmul(XY,rot_mat)\n",
    "\n",
    "\n",
    "plt.scatter(rot_points[:,0],rot_points[:,1])\n",
    "plt.scatter(8166,2276,color=\"black\",label='GPS Detection')\n",
    "#plt.xlim(-20000, 20000)\n",
    "#plt.ylim(-10000, 10000)\n",
    "plt.scatter(0,0,marker='*',color='green',label='Station')\n",
    "plt.scatter(3189,611,marker='*',color='green',label='Station')\n",
    "plt.scatter(6936,-2473,marker='*',color='green',label='Station')\n",
    "plt.legend(loc='lower left')"
   ]
  },
  {
   "cell_type": "code",
   "execution_count": 18,
   "id": "cb98f92f",
   "metadata": {},
   "outputs": [
    {
     "data": {
      "text/plain": [
       "<matplotlib.collections.PathCollection at 0x7ff79d338880>"
      ]
     },
     "execution_count": 18,
     "metadata": {},
     "output_type": "execute_result"
    },
    {
     "data": {
      "image/png": "[encoded data removed]",
      "text/plain": [
       "<Figure size 432x288 with 1 Axes>"
      ]
     },
     "metadata": {
      "needs_background": "light"
     },
     "output_type": "display_data"
    }
   ],
   "source": [
    "XY = points[index_map][:,0:2]\n",
    "XY_1 = points_1[index_map_1][:,0:2]\n",
    "\n",
    "\n",
    "plt.scatter(XY[:,0],XY[:,1])\n",
    "plt.scatter(XY_1[:,0],XY_1[:,1])\n",
    "\n",
    "plt.scatter(8166,2276,color=\"black\",label='GPS Detection')\n"
   ]
  },
  {
   "cell_type": "code",
   "execution_count": 19,
   "id": "32b3654e",
   "metadata": {},
   "outputs": [],
   "source": [
    "import random \n",
    "\n",
    "\n",
    "def generate_points_on_sphere(x0, y0, z0, r, n):\n",
    "    # Generate random angles\n",
    "    theta = np.random.uniform(0, 2 * np.pi, n)\n",
    "    phi = np.arccos(np.random.uniform(-1, 1, n))\n",
    "    \n",
    "    # Convert spherical coordinates to Cartesian coordinates\n",
    "    x = x0 + r * np.sin(phi) * np.cos(theta)\n",
    "    y = y0 + r * np.sin(phi) * np.sin(theta)\n",
    "    z = z0 + r * np.cos(phi)\n",
    "    \n",
    "    # Stack the coordinates to form an n x 3 array\n",
    "    points = np.column_stack((x, y, z))\n",
    "    \n",
    "    return points\n",
    "\n"
   ]
  },
  {
   "cell_type": "code",
   "execution_count": 21,
   "id": "affdb0f6",
   "metadata": {},
   "outputs": [],
   "source": [
    "XYZ = points[index_map][:,:]\n",
    "XYZ_1 = points_1[index_map_1]"
   ]
  },
  {
   "cell_type": "code",
   "execution_count": null,
   "id": "1b2b8005",
   "metadata": {},
   "outputs": [],
   "source": [
    "XYZ_expanded = []\n",
    "XYZ_1_expanded = []\n",
    "for i in range(xyz):\n",
    "    "
   ]
  },
  {
   "cell_type": "code",
   "execution_count": 78,
   "id": "8041144b",
   "metadata": {},
   "outputs": [],
   "source": [
    "points = generate_points_on_sphere(0,0,0,5,500)"
   ]
  },
  {
   "cell_type": "code",
   "execution_count": 79,
   "id": "b3fc86ae",
   "metadata": {},
   "outputs": [
    {
     "data": {
      "text/plain": [
       "array([-1.30384428e+00,  4.87200254e+00,  2.98475346e+00, -1.34678893e+00,\n",
       "       -8.70631524e-01, -5.84622215e-01,  3.17584721e-01,  4.25505979e+00,\n",
       "       -4.06082441e+00, -1.71435820e+00,  1.94280564e+00, -1.74861056e+00,\n",
       "        4.07938370e+00, -3.68349430e+00, -4.99919591e+00, -1.53702846e+00,\n",
       "        9.64690000e-01,  2.95818209e+00,  3.44778203e+00,  3.29154039e+00,\n",
       "        4.72298657e+00,  1.19598696e+00,  2.52188982e+00, -1.73899455e+00,\n",
       "        3.66753939e+00, -1.66416715e-01,  9.98952592e-01,  4.37868379e+00,\n",
       "        3.20231069e+00, -9.27518488e-01,  4.13718811e+00, -8.80499548e-01,\n",
       "        2.67975120e+00,  3.33704260e+00,  2.70249142e+00, -6.48365310e-01,\n",
       "        4.38794654e+00,  3.23117510e+00, -4.47933631e+00,  2.21486868e+00,\n",
       "        1.24772485e+00, -8.32876462e-01,  1.89987229e+00, -1.88806293e+00,\n",
       "       -2.20410066e+00,  4.15726720e-01, -2.72869324e+00, -4.65984348e+00,\n",
       "        3.53056729e+00,  1.06180911e+00,  7.82604247e-01, -1.68110310e+00,\n",
       "       -3.12857168e-01, -4.97581223e+00, -4.79160736e+00,  3.36140317e+00,\n",
       "       -2.49623226e+00,  3.22986902e+00, -1.55511028e+00,  3.92497409e+00,\n",
       "       -1.59119774e+00, -1.63143642e+00, -4.84457847e+00,  3.38391737e+00,\n",
       "        4.26916875e+00,  3.74837674e+00,  2.73276241e+00,  3.57367449e+00,\n",
       "       -2.32986675e+00, -3.72304331e+00,  3.10794022e+00,  4.52353709e+00,\n",
       "       -7.41999379e-01,  8.22586052e-01, -4.27118343e+00, -9.99095414e-01,\n",
       "        1.47428621e+00,  4.88081693e+00,  2.93846058e-01,  3.45459720e-01,\n",
       "       -1.74682416e+00, -2.06608105e+00,  2.97425537e+00,  3.04661014e+00,\n",
       "       -6.79709661e-02,  1.76894460e-01, -4.91010764e+00,  3.71469393e+00,\n",
       "        5.68072783e-01,  4.55294309e+00,  2.69058532e+00,  2.43999332e+00,\n",
       "       -3.45333055e+00, -1.99676299e+00,  4.65773981e+00, -4.83018190e+00,\n",
       "       -3.47935210e+00,  2.64223231e+00,  2.01537781e+00,  1.90090515e-01,\n",
       "       -2.21920577e+00, -2.20205784e+00,  3.71514768e+00, -3.57874114e+00,\n",
       "       -3.09129319e+00,  3.53755691e+00, -2.44517213e+00, -4.96770639e+00,\n",
       "       -4.02264090e+00, -3.49929992e+00, -3.97570285e+00,  5.22482219e-02,\n",
       "        2.80929167e+00, -4.24591616e+00,  1.93301882e+00, -1.54873554e+00,\n",
       "       -4.48860933e+00, -5.57462373e-02,  3.25591907e+00, -2.78384767e+00,\n",
       "       -3.42800569e-01,  3.78797497e+00,  2.98815562e+00,  3.88204911e+00,\n",
       "        4.04991646e+00,  3.02838842e+00,  3.72295810e+00,  4.65494004e+00,\n",
       "       -2.52202421e+00,  7.37744325e-01, -4.30018038e+00,  6.15302872e-02,\n",
       "       -1.26837819e-01,  1.75040571e+00,  3.94368927e-01, -6.66335949e-01,\n",
       "       -4.34459050e+00, -3.52401953e+00, -2.51238210e+00,  1.92523709e+00,\n",
       "        2.34693186e+00,  1.95848731e+00, -4.58237351e+00, -3.78756610e+00,\n",
       "        1.09410684e+00, -2.12803417e+00, -3.10276104e+00, -1.94167032e+00,\n",
       "        6.35436078e-01,  2.83957605e+00,  3.00569713e+00,  1.84010768e+00,\n",
       "       -4.42337880e+00, -2.37496338e+00, -2.32723694e-01, -1.70439752e-01,\n",
       "       -1.84875267e+00,  3.89872473e+00,  2.60100528e+00,  4.82839564e+00,\n",
       "        3.68259110e+00,  2.42136181e+00,  4.30675719e+00, -5.93500671e-01,\n",
       "       -1.05908637e+00,  4.78324555e+00, -1.47113342e+00,  1.74932749e+00,\n",
       "       -3.63730798e+00, -3.23482581e+00,  4.57816056e+00, -1.86910628e+00,\n",
       "       -1.43317274e+00, -2.70035098e+00,  3.49318795e+00, -1.24804196e+00,\n",
       "        2.91521258e+00,  2.44330804e+00,  1.52230881e+00,  1.41648627e-01,\n",
       "        3.90476326e+00, -1.27502383e+00, -4.83114535e+00,  6.98359796e-01,\n",
       "       -1.29560612e-01,  3.79449999e+00,  1.50610441e+00, -4.37118388e+00,\n",
       "       -4.64004596e+00,  2.36005226e+00, -4.86281258e+00, -1.73512194e+00,\n",
       "       -2.69906247e+00,  1.45700874e+00,  1.22363295e+00,  4.60561962e+00,\n",
       "        1.77962850e+00, -3.70528378e+00,  2.03970255e+00,  1.70489677e+00,\n",
       "        2.59785193e+00, -4.23540215e+00, -2.60054587e+00, -2.77970431e+00,\n",
       "       -1.46007621e+00,  3.55780600e-02,  4.00557276e+00,  2.76485136e+00,\n",
       "       -4.79760807e+00, -3.33918413e+00, -7.68839753e-02, -1.47900769e+00,\n",
       "        3.77551857e+00, -8.80729793e-01,  1.72722102e+00,  1.43664588e+00,\n",
       "        1.04761583e+00, -4.60052281e-01, -1.91930602e+00, -1.92562595e+00,\n",
       "        1.70637378e+00, -2.47541983e+00,  1.14284663e+00, -3.81283620e+00,\n",
       "        2.14674682e+00,  4.32558565e+00, -3.13238991e+00, -4.77994676e-01,\n",
       "        1.96963120e+00,  3.83958808e+00,  1.59114413e+00, -3.99600705e+00,\n",
       "        4.01192489e+00,  4.21163833e+00,  4.56228113e+00, -4.75471541e+00,\n",
       "        3.61678335e+00, -1.59368466e+00,  3.97394685e+00,  1.97124805e+00,\n",
       "       -1.30569765e-01,  3.55834241e+00, -3.37509343e+00, -3.92033628e+00,\n",
       "        3.56619077e-01,  2.76014876e+00,  4.85940736e+00, -4.26494272e+00,\n",
       "       -4.62209463e+00,  1.03428132e+00, -3.45327236e+00, -3.23786511e+00,\n",
       "       -4.54561240e+00, -3.50757849e+00, -1.73009621e+00, -3.75416222e+00,\n",
       "       -5.33676673e-01, -2.47172186e+00, -4.47047192e+00, -1.63207774e+00,\n",
       "       -1.99348638e+00, -2.12023435e+00, -1.50567303e+00, -4.99838188e-01,\n",
       "        3.83307161e-01,  2.20749708e+00, -1.43573941e+00, -9.93892548e-01,\n",
       "       -9.00887295e-01,  6.78249674e-01,  1.47193348e+00, -2.55430659e+00,\n",
       "        4.95720586e+00,  2.23702460e+00, -4.01720228e+00,  1.42112600e+00,\n",
       "        4.30337760e+00,  3.28776044e+00, -2.05511481e+00,  4.31651243e+00,\n",
       "        2.58499227e+00, -3.84808195e+00,  2.36620232e+00,  3.71562537e+00,\n",
       "        1.88838363e+00,  2.29961017e+00, -2.76722197e+00, -2.61638010e+00,\n",
       "       -3.42673353e+00, -4.96422495e+00,  3.70230298e+00, -4.76590947e+00,\n",
       "        2.44333353e+00, -1.24685398e+00, -2.41890987e+00, -3.73399958e+00,\n",
       "       -3.35947620e+00,  2.80449757e+00,  2.98904333e+00, -3.47486851e+00,\n",
       "       -3.11791323e+00,  3.08471947e+00, -2.29304189e+00,  2.31020386e+00,\n",
       "       -7.19947003e-01, -1.78651384e+00,  9.33669822e-01, -3.74300509e+00,\n",
       "        3.52442614e+00, -1.51936947e-01, -3.92427650e+00,  2.49568979e+00,\n",
       "       -1.37003285e+00, -4.34504165e+00,  1.01826244e+00, -3.70329158e+00,\n",
       "        1.91168192e-01, -2.73095781e+00, -3.50160578e+00, -4.92496735e-03,\n",
       "        3.15128870e+00,  3.52238981e+00,  2.18211478e+00, -2.15349115e+00,\n",
       "        1.68716080e+00,  2.25844429e+00, -2.90020715e+00, -2.80482359e+00,\n",
       "        1.42778751e+00,  2.90378092e+00,  2.93229310e+00, -2.00297879e+00,\n",
       "        4.53519249e-01, -3.11564094e+00,  2.47438344e+00,  2.14583394e+00,\n",
       "        1.09727705e+00,  2.69598188e-01,  6.74406760e-01,  2.46023809e+00,\n",
       "       -3.74172775e+00, -1.47677452e+00, -3.14389137e+00, -3.93316753e+00,\n",
       "       -3.31407407e+00, -5.31815729e-01,  3.23372378e+00, -1.35529333e+00,\n",
       "        2.65936138e+00, -2.78389105e+00,  4.18348198e-01,  1.57502741e+00,\n",
       "       -1.58496830e+00,  4.23859571e+00, -3.13921916e+00,  1.12335036e+00,\n",
       "        1.81254157e+00, -4.53747568e-01,  7.11734907e-01, -1.10226882e+00,\n",
       "       -2.82680531e+00, -3.05564232e-01,  2.37847472e+00, -5.22339016e-01,\n",
       "        1.61250569e+00, -3.93947916e+00,  3.69993877e+00,  7.35862389e-01,\n",
       "       -2.01061585e+00, -1.67039373e+00, -1.89541788e+00,  3.09855639e+00,\n",
       "        7.88074771e-01, -1.97531608e-01, -4.61320494e+00, -2.88277668e+00,\n",
       "       -4.55845977e+00,  3.59425310e+00, -2.72386101e+00, -4.02211054e+00,\n",
       "       -3.70869755e+00,  8.02598885e-01,  5.13450282e-01, -6.49185185e-01,\n",
       "        1.28609490e+00,  1.83237391e+00,  2.84419837e+00, -4.53599913e-01,\n",
       "       -1.83671742e+00,  1.11411504e+00,  3.75166956e+00,  2.17504988e+00,\n",
       "        4.60242051e+00,  2.43072652e+00,  4.89051920e+00,  2.34917703e+00,\n",
       "        4.64461056e+00,  1.59092049e+00, -4.23334066e+00,  3.54278964e+00,\n",
       "        1.14597528e+00,  2.05758872e-01, -2.15391275e+00,  4.92942187e+00,\n",
       "       -3.51915647e+00,  2.01944837e+00, -2.00618248e+00, -4.76303161e+00,\n",
       "       -1.59110708e+00, -1.06326962e+00, -4.06655317e+00,  3.63753158e+00,\n",
       "        2.59706933e-01, -2.90965731e+00,  4.76657992e+00, -1.74234783e+00,\n",
       "        3.43028287e+00, -4.58511922e+00, -9.25879563e-01, -2.14125165e+00,\n",
       "       -4.11471629e+00, -3.61086369e+00, -4.82320005e+00, -3.99303282e+00,\n",
       "       -1.64971967e+00,  4.69258324e+00, -4.43431425e+00,  3.59061070e+00,\n",
       "        4.10527980e+00, -3.44768312e+00, -3.20732569e+00, -3.26851981e+00,\n",
       "        1.17903757e+00,  4.95111769e+00,  4.88074445e+00,  4.01157516e+00,\n",
       "       -1.26377549e+00,  1.00878684e+00, -3.85382378e+00, -8.08779635e-01,\n",
       "       -4.32909622e+00,  1.70349410e+00, -4.84910288e-01, -1.59541969e+00,\n",
       "        4.58989986e+00,  4.28858389e+00,  2.11539239e+00, -1.59031575e+00,\n",
       "        2.19557379e-01,  3.51146052e+00, -1.73632394e+00, -1.52155729e-01,\n",
       "        1.86297196e+00,  1.61531529e+00,  5.75123025e-01, -3.65416300e+00,\n",
       "       -3.98420766e+00,  1.51657020e+00,  4.32315895e+00, -1.13069775e+00,\n",
       "       -3.51188510e+00,  1.27248105e+00,  2.90658290e+00,  1.35880160e+00,\n",
       "       -4.07743106e-01,  1.10284840e+00,  1.34994836e+00,  3.47685625e-01,\n",
       "        2.40885083e+00,  1.17954331e+00,  3.31854206e+00,  1.35367630e-01,\n",
       "       -4.30480647e-01,  4.05728047e+00,  8.34418276e-01,  2.21567692e+00,\n",
       "       -4.05660113e+00, -4.67447922e+00,  4.62954381e+00, -6.53373276e-01,\n",
       "        1.50332407e+00,  3.06969752e+00,  2.32571182e+00,  1.20489544e+00,\n",
       "       -3.87927002e+00,  2.31566232e+00,  3.84893072e+00, -2.62232452e+00,\n",
       "        2.63461575e+00, -4.82280225e+00,  1.89790912e-02,  1.49264737e+00,\n",
       "        1.51983902e+00, -2.43849764e+00,  4.56567552e+00, -1.05194067e+00,\n",
       "       -1.50839888e+00,  6.02345239e-01,  3.12588463e+00,  2.86359122e+00])"
      ]
     },
     "execution_count": 79,
     "metadata": {},
     "output_type": "execute_result"
    }
   ],
   "source": [
    "points[:,0]"
   ]
  },
  {
   "cell_type": "code",
   "execution_count": 80,
   "id": "f8181664",
   "metadata": {},
   "outputs": [
    {
     "data": {
      "text/plain": [
       "<matplotlib.collections.PathCollection at 0x7f8949d718d0>"
      ]
     },
     "execution_count": 80,
     "metadata": {},
     "output_type": "execute_result"
    },
    {
     "data": {
      "image/png": "[encoded data removed]",
      "text/plain": [
       "<Figure size 432x288 with 1 Axes>"
      ]
     },
     "metadata": {
      "needs_background": "light"
     },
     "output_type": "display_data"
    }
   ],
   "source": [
    "plt.scatter(points[:,0],points[:,1])"
   ]
  },
  {
   "cell_type": "code",
   "execution_count": 19,
   "id": "6ba015e0",
   "metadata": {},
   "outputs": [
    {
     "name": "stdout",
     "output_type": "stream",
     "text": [
      "Centroids: [array([-6911.26010448, -6495.90029099,  -713.37983974]), array([  6340.83030573, -10159.96246407,   -740.37456922]), array([11969.30358662, -9377.42312326,  -820.87584908]), array([7248.92832569, 3854.33316548, -779.38923617]), array([-11830.08198065,   3112.83902839,   -728.64449114]), array([-11721.63688731,   -443.8048451 ,   -775.61129037]), array([-6557.22164841,  9750.09928682,  -722.25708651]), array([ 8881.76647165, -5520.5754062 ,  -809.29349834]), array([-9349.27073549,  5920.31072296,  -757.05130721]), array([ 6781.84839309, -3602.87003497,  -810.46260492])]\n",
      "Distances from origin: [9511.632226804548, 11999.129999298038, 15227.413764023364, 8246.835368974147, 12254.449366658204, 11755.65000041588, 11772.138597049874, 10488.92198650615, 11091.982195424003, 7722.110446616226]\n"
     ]
    },
    {
     "data": {
      "image/png": "[encoded data removed]",
      "text/plain": [
       "<Figure size 432x288 with 1 Axes>"
      ]
     },
     "metadata": {
      "needs_background": "light"
     },
     "output_type": "display_data"
    }
   ],
   "source": [
    "import numpy as np\n",
    "from sklearn.cluster import DBSCAN\n",
    "from scipy.spatial.distance import euclidean\n",
    "import matplotlib.pyplot as plt\n",
    "\n",
    "def find_islands_and_centroids(points, eps=1000, min_samples=20):\n",
    "    \"\"\"\n",
    "    This function identifies clusters (islands) of points in 3D space, computes the centroid\n",
    "    of each cluster, and calculates the distance of each centroid from the origin.\n",
    "\n",
    "    Parameters:\n",
    "    points (np.ndarray): A 2D numpy array of shape (n_points, 3) containing the X, Y, Z coordinates.\n",
    "    eps (float): The maximum distance between two samples for one to be considered as in the neighborhood of the other (DBSCAN parameter).\n",
    "    min_samples (int): The number of samples in a neighborhood for a point to be considered as a core point (DBSCAN parameter).\n",
    "\n",
    "    Returns:\n",
    "    centroids (list): A list of centroids of the identified clusters.\n",
    "    distances (list): A list of distances of each centroid from the origin.\n",
    "    labels (np.ndarray): An array of cluster labels for each point.\n",
    "    \"\"\"\n",
    "    \n",
    "    # Perform DBSCAN clustering\n",
    "    db = DBSCAN(eps=eps, min_samples=min_samples).fit(points)\n",
    "    labels = db.labels_\n",
    "    \n",
    "    # Number of clusters, ignoring noise if present\n",
    "    unique_labels = set(labels)\n",
    "    unique_labels.discard(-1)  # remove noise label if present\n",
    "    \n",
    "    centroids = []\n",
    "    distances = []\n",
    "    \n",
    "    # Compute centroids and distances for each cluster\n",
    "    for label in unique_labels:\n",
    "        cluster_points = points[labels == label]\n",
    "        centroid = cluster_points.mean(axis=0)\n",
    "        distance = euclidean(centroid, [0, 0, 0])\n",
    "        \n",
    "        centroids.append(centroid)\n",
    "        distances.append(distance)\n",
    "    \n",
    "    return centroids, distances, labels\n",
    "\n",
    "def plot_2d_projection(points, labels):\n",
    "    \"\"\"\n",
    "    This function plots the 2D projection of the 3D points colored by the cluster they belong to.\n",
    "\n",
    "    Parameters:\n",
    "    points (np.ndarray): A 2D numpy array of shape (n_points, 3) containing the X, Y, Z coordinates.\n",
    "    labels (np.ndarray): An array of cluster labels for each point.\n",
    "    \"\"\"\n",
    "    \n",
    "    fig, ax = plt.subplots()\n",
    "    \n",
    "    unique_labels = set(labels)\n",
    "    \n",
    "    # Use a colormap for different clusters\n",
    "    colors = plt.cm.Spectral(np.linspace(0, 1, len(unique_labels)))\n",
    "    \n",
    "    for label, color in zip(unique_labels, colors):\n",
    "        class_member_mask = (labels == label)\n",
    "        \n",
    "        xy = points[class_member_mask]\n",
    "        \n",
    "        if label == -1:\n",
    "            # Noise points (outliers)\n",
    "            color = 'k'\n",
    "        \n",
    "        ax.scatter(xy[:, 0], xy[:, 1], c=[color], label=f'Cluster {label}' if label != -1 else 'Noise', s=20)\n",
    "    \n",
    "    ax.set_xlabel('X')\n",
    "    ax.set_ylabel('Y')\n",
    "    #ax.legend()\n",
    "    plt.show()\n",
    "\n",
    "# Example usage\n",
    "points = points_1[index_map_1]\n",
    "centroids, distances, labels = find_islands_and_centroids(points)\n",
    "print(\"Centroids:\", centroids)\n",
    "print(\"Distances from origin:\", distances)\n",
    "\n",
    "plot_2d_projection(points, labels)\n"
   ]
  },
  {
   "cell_type": "code",
   "execution_count": null,
   "id": "77ab268c",
   "metadata": {},
   "outputs": [],
   "source": []
  }
 ],
 "metadata": {
  "kernelspec": {
   "display_name": "Python 3 (ipykernel)",
   "language": "python",
   "name": "python3"
  },
  "language_info": {
   "codemirror_mode": {
    "name": "ipython",
    "version": 3
   },
   "file_extension": ".py",
   "mimetype": "text/x-python",
   "name": "python",
   "nbconvert_exporter": "python",
   "pygments_lexer": "ipython3",
   "version": "3.10.12"
  }
 },
 "nbformat": 4,
 "nbformat_minor": 5
}
