{
 "cells": [
  {
   "cell_type": "code",
   "execution_count": 1,
   "id": "dc1eca60",
   "metadata": {},
   "outputs": [],
   "source": [
    "import sys\n",
    "sys.path.insert(1, '/home/main/Research/WingWatch')\n",
    "#sys.path.insert(1, '/home/user/Research/base-WingWatch')\n",
    "\n",
    "from WingWatch.Equipment import station\n",
    "from WingWatch.Equipment import antenna\n",
    "from WingWatch.Intersections import montecarlo\n",
    "from WingWatch.Tools import translation\n",
    "from WingWatch.Calibration import clean_data\n",
    "\n",
    "import pandas as pd\n",
    "import numpy as np\n",
    "import matplotlib.pyplot as plt"
   ]
  },
  {
   "cell_type": "code",
   "execution_count": 2,
   "id": "d320ec10",
   "metadata": {},
   "outputs": [
    {
     "name": "stdout",
     "output_type": "stream",
     "text": [
      "1 added to SEL's antennas.\n",
      "2 added to SEL's antennas.\n",
      "3 added to SEL's antennas.\n",
      "4 added to SEL's antennas.\n"
     ]
    }
   ],
   "source": [
    "#Setup each of the actual stations\n",
    "\n",
    "SEL_Station = station.Station('SEL',41.1534, -71.5521)\n",
    "\n",
    "a1 = antenna.Antenna('1','yagi',0,434)\n",
    "df = pd.read_csv('SE_Light_434_0_calib.csv')\n",
    "a1.assign_pattern(df)\n",
    "a1.convert_to_lat_long(SEL_Station)\n",
    "\n",
    "a2 = antenna.Antenna('2','yagi',0,434)\n",
    "df = pd.read_csv('SE_Light_434_1_calib.csv')\n",
    "a2.assign_pattern(df)\n",
    "a2.convert_to_lat_long(SEL_Station)\n",
    "\n",
    "a3 = antenna.Antenna('3','yagi',0,434)\n",
    "df = pd.read_csv('SE_Light_434_2_calib.csv')\n",
    "a3.assign_pattern(df)\n",
    "a3.convert_to_lat_long(SEL_Station)\n",
    "\n",
    "\n",
    "a4 = antenna.Antenna('4','yagi',0,434)\n",
    "df = pd.read_csv('SE_Light_434_3_calib.csv')\n",
    "a4.assign_pattern(df)\n",
    "a4.convert_to_lat_long(SEL_Station)\n",
    "\n",
    "SEL_Station.add_antenna(a1)\n",
    "SEL_Station.add_antenna(a2)\n",
    "SEL_Station.add_antenna(a3)\n",
    "SEL_Station.add_antenna(a4)"
   ]
  },
  {
   "cell_type": "code",
   "execution_count": 3,
   "id": "986f56f0",
   "metadata": {},
   "outputs": [
    {
     "name": "stdout",
     "output_type": "stream",
     "text": [
      "1 added to BRR's antennas.\n",
      "2 added to BRR's antennas.\n",
      "3 added to BRR's antennas.\n",
      "4 added to BRR's antennas.\n"
     ]
    }
   ],
   "source": [
    "#Setup each of the actual stations\n",
    "\n",
    "BRR_Station = station.Station('BRR',41.1479, -71.5901)\n",
    "\n",
    "a1 = antenna.Antenna('1','yagi',0,434)\n",
    "df = pd.read_csv('Black_Rock_434_0_calib.csv')\n",
    "a1.assign_pattern(df)\n",
    "a1.convert_to_lat_long(SEL_Station)\n",
    "\n",
    "a2 = antenna.Antenna('2','yagi',0,434)\n",
    "df = pd.read_csv('Black_Rock_434_1_calib.csv')\n",
    "a2.assign_pattern(df)\n",
    "a2.convert_to_lat_long(SEL_Station)\n",
    "\n",
    "a3 = antenna.Antenna('3','yagi',0,434)\n",
    "df = pd.read_csv('Black_Rock_434_2_calib.csv')\n",
    "a3.assign_pattern(df)\n",
    "a3.convert_to_lat_long(SEL_Station)\n",
    "\n",
    "\n",
    "a4 = antenna.Antenna('4','yagi',0,434)\n",
    "df = pd.read_csv('Black_Rock_434_3_calib.csv')\n",
    "a4.assign_pattern(df)\n",
    "a4.convert_to_lat_long(SEL_Station)\n",
    "\n",
    "BRR_Station.add_antenna(a1)\n",
    "BRR_Station.add_antenna(a2)\n",
    "BRR_Station.add_antenna(a3)\n",
    "BRR_Station.add_antenna(a4)"
   ]
  },
  {
   "cell_type": "code",
   "execution_count": 4,
   "id": "887db8bc",
   "metadata": {},
   "outputs": [
    {
     "name": "stdout",
     "output_type": "stream",
     "text": [
      "1 added to TUR's antennas.\n",
      "2 added to TUR's antennas.\n",
      "3 added to TUR's antennas.\n",
      "4 added to TUR's antennas.\n"
     ]
    }
   ],
   "source": [
    "#Setup each of the actual stations\n",
    "\n",
    "TUR_Station = station.Station('TUR',41.1256, -71.5075)\n",
    "\n",
    "a1 = antenna.Antenna('1','yagi',0,434)\n",
    "df = pd.read_csv('BIWF_Turbine1_0_calib.csv')\n",
    "a1.assign_pattern(df)\n",
    "a1.convert_to_lat_long(SEL_Station)\n",
    "\n",
    "a2 = antenna.Antenna('2','yagi',0,434)\n",
    "df = pd.read_csv('BIWF_Turbine1_1_calib.csv')\n",
    "a2.assign_pattern(df)\n",
    "a2.convert_to_lat_long(SEL_Station)\n",
    "\n",
    "a3 = antenna.Antenna('3','yagi',0,434)\n",
    "df = pd.read_csv('BIWF_Turbine1_2_calib.csv')\n",
    "a3.assign_pattern(df)\n",
    "a3.convert_to_lat_long(SEL_Station)\n",
    "\n",
    "\n",
    "a4 = antenna.Antenna('4','yagi',0,434)\n",
    "df = pd.read_csv('BIWF_Turbine1_3_calib.csv')\n",
    "a4.assign_pattern(df)\n",
    "a4.convert_to_lat_long(SEL_Station)\n",
    "\n",
    "TUR_Station.add_antenna(a1)\n",
    "TUR_Station.add_antenna(a2)\n",
    "TUR_Station.add_antenna(a3)\n",
    "TUR_Station.add_antenna(a4)"
   ]
  },
  {
   "cell_type": "code",
   "execution_count": 5,
   "id": "a995c41c",
   "metadata": {},
   "outputs": [],
   "source": [
    "#At an epoch time of 1630333415, the test tag was at 41.127364,-71.492852,0"
   ]
  },
  {
   "cell_type": "code",
   "execution_count": null,
   "id": "f5183320",
   "metadata": {},
   "outputs": [],
   "source": [
    "#Let us start working some geometries\n",
    "\n",
    "df = pd.read_csv('allTagsAll390.csv',low_memory=False)\n",
    "\n",
    "#BIWF goes offline on 11-29-2021\n",
    "#SE Light goes offline on 12-25-2021\n",
    "#Black Rock Goes offline on 5-26-2022\n",
    "\n",
    "\n",
    "\n",
    "#remove any detections from the MOTUS project which are detected after the stations came down \n",
    "df['ts'] = pd.to_datetime(df['ts'])\n",
    "df1 = df[df['ts'] < pd.to_datetime('2022-05-26')]\n",
    "\n",
    "#filter just our recievers\n",
    "mask = (df1['recvDeployName'] == 'Black_Rock_434') | (df1['recvDeployName'] == 'SE_Light_434') | (df1['recv'] == 'CTT-6A8468DA84C0')\n",
    "\n",
    "#BIT is the Block Island Turbine\n",
    "df_Black_Rock = df1[df1['recvDeployName'] == 'Black_Rock_434'].reset_index()\n",
    "df_SE_Light = df1[df1['recvDeployName'] == 'SE_Light_434'].reset_index()\n",
    "df_BIT = df1[df1['recv'] == 'CTT-6A8468DA84C0'].reset_index()"
   ]
  },
  {
   "cell_type": "code",
   "execution_count": null,
   "id": "226c8c46",
   "metadata": {},
   "outputs": [],
   "source": [
    "#Ground Truth Test - tsCorrected is in UNIX Time at GMT \n",
    "\n",
    "df_BR_GT = df_Black_Rock[(df_Black_Rock['tsCorrected'] >= 1630333415.0) & (df_Black_Rock['tsCorrected'] <= 1630333417.0)].reset_index()\n",
    "df_SE_Light_GT = df_SE_Light[(df_SE_Light['tsCorrected'] >= 1630333415.0) & (df_SE_Light['tsCorrected'] <= 1630333417.0)].reset_index()\n",
    "df_BIT_GT = df_BIT[(df_BIT['tsCorrected'] >= 1630333415.0) & (df_BIT['tsCorrected'] <= 1630333417.0)].reset_index()"
   ]
  },
  {
   "cell_type": "code",
   "execution_count": null,
   "id": "0c8b1425",
   "metadata": {},
   "outputs": [],
   "source": [
    "def combine_simultaneous_timestamps(*timestamp_lists):\n",
    "    combined_timestamps = {}\n",
    "    \n",
    "    for list_index, timestamps in enumerate(timestamp_lists):\n",
    "        for index, timestamp in enumerate(timestamps):\n",
    "            if timestamp in combined_timestamps:\n",
    "                combined_timestamps[timestamp].append((list_index, index))\n",
    "            else:\n",
    "                combined_timestamps[timestamp] = [(list_index, index)]\n",
    "    filtered_combined_timestamps = {timestamp: indexes for timestamp, indexes in combined_timestamps.items() if len(indexes) > 2}\n",
    "\n",
    "    return filtered_combined_timestamps\n",
    "\n",
    "# Example lists of time stamps\n",
    "list1 = list(df_BIT_GT['tsCorrected'])\n",
    "list2 = list(df_SE_Light_GT['tsCorrected'])\n",
    "list3 = list(df_BR_GT['tsCorrected'])\n",
    "\n",
    "combined = combine_simultaneous_timestamps(list1,list2, list3)\n"
   ]
  },
  {
   "cell_type": "code",
   "execution_count": null,
   "id": "1f7117cd",
   "metadata": {},
   "outputs": [],
   "source": [
    "combined"
   ]
  },
  {
   "cell_type": "code",
   "execution_count": null,
   "id": "235260d9",
   "metadata": {},
   "outputs": [],
   "source": [
    "a = combined[list(combined.keys())[0]]\n",
    "key_list = list(combined.keys())\n",
    "for i in range(len(a)):\n",
    "    if a[i][0] == 0:\n",
    "        data_column_rows = df_BIT_GT[df_BIT_GT.tsCorrected == key_list[0]] \n",
    "        #key_list[0] will need to change when dealing with multiple time iterations. it should be the same as the \n",
    "        # number that is indexing a, at the top of this box\n",
    "        data_BIT = []\n",
    "        for index,row in data_column_rows.iterrows():\n",
    "            data_BIT.append([int(row['port'][-1]),row['sig']]) \n",
    "    if a[i][0] == 1:\n",
    "        data_column_rows = df_SE_Light_GT[df_SE_Light_GT.tsCorrected == key_list[0]]\n",
    "        data_SEL = []\n",
    "        for index,row in data_column_rows.iterrows():\n",
    "            data_SEL.append([int(row['port'][-1]),row['sig']])    \n",
    "    if a[i][0] == 2:\n",
    "        data_column_rows = df_BR_GT[df_BR_GT.tsCorrected == key_list[0]]\n",
    "        data_BR = []\n",
    "        for index,row in data_column_rows.iterrows():\n",
    "            data_BR.append([int(row['port'][-1]),row['sig']])"
   ]
  },
  {
   "cell_type": "code",
   "execution_count": null,
   "id": "f1b51378",
   "metadata": {},
   "outputs": [],
   "source": [
    "data_BIT"
   ]
  },
  {
   "cell_type": "code",
   "execution_count": null,
   "id": "8efe6ef7",
   "metadata": {},
   "outputs": [],
   "source": [
    "data_BR"
   ]
  },
  {
   "cell_type": "code",
   "execution_count": null,
   "id": "86169020",
   "metadata": {},
   "outputs": [],
   "source": [
    "from WingWatch.Intersections.montecarlo import montecarlo_intersection\n",
    "from WingWatch.Equipment import station\n",
    "from WingWatch.Equipment import antenna\n",
    "from WingWatch.Intersections import montecarlo\n",
    "from WingWatch.Tools import translation\n",
    "from WingWatch.Calibration import clean_data\n",
    "\n",
    "station_data = [[data_BR,BRR_Station],[data_SEL,SEL_Station],[data_BIT,TUR_Station]]\n",
    "points,index_map = montecarlo_intersection(station_data)"
   ]
  },
  {
   "cell_type": "code",
   "execution_count": null,
   "id": "4f96a0d2",
   "metadata": {},
   "outputs": [],
   "source": [
    "XY = points[index_map][:,0:2]\n",
    "rot_mat = np.eye(2)\n",
    "#rot_mat = np.array([[0,1],[-1,0]])\n",
    "rot_points = np.matmul(XY,rot_mat)\n",
    "\n",
    "\n",
    "plt.scatter(rot_points[:,0],rot_points[:,1])\n",
    "plt.scatter(8166,2276,color=\"black\",label='GPS Detection')\n",
    "#plt.xlim(-20000, 20000)\n",
    "#plt.ylim(-10000, 10000)\n",
    "plt.scatter(0,0,marker='*',color='green',label='Station')\n",
    "plt.scatter(3189,611,marker='*',color='green',label='Station')\n",
    "plt.scatter(6936,-2473,marker='*',color='green',label='Station')\n",
    "plt.legend(loc='lower left')\n",
    "plt.savefig('Working_Triangulation_Algorithm_7_antennas.pdf')"
   ]
  },
  {
   "cell_type": "code",
   "execution_count": null,
   "id": "2ead6657",
   "metadata": {},
   "outputs": [],
   "source": [
    "a = combined[list(combined.keys())[1]]\n",
    "key_list = list(combined.keys())\n",
    "for i in range(len(a)):\n",
    "    if a[i][0] == 0:\n",
    "        data_column_rows = df_BIT_GT[df_BIT_GT.tsCorrected == key_list[1]] \n",
    "        #key_list[0] will need to change when dealing with multiple time iterations. it should be the same as the \n",
    "        # number that is indexing a, at the top of this box\n",
    "        data_BIT = []\n",
    "        for index,row in data_column_rows.iterrows():\n",
    "            data_BIT.append([int(row['port'][-1]),row['sig']]) \n",
    "    if a[i][0] == 1:\n",
    "        data_column_rows = df_SE_Light_GT[df_SE_Light_GT.tsCorrected == key_list[1]]\n",
    "        data_SEL = []\n",
    "        for index,row in data_column_rows.iterrows():\n",
    "            data_SEL.append([int(row['port'][-1]),row['sig']])    \n",
    "    if a[i][0] == 2:\n",
    "        data_column_rows = df_BR_GT[df_BR_GT.tsCorrected == key_list[1]]\n",
    "        data_BR = []\n",
    "        for index,row in data_column_rows.iterrows():\n",
    "            data_BR.append([int(row['port'][-1]),row['sig']])"
   ]
  },
  {
   "cell_type": "code",
   "execution_count": null,
   "id": "7dd6c1ed",
   "metadata": {},
   "outputs": [],
   "source": [
    "station_data_1 = [[data_BR,BRR_Station],[data_SEL,SEL_Station],[data_BIT,TUR_Station]]\n",
    "points_1,index_map_1 = montecarlo_intersection(station_data_1)"
   ]
  },
  {
   "cell_type": "code",
   "execution_count": null,
   "id": "5e4f4c4e",
   "metadata": {},
   "outputs": [],
   "source": [
    "XY = points_1[index_map_1][:,0:2]\n",
    "rot_mat = np.eye(2)\n",
    "#rot_mat = np.array([[0,1],[-1,0]])\n",
    "rot_points = np.matmul(XY,rot_mat)\n",
    "\n",
    "\n",
    "plt.scatter(rot_points[:,0],rot_points[:,1])\n",
    "plt.scatter(8166,2276,color=\"black\",label='GPS Detection')\n",
    "#plt.xlim(-20000, 20000)\n",
    "#plt.ylim(-10000, 10000)\n",
    "plt.scatter(0,0,marker='*',color='green',label='Station')\n",
    "plt.scatter(3189,611,marker='*',color='green',label='Station')\n",
    "plt.scatter(6936,-2473,marker='*',color='green',label='Station')\n",
    "plt.legend(loc='lower left')"
   ]
  },
  {
   "cell_type": "code",
   "execution_count": null,
   "id": "cb98f92f",
   "metadata": {},
   "outputs": [],
   "source": [
    "XY = points[index_map][:,0:2]\n",
    "XY_1 = points_1[index_map_1][:,0:2]\n",
    "\n",
    "\n",
    "plt.scatter(XY[:,0],XY[:,1])\n",
    "plt.scatter(XY_1[:,0],XY_1[:,1])\n",
    "\n",
    "plt.scatter(8166,2276,color=\"black\",label='GPS Detection')\n"
   ]
  },
  {
   "cell_type": "code",
   "execution_count": null,
   "id": "f8ddc750",
   "metadata": {},
   "outputs": [],
   "source": [
    "import random \n",
    "\n",
    "\n",
    "def generate_points_on_sphere(x0, y0, z0, r, n):\n",
    "    # Generate random angles\n",
    "    theta = np.random.uniform(0, 2 * np.pi, n)\n",
    "    phi = np.arccos(np.random.uniform(-1, 1, n))\n",
    "    \n",
    "    # Convert spherical coordinates to Cartesian coordinates\n",
    "    x = x0 + r * np.sin(phi) * np.cos(theta)\n",
    "    y = y0 + r * np.sin(phi) * np.sin(theta)\n",
    "    z = z0 + r * np.cos(phi)\n",
    "    \n",
    "    # Stack the coordinates to form an n x 3 array\n",
    "    points = np.column_stack((x, y, z))\n",
    "    \n",
    "    return points\n",
    "\n"
   ]
  },
  {
   "cell_type": "code",
   "execution_count": null,
   "id": "c1635bd1",
   "metadata": {},
   "outputs": [],
   "source": [
    "XYZ = points[index_map][:,:]\n",
    "XYZ_1 = points_1[index_map_1]"
   ]
  },
  {
   "cell_type": "code",
   "execution_count": null,
   "id": "f20188fc",
   "metadata": {},
   "outputs": [],
   "source": [
    "XYZ_expanded = []\n",
    "XYZ_1_expanded = []\n",
    "for i in range(len(XYZ)):\n",
    "    XYZ_expanded.append(generate_points_on_sphere(XYZ[i][0],XYZ[i][1],XYZ[i][2],340,100))\n",
    "XYZ_expanded = np.row_stack(XYZ_expanded)\n",
    "for i in range(len(XYZ_1)):\n",
    "    XYZ_1_expanded.append(generate_points_on_sphere(XYZ_1[i][0],XYZ_1[i][1],XYZ_1[i][2],340,100))\n",
    "XYZ_1_expanded = np.row_stack(XYZ_1_expanded)"
   ]
  },
  {
   "cell_type": "code",
   "execution_count": null,
   "id": "c17d48e0",
   "metadata": {},
   "outputs": [],
   "source": [
    "ans = np.row_stack(XYZ_1_expanded)"
   ]
  },
  {
   "cell_type": "code",
   "execution_count": null,
   "id": "e1b0ab9c",
   "metadata": {},
   "outputs": [],
   "source": [
    "ans[:,0]"
   ]
  },
  {
   "cell_type": "code",
   "execution_count": null,
   "id": "9c4bce5d",
   "metadata": {},
   "outputs": [],
   "source": [
    "plt.scatter(XYZ_1_expanded[:,0],XYZ_1_expanded[:,1])\n",
    "plt.scatter(XYZ_expanded[:,0],XYZ_expanded[:,1])"
   ]
  },
  {
   "cell_type": "code",
   "execution_count": null,
   "id": "116f4603",
   "metadata": {},
   "outputs": [],
   "source": [
    "from scipy.spatial import KDTree\n",
    "\n",
    "def find_intersection_with_kdtree(point_cloud1, point_cloud2, tol=1e-6):\n",
    "    tree = KDTree(point_cloud2)\n",
    "    intersection = []\n",
    "    for point in point_cloud1:\n",
    "        if tree.query(point, distance_upper_bound=tol)[0] < tol:\n",
    "            intersection.append(point)\n",
    "    return np.array(intersection)\n",
    "\n",
    "# Example usage\n",
    "intersection_points = find_intersection_with_kdtree(XYZ, XYZ_1, tol=300)\n",
    "print(intersection_points)\n"
   ]
  },
  {
   "cell_type": "code",
   "execution_count": null,
   "id": "3e5727f8",
   "metadata": {},
   "outputs": [],
   "source": [
    "plt.scatter(intersection_points[:,0],intersection_points[:,1])\n",
    "plt.scatter(8166,2276,color=\"black\",label='GPS Detection')\n",
    "plt.xlim([8166-250,8166+250])"
   ]
  },
  {
   "cell_type": "code",
   "execution_count": null,
   "id": "77ab268c",
   "metadata": {},
   "outputs": [],
   "source": [
    "a = combined[list(combined.keys())[2]]\n",
    "key_list = list(combined.keys())\n",
    "for i in range(len(a)):\n",
    "    if a[i][0] == 0:\n",
    "        data_column_rows = df_BIT_GT[df_BIT_GT.tsCorrected == key_list[2]] \n",
    "        #key_list[0] will need to change when dealing with multiple time iterations. it should be the same as the \n",
    "        # number that is indexing a, at the top of this box\n",
    "        data_BIT = []\n",
    "        for index,row in data_column_rows.iterrows():\n",
    "            data_BIT.append([int(row['port'][-1]),row['sig']]) \n",
    "    if a[i][0] == 1:\n",
    "        data_column_rows = df_SE_Light_GT[df_SE_Light_GT.tsCorrected == key_list[2]]\n",
    "        data_SEL = []\n",
    "        for index,row in data_column_rows.iterrows():\n",
    "            data_SEL.append([int(row['port'][-1]),row['sig']])    \n",
    "    if a[i][0] == 2:\n",
    "        data_column_rows = df_BR_GT[df_BR_GT.tsCorrected == key_list[2]]\n",
    "        data_BR = []\n",
    "        for index,row in data_column_rows.iterrows():\n",
    "            data_BR.append([int(row['port'][-1]),row['sig']])"
   ]
  },
  {
   "cell_type": "code",
   "execution_count": null,
   "id": "3b55d11c",
   "metadata": {},
   "outputs": [],
   "source": [
    "station_data_2 = [[data_BR,BRR_Station],[data_SEL,SEL_Station],[data_BIT,TUR_Station]]\n",
    "points_2,index_map_2 = montecarlo_intersection(station_data_2)"
   ]
  },
  {
   "cell_type": "code",
   "execution_count": null,
   "id": "6e01d7aa",
   "metadata": {},
   "outputs": [],
   "source": [
    "XYZ_2 = points_2[index_map_2][:,:]"
   ]
  },
  {
   "cell_type": "code",
   "execution_count": null,
   "id": "b7c16d69",
   "metadata": {},
   "outputs": [],
   "source": [
    "plt.scatter(XY[:,0],XY[:,1])\n",
    "plt.scatter(XY_1[:,0],XY_1[:,1])\n",
    "plt.scatter(XYZ_2[:,0],XYZ_2[:,1])\n",
    "plt.scatter(8166,2276,color=\"black\",label='GPS Detection')\n"
   ]
  },
  {
   "cell_type": "code",
   "execution_count": null,
   "id": "77121095",
   "metadata": {},
   "outputs": [],
   "source": [
    "from scipy.spatial import KDTree\n",
    "\n",
    "def find_intersection_with_kdtree(point_cloud1, point_cloud2, tol=1e-6):\n",
    "    tree = KDTree(point_cloud2)\n",
    "    intersection = []\n",
    "    for point in point_cloud1:\n",
    "        if tree.query(point, distance_upper_bound=tol)[0] < tol:\n",
    "            intersection.append(point)\n",
    "    return np.array(intersection)\n",
    "\n",
    "# Example usage\n",
    "intersection_points_1 = find_intersection_with_kdtree(XYZ_2, intersection_points, tol=200)"
   ]
  },
  {
   "cell_type": "code",
   "execution_count": null,
   "id": "eefd2ce8",
   "metadata": {},
   "outputs": [],
   "source": [
    "plt.scatter(intersection_points_1[:,0],intersection_points_1[:,1])\n",
    "plt.scatter(8166,2276,color=\"black\",label='GPS Detection')"
   ]
  },
  {
   "cell_type": "code",
   "execution_count": null,
   "id": "18d5e5ac",
   "metadata": {},
   "outputs": [],
   "source": []
  }
 ],
 "metadata": {
  "kernelspec": {
   "display_name": "Python 3 (ipykernel)",
   "language": "python",
   "name": "python3"
  },
  "language_info": {
   "codemirror_mode": {
    "name": "ipython",
    "version": 3
   },
   "file_extension": ".py",
   "mimetype": "text/x-python",
   "name": "python",
   "nbconvert_exporter": "python",
   "pygments_lexer": "ipython3",
   "version": "3.10.12"
  }
 },
 "nbformat": 4,
 "nbformat_minor": 5
}
