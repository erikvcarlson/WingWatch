{
 "cells": [
  {
   "cell_type": "code",
   "execution_count": 1,
   "id": "1ac7e040",
   "metadata": {},
   "outputs": [],
   "source": [
    "import numpy as np\n",
    "import matplotlib.pyplot as plt\n",
    "\n",
    "\n",
    "a = 5  # Semi-principal axis along x, this will get larger for fainter detections\n",
    "\n",
    "xyEccentricity = 0.7 #needs to be between 0 and 1\n",
    "\n",
    "\n",
    "b = np.sqrt(a**2 - xyEccentricity**2) # Semi-principal axis along y - want this to be some fraction of a np.sqrt(1 - b**2/a**2) - constant eccentricity \n",
    "c = 2  # Semi-principal axis along z\n",
    "\n",
    "a1 = 7\n",
    "a2 = 20\n",
    "\n",
    "\n",
    "phi = np.linspace(0, 2 * np.pi, 50)  # Azimuthal angle\n",
    "theta = np.linspace(0, np.pi, 50)    # Polar angle\n",
    "\n",
    "phi, theta = np.meshgrid(phi, theta)\n",
    "\n",
    "x = a *np.sin(theta)*np.cos(phi)\n",
    "y = b *np.sin(theta)*np.sin(phi)\n",
    "z = c * np.cos(theta)\n",
    "\n",
    "x1 = a1 *np.sin(theta)*np.cos(phi)\n",
    "y1 = b *np.sin(theta)*np.sin(phi)\n",
    "z1 = c * np.cos(theta)\n",
    "\n",
    "x2 = a2 *np.sin(theta)*np.cos(phi)\n",
    "y2 = b *np.sin(theta)*np.sin(phi)\n",
    "z2 = c * np.cos(theta)\n",
    "\n",
    "\n",
    "\n",
    "\n",
    "\n",
    "#(x+)**2/a**2 + y**2/b**2 + z**2/c**2 =1\n"
   ]
  },
  {
   "cell_type": "code",
   "execution_count": 2,
   "id": "78bead38",
   "metadata": {},
   "outputs": [
    {
     "data": {
      "text/plain": [
       "array([1., 1., 1., ..., 1., 1., 1.])"
      ]
     },
     "execution_count": 2,
     "metadata": {},
     "output_type": "execute_result"
    }
   ],
   "source": [
    "np.ones(x.ravel().shape)"
   ]
  },
  {
   "cell_type": "code",
   "execution_count": 48,
   "id": "84e48b0d",
   "metadata": {},
   "outputs": [],
   "source": [
    "import pandas as pd \n",
    "\n",
    "\n",
    "xyEccentricity = 0.7 #needs to be between 0 and 1\n",
    "phi = np.linspace(0, 2 * np.pi, 50)  # Azimuthal angle\n",
    "theta = np.linspace(0, np.pi, 50)    # Polar angle\n",
    "\n",
    "phi, theta = np.meshgrid(phi, theta)\n",
    "\n",
    "\n",
    "\n",
    "\n",
    "for a in range(2,500):\n",
    "    b = np.sqrt(a**2 - xyEccentricity**2)\n",
    "    \n",
    "    c = 2\n",
    "    \n",
    "    x = a *np.sin(theta)*np.cos(phi)\n",
    "    y = b *np.sin(theta)*np.sin(phi)\n",
    "    z = c * np.cos(theta)\n",
    "\n",
    "\n",
    "    \n",
    "    ones = np.ones(x.ravel().shape)\n",
    "\n",
    "    if range(a == 2):\n",
    "        ones = np.ones(x.ravel().shape)\n",
    "        points = np.vstack((x.ravel(), y.ravel(), z.ravel(),ones*a)).T\n",
    "    else:\n",
    "        points_inter = np.vstack((x.ravel(), y.ravel(), z.ravel(),ones*a)).T\n",
    "        points = np.row_stack([points,points_inter])\n",
    "\n",
    "\n",
    "\n",
    "df = pd.DataFrame(np.round(points,1),columns=['X','Y','Z','A1'])\n"
   ]
  },
  {
   "cell_type": "code",
   "execution_count": 52,
   "id": "53bbec62",
   "metadata": {},
   "outputs": [],
   "source": [
    "df5 = df[df['A1'] == 121]"
   ]
  },
  {
   "cell_type": "code",
   "execution_count": 58,
   "id": "ec1addf2",
   "metadata": {},
   "outputs": [],
   "source": [
    "df5z0 = df5[df5['Z'] == 0.1]"
   ]
  },
  {
   "cell_type": "code",
   "execution_count": 61,
   "id": "a8d0f94d",
   "metadata": {},
   "outputs": [
    {
     "data": {
      "image/png": "[encoded data removed]",
      "text/plain": [
       "<Figure size 640x480 with 1 Axes>"
      ]
     },
     "metadata": {},
     "output_type": "display_data"
    }
   ],
   "source": [
    "plt.scatter(df5z0['X'],df5z0['Y'])\n",
    "plt.gca().set_aspect('equal')"
   ]
  },
  {
   "cell_type": "code",
   "execution_count": 62,
   "id": "391f21f2",
   "metadata": {},
   "outputs": [
    {
     "data": {
      "text/plain": [
       "array([  2.,   3.,   4.,   5.,   6.,   7.,   8.,   9.,  10.,  11.,  12.,\n",
       "        13.,  14.,  15.,  16.,  17.,  18.,  19.,  20.,  21.,  22.,  23.,\n",
       "        24.,  25.,  26.,  27.,  28.,  29.,  30.,  31.,  32.,  33.,  34.,\n",
       "        35.,  36.,  37.,  38.,  39.,  40.,  41.,  42.,  43.,  44.,  45.,\n",
       "        46.,  47.,  48.,  49.,  50.,  51.,  52.,  53.,  54.,  55.,  56.,\n",
       "        57.,  58.,  59.,  60.,  61.,  62.,  63.,  64.,  65.,  66.,  67.,\n",
       "        68.,  69.,  70.,  71.,  72.,  73.,  74.,  75.,  76.,  77.,  78.,\n",
       "        79.,  80.,  81.,  82.,  83.,  84.,  85.,  86.,  87.,  88.,  89.,\n",
       "        90.,  91.,  92.,  93.,  94.,  95.,  96.,  97.,  98.,  99., 100.,\n",
       "       101., 102., 103., 104., 105., 106., 107., 108., 109., 110., 111.,\n",
       "       112., 113., 114., 115., 116., 117., 118., 119., 120., 121., 122.,\n",
       "       123., 124., 125., 126., 127., 128., 129., 130., 131., 132., 133.,\n",
       "       134., 135., 136., 137., 138., 139., 140., 141., 142., 143., 144.,\n",
       "       145., 146., 147., 148., 149., 150., 151., 152., 153., 154., 155.,\n",
       "       156., 157., 158., 159., 160., 161., 162., 163., 164., 165., 166.,\n",
       "       167., 168., 169., 170., 171., 172., 173., 174., 175., 176., 177.,\n",
       "       178., 179., 180., 181., 182., 183., 184., 185., 186., 187., 188.,\n",
       "       189., 190., 191., 192., 193., 194., 195., 196., 197., 198., 199.,\n",
       "       200., 201., 202., 203., 204., 205., 206., 207., 208., 209., 210.,\n",
       "       211., 212., 213., 214., 215., 216., 217., 218., 219., 220., 221.,\n",
       "       222., 223., 224., 225., 226., 227., 228., 229., 230., 231., 232.,\n",
       "       233., 234., 235., 236., 237., 238., 239., 240., 241., 242., 243.,\n",
       "       244., 245., 246., 247., 248., 249., 250., 251., 252., 253., 254.,\n",
       "       255., 256., 257., 258., 259., 260., 261., 262., 263., 264., 265.,\n",
       "       266., 267., 268., 269., 270., 271., 272., 273., 274., 275., 276.,\n",
       "       277., 278., 279., 280., 281., 282., 283., 284., 285., 286., 287.,\n",
       "       288., 289., 290., 291., 292., 293., 294., 295., 296., 297., 298.,\n",
       "       299., 300., 301., 302., 303., 304., 305., 306., 307., 308., 309.,\n",
       "       310., 311., 312., 313., 314., 315., 316., 317., 318., 319., 320.,\n",
       "       321., 322., 323., 324., 325., 326., 327., 328., 329., 330., 331.,\n",
       "       332., 333., 334., 335., 336., 337., 338., 339., 340., 341., 342.,\n",
       "       343., 344., 345., 346., 347., 348., 349., 350., 351., 352., 353.,\n",
       "       354., 355., 356., 357., 358., 359., 360., 361., 362., 363., 364.,\n",
       "       365., 366., 367., 368., 369., 370., 371., 372., 373., 374., 375.,\n",
       "       376., 377., 378., 379., 380., 381., 382., 383., 384., 385., 386.,\n",
       "       387., 388., 389., 390., 391., 392., 393., 394., 395., 396., 397.,\n",
       "       398., 399., 400., 401., 402., 403., 404., 405., 406., 407., 408.,\n",
       "       409., 410., 411., 412., 413., 414., 415., 416., 417., 418., 419.,\n",
       "       420., 421., 422., 423., 424., 425., 426., 427., 428., 429., 430.,\n",
       "       431., 432., 433., 434., 435., 436., 437., 438., 439., 440., 441.,\n",
       "       442., 443., 444., 445., 446., 447., 448., 449., 450., 451., 452.,\n",
       "       453., 454., 455., 456., 457., 458., 459., 460., 461., 462., 463.,\n",
       "       464., 465., 466., 467., 468., 469., 470., 471., 472., 473., 474.,\n",
       "       475., 476., 477., 478., 479., 480., 481., 482., 483., 484., 485.,\n",
       "       486., 487., 488., 489., 490., 491., 492., 493., 494., 495., 496.,\n",
       "       497., 498., 499.])"
      ]
     },
     "execution_count": 62,
     "metadata": {},
     "output_type": "execute_result"
    }
   ],
   "source": [
    "df.A1.unique()"
   ]
  },
  {
   "cell_type": "code",
   "execution_count": 57,
   "id": "3f242438",
   "metadata": {},
   "outputs": [
    {
     "data": {
      "text/plain": [
       "array([ 2. ,  1.9,  1.8,  1.7,  1.6,  1.5,  1.4,  1.3,  1.2,  1.1,  1. ,\n",
       "        0.9,  0.8,  0.7,  0.6,  0.4,  0.3,  0.2,  0.1, -0.1, -0.2, -0.3,\n",
       "       -0.4, -0.6, -0.7, -0.8, -0.9, -1. , -1.1, -1.2, -1.3, -1.4, -1.5,\n",
       "       -1.6, -1.7, -1.8, -1.9, -2. ])"
      ]
     },
     "execution_count": 57,
     "metadata": {},
     "output_type": "execute_result"
    }
   ],
   "source": [
    "df5.Z.unique()"
   ]
  },
  {
   "cell_type": "code",
   "execution_count": null,
   "id": "f2064776",
   "metadata": {},
   "outputs": [],
   "source": []
  }
 ],
 "metadata": {
  "kernelspec": {
   "display_name": "Python 3 (ipykernel)",
   "language": "python",
   "name": "python3"
  },
  "language_info": {
   "codemirror_mode": {
    "name": "ipython",
    "version": 3
   },
   "file_extension": ".py",
   "mimetype": "text/x-python",
   "name": "python",
   "nbconvert_exporter": "python",
   "pygments_lexer": "ipython3",
   "version": "3.12.3"
  }
 },
 "nbformat": 4,
 "nbformat_minor": 5
}
