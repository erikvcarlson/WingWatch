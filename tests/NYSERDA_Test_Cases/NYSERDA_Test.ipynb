{
 "cells": [
  {
   "cell_type": "code",
   "execution_count": 1,
   "id": "dc1eca60",
   "metadata": {},
   "outputs": [],
   "source": [
    "import sys\n",
    "sys.path.insert(1, '/home/main/Research/WingWatch')\n",
    "#sys.path.insert(1, '/home/user/Research/base-WingWatch')\n",
    "\n",
    "from WingWatch.Equipment import station\n",
    "from WingWatch.Equipment import antenna\n",
    "from WingWatch.Intersections import montecarlo\n",
    "from WingWatch.Tools import translation\n",
    "from WingWatch.Calibration import clean_data\n",
    "\n",
    "import pandas as pd\n",
    "import numpy as np\n",
    "import matplotlib.pyplot as plt"
   ]
  },
  {
   "cell_type": "code",
   "execution_count": 2,
   "id": "d320ec10",
   "metadata": {},
   "outputs": [
    {
     "name": "stdout",
     "output_type": "stream",
     "text": [
      "1 added to SEL's antennas.\n",
      "2 added to SEL's antennas.\n",
      "3 added to SEL's antennas.\n",
      "4 added to SEL's antennas.\n"
     ]
    }
   ],
   "source": [
    "#Setup each of the actual stations\n",
    "\n",
    "SEL_Station = station.Station('SEL',41.1534, -71.5521)\n",
    "\n",
    "a1 = antenna.Antenna('1','yagi',0,434)\n",
    "df = pd.read_csv('SE_Light_434_0_calib.csv')\n",
    "a1.assign_pattern(df)\n",
    "a1.convert_to_lat_long(SEL_Station)\n",
    "\n",
    "a2 = antenna.Antenna('2','yagi',0,434)\n",
    "df = pd.read_csv('SE_Light_434_1_calib.csv')\n",
    "a2.assign_pattern(df)\n",
    "a2.convert_to_lat_long(SEL_Station)\n",
    "\n",
    "a3 = antenna.Antenna('3','yagi',0,434)\n",
    "df = pd.read_csv('SE_Light_434_2_calib.csv')\n",
    "a3.assign_pattern(df)\n",
    "a3.convert_to_lat_long(SEL_Station)\n",
    "\n",
    "\n",
    "a4 = antenna.Antenna('4','yagi',0,434)\n",
    "df = pd.read_csv('SE_Light_434_3_calib.csv')\n",
    "a4.assign_pattern(df)\n",
    "a4.convert_to_lat_long(SEL_Station)\n",
    "\n",
    "SEL_Station.add_antenna(a1)\n",
    "SEL_Station.add_antenna(a2)\n",
    "SEL_Station.add_antenna(a3)\n",
    "SEL_Station.add_antenna(a4)"
   ]
  },
  {
   "cell_type": "code",
   "execution_count": 3,
   "id": "986f56f0",
   "metadata": {},
   "outputs": [
    {
     "name": "stdout",
     "output_type": "stream",
     "text": [
      "1 added to BRR's antennas.\n",
      "2 added to BRR's antennas.\n",
      "3 added to BRR's antennas.\n",
      "4 added to BRR's antennas.\n"
     ]
    }
   ],
   "source": [
    "#Setup each of the actual stations\n",
    "\n",
    "BRR_Station = station.Station('BRR',41.1479, -71.5901)\n",
    "\n",
    "a1 = antenna.Antenna('1','yagi',0,434)\n",
    "df = pd.read_csv('Black_Rock_434_0_calib.csv')\n",
    "a1.assign_pattern(df)\n",
    "a1.convert_to_lat_long(SEL_Station)\n",
    "\n",
    "a2 = antenna.Antenna('2','yagi',0,434)\n",
    "df = pd.read_csv('Black_Rock_434_1_calib.csv')\n",
    "a2.assign_pattern(df)\n",
    "a2.convert_to_lat_long(SEL_Station)\n",
    "\n",
    "a3 = antenna.Antenna('3','yagi',0,434)\n",
    "df = pd.read_csv('Black_Rock_434_2_calib.csv')\n",
    "a3.assign_pattern(df)\n",
    "a3.convert_to_lat_long(SEL_Station)\n",
    "\n",
    "\n",
    "a4 = antenna.Antenna('4','yagi',0,434)\n",
    "df = pd.read_csv('Black_Rock_434_3_calib.csv')\n",
    "a4.assign_pattern(df)\n",
    "a4.convert_to_lat_long(SEL_Station)\n",
    "\n",
    "BRR_Station.add_antenna(a1)\n",
    "BRR_Station.add_antenna(a2)\n",
    "BRR_Station.add_antenna(a3)\n",
    "BRR_Station.add_antenna(a4)"
   ]
  },
  {
   "cell_type": "code",
   "execution_count": 4,
   "id": "887db8bc",
   "metadata": {},
   "outputs": [
    {
     "name": "stdout",
     "output_type": "stream",
     "text": [
      "1 added to TUR's antennas.\n",
      "2 added to TUR's antennas.\n",
      "3 added to TUR's antennas.\n",
      "4 added to TUR's antennas.\n"
     ]
    }
   ],
   "source": [
    "#Setup each of the actual stations\n",
    "\n",
    "TUR_Station = station.Station('TUR',41.1256, -71.5075)\n",
    "\n",
    "a1 = antenna.Antenna('1','yagi',0,434)\n",
    "df = pd.read_csv('BIWF_Turbine1_0_calib.csv')\n",
    "a1.assign_pattern(df)\n",
    "a1.convert_to_lat_long(SEL_Station)\n",
    "\n",
    "a2 = antenna.Antenna('2','yagi',0,434)\n",
    "df = pd.read_csv('BIWF_Turbine1_1_calib.csv')\n",
    "a2.assign_pattern(df)\n",
    "a2.convert_to_lat_long(SEL_Station)\n",
    "\n",
    "a3 = antenna.Antenna('3','yagi',0,434)\n",
    "df = pd.read_csv('BIWF_Turbine1_2_calib.csv')\n",
    "a3.assign_pattern(df)\n",
    "a3.convert_to_lat_long(SEL_Station)\n",
    "\n",
    "\n",
    "a4 = antenna.Antenna('4','yagi',0,434)\n",
    "df = pd.read_csv('BIWF_Turbine1_3_calib.csv')\n",
    "a4.assign_pattern(df)\n",
    "a4.convert_to_lat_long(SEL_Station)\n",
    "\n",
    "TUR_Station.add_antenna(a1)\n",
    "TUR_Station.add_antenna(a2)\n",
    "TUR_Station.add_antenna(a3)\n",
    "TUR_Station.add_antenna(a4)"
   ]
  },
  {
   "cell_type": "code",
   "execution_count": 5,
   "id": "a995c41c",
   "metadata": {},
   "outputs": [],
   "source": [
    "#At an epoch time of 1630333415, the test tag was at 41.127364,-71.492852,0"
   ]
  },
  {
   "cell_type": "code",
   "execution_count": 6,
   "id": "f5183320",
   "metadata": {},
   "outputs": [],
   "source": [
    "#Let us start working some geometries\n",
    "\n",
    "df = pd.read_csv('allTagsAll390.csv',low_memory=False)\n",
    "\n",
    "#BIWF goes offline on 11-29-2021\n",
    "#SE Light goes offline on 12-25-2021\n",
    "#Black Rock Goes offline on 5-26-2022\n",
    "\n",
    "\n",
    "\n",
    "#remove any detections from the MOTUS project which are detected after the stations came down \n",
    "df['ts'] = pd.to_datetime(df['ts'])\n",
    "df1 = df[df['ts'] < pd.to_datetime('2022-05-26')]\n",
    "\n",
    "#filter just our recievers\n",
    "mask = (df1['recvDeployName'] == 'Black_Rock_434') | (df1['recvDeployName'] == 'SE_Light_434') | (df1['recv'] == 'CTT-6A8468DA84C0')\n",
    "\n",
    "#BIT is the Block Island Turbine\n",
    "df_Black_Rock = df1[df1['recvDeployName'] == 'Black_Rock_434'].reset_index()\n",
    "df_SE_Light = df1[df1['recvDeployName'] == 'SE_Light_434'].reset_index()\n",
    "df_BIT = df1[df1['recv'] == 'CTT-6A8468DA84C0'].reset_index()"
   ]
  },
  {
   "cell_type": "code",
   "execution_count": 7,
   "id": "226c8c46",
   "metadata": {},
   "outputs": [],
   "source": [
    "#Ground Truth Test - tsCorrected is in UNIX Time at GMT \n",
    "\n",
    "df_BR_GT = df_Black_Rock[(df_Black_Rock['tsCorrected'] >= 1630333415.0) & (df_Black_Rock['tsCorrected'] <= 1630333417.0)].reset_index()\n",
    "df_SE_Light_GT = df_SE_Light[(df_SE_Light['tsCorrected'] >= 1630333415.0) & (df_SE_Light['tsCorrected'] <= 1630333417.0)].reset_index()\n",
    "df_BIT_GT = df_BIT[(df_BIT['tsCorrected'] >= 1630333415.0) & (df_BIT['tsCorrected'] <= 1630333417.0)].reset_index()"
   ]
  },
  {
   "cell_type": "code",
   "execution_count": 8,
   "id": "0c8b1425",
   "metadata": {},
   "outputs": [],
   "source": [
    "def combine_simultaneous_timestamps(*timestamp_lists):\n",
    "    combined_timestamps = {}\n",
    "    \n",
    "    for list_index, timestamps in enumerate(timestamp_lists):\n",
    "        for index, timestamp in enumerate(timestamps):\n",
    "            if timestamp in combined_timestamps:\n",
    "                combined_timestamps[timestamp].append((list_index, index))\n",
    "            else:\n",
    "                combined_timestamps[timestamp] = [(list_index, index)]\n",
    "    filtered_combined_timestamps = {timestamp: indexes for timestamp, indexes in combined_timestamps.items() if len(indexes) > 2}\n",
    "\n",
    "    return filtered_combined_timestamps\n",
    "\n",
    "# Example lists of time stamps\n",
    "list1 = list(df_BIT_GT['tsCorrected'])\n",
    "list2 = list(df_SE_Light_GT['tsCorrected'])\n",
    "list3 = list(df_BR_GT['tsCorrected'])\n",
    "\n",
    "combined = combine_simultaneous_timestamps(list1,list2, list3)\n"
   ]
  },
  {
   "cell_type": "code",
   "execution_count": 9,
   "id": "1f7117cd",
   "metadata": {},
   "outputs": [
    {
     "data": {
      "text/plain": [
       "{1630333415.0: [(0, 0), (0, 1), (0, 2), (1, 0), (1, 1), (1, 2), (2, 0)],\n",
       " 1630333416.0: [(0, 3), (0, 4), (0, 5), (1, 3)],\n",
       " 1630333417.0: [(0, 6), (0, 7), (0, 8), (1, 4), (1, 5), (2, 1)]}"
      ]
     },
     "execution_count": 9,
     "metadata": {},
     "output_type": "execute_result"
    }
   ],
   "source": [
    "combined"
   ]
  },
  {
   "cell_type": "code",
   "execution_count": 10,
   "id": "235260d9",
   "metadata": {},
   "outputs": [],
   "source": [
    "a = combined[list(combined.keys())[0]]\n",
    "key_list = list(combined.keys())\n",
    "for i in range(len(a)):\n",
    "    if a[i][0] == 0:\n",
    "        data_column_rows = df_BIT_GT[df_BIT_GT.tsCorrected == key_list[0]] \n",
    "        #key_list[0] will need to change when dealing with multiple time iterations. it should be the same as the \n",
    "        # number that is indexing a, at the top of this box\n",
    "        data_BIT = []\n",
    "        for index,row in data_column_rows.iterrows():\n",
    "            data_BIT.append([int(row['port'][-1]),row['sig']]) \n",
    "    if a[i][0] == 1:\n",
    "        data_column_rows = df_SE_Light_GT[df_SE_Light_GT.tsCorrected == key_list[0]]\n",
    "        data_SEL = []\n",
    "        for index,row in data_column_rows.iterrows():\n",
    "            data_SEL.append([int(row['port'][-1]),row['sig']])    \n",
    "    if a[i][0] == 2:\n",
    "        data_column_rows = df_BR_GT[df_BR_GT.tsCorrected == key_list[0]]\n",
    "        data_BR = []\n",
    "        for index,row in data_column_rows.iterrows():\n",
    "            data_BR.append([int(row['port'][-1]),row['sig']])"
   ]
  },
  {
   "cell_type": "code",
   "execution_count": 11,
   "id": "f1b51378",
   "metadata": {},
   "outputs": [
    {
     "data": {
      "text/plain": [
       "[[3, -83.0], [4, -86.0], [2, -96.0]]"
      ]
     },
     "execution_count": 11,
     "metadata": {},
     "output_type": "execute_result"
    }
   ],
   "source": [
    "data_BIT"
   ]
  },
  {
   "cell_type": "code",
   "execution_count": 12,
   "id": "8efe6ef7",
   "metadata": {},
   "outputs": [
    {
     "data": {
      "text/plain": [
       "[[1, -100.0]]"
      ]
     },
     "execution_count": 12,
     "metadata": {},
     "output_type": "execute_result"
    }
   ],
   "source": [
    "data_BR"
   ]
  },
  {
   "cell_type": "code",
   "execution_count": 13,
   "id": "86169020",
   "metadata": {},
   "outputs": [],
   "source": [
    "from WingWatch.Intersections.montecarlo import montecarlo_intersection\n",
    "from WingWatch.Equipment import station\n",
    "from WingWatch.Equipment import antenna\n",
    "from WingWatch.Intersections import montecarlo\n",
    "from WingWatch.Tools import translation\n",
    "from WingWatch.Calibration import clean_data\n",
    "\n",
    "station_data = [[data_BR,BRR_Station],[data_SEL,SEL_Station],[data_BIT,TUR_Station]]\n",
    "points,index_map = montecarlo_intersection(station_data)"
   ]
  },
  {
   "cell_type": "code",
   "execution_count": 14,
   "id": "4f96a0d2",
   "metadata": {},
   "outputs": [
    {
     "data": {
      "image/png": "[encoded data removed]",
      "text/plain": [
       "<Figure size 432x288 with 1 Axes>"
      ]
     },
     "metadata": {
      "needs_background": "light"
     },
     "output_type": "display_data"
    }
   ],
   "source": [
    "XY = points[index_map][:,0:2]\n",
    "rot_mat = np.eye(2)\n",
    "#rot_mat = np.array([[0,1],[-1,0]])\n",
    "rot_points = np.matmul(XY,rot_mat)\n",
    "\n",
    "\n",
    "plt.scatter(rot_points[:,0],rot_points[:,1])\n",
    "plt.scatter(8166,2276,color=\"black\",label='GPS Detection')\n",
    "#plt.xlim(-20000, 20000)\n",
    "#plt.ylim(-10000, 10000)\n",
    "plt.scatter(0,0,marker='*',color='green',label='Station')\n",
    "plt.scatter(3189,611,marker='*',color='green',label='Station')\n",
    "plt.scatter(6936,-2473,marker='*',color='green',label='Station')\n",
    "plt.legend(loc='lower left')\n",
    "plt.savefig('Working_Triangulation_Algorithm_7_antennas.pdf')"
   ]
  },
  {
   "cell_type": "code",
   "execution_count": 15,
   "id": "2ead6657",
   "metadata": {},
   "outputs": [],
   "source": [
    "a = combined[list(combined.keys())[1]]\n",
    "key_list = list(combined.keys())\n",
    "for i in range(len(a)):\n",
    "    if a[i][0] == 0:\n",
    "        data_column_rows = df_BIT_GT[df_BIT_GT.tsCorrected == key_list[1]] \n",
    "        #key_list[0] will need to change when dealing with multiple time iterations. it should be the same as the \n",
    "        # number that is indexing a, at the top of this box\n",
    "        data_BIT = []\n",
    "        for index,row in data_column_rows.iterrows():\n",
    "            data_BIT.append([int(row['port'][-1]),row['sig']]) \n",
    "    if a[i][0] == 1:\n",
    "        data_column_rows = df_SE_Light_GT[df_SE_Light_GT.tsCorrected == key_list[1]]\n",
    "        data_SEL = []\n",
    "        for index,row in data_column_rows.iterrows():\n",
    "            data_SEL.append([int(row['port'][-1]),row['sig']])    \n",
    "    if a[i][0] == 2:\n",
    "        data_column_rows = df_BR_GT[df_BR_GT.tsCorrected == key_list[1]]\n",
    "        data_BR = []\n",
    "        for index,row in data_column_rows.iterrows():\n",
    "            data_BR.append([int(row['port'][-1]),row['sig']])"
   ]
  },
  {
   "cell_type": "code",
   "execution_count": 16,
   "id": "7dd6c1ed",
   "metadata": {},
   "outputs": [],
   "source": [
    "station_data_1 = [[data_BR,BRR_Station],[data_SEL,SEL_Station],[data_BIT,TUR_Station]]\n",
    "points_1,index_map_1 = montecarlo_intersection(station_data_1)"
   ]
  },
  {
   "cell_type": "code",
   "execution_count": 17,
   "id": "5e4f4c4e",
   "metadata": {},
   "outputs": [
    {
     "data": {
      "text/plain": [
       "<matplotlib.legend.Legend at 0x7f74a748b460>"
      ]
     },
     "execution_count": 17,
     "metadata": {},
     "output_type": "execute_result"
    },
    {
     "data": {
      "image/png": "[encoded data removed]",
      "text/plain": [
       "<Figure size 432x288 with 1 Axes>"
      ]
     },
     "metadata": {
      "needs_background": "light"
     },
     "output_type": "display_data"
    }
   ],
   "source": [
    "XY = points_1[index_map_1][:,0:2]\n",
    "rot_mat = np.eye(2)\n",
    "#rot_mat = np.array([[0,1],[-1,0]])\n",
    "rot_points = np.matmul(XY,rot_mat)\n",
    "\n",
    "\n",
    "plt.scatter(rot_points[:,0],rot_points[:,1])\n",
    "plt.scatter(8166,2276,color=\"black\",label='GPS Detection')\n",
    "#plt.xlim(-20000, 20000)\n",
    "#plt.ylim(-10000, 10000)\n",
    "plt.scatter(0,0,marker='*',color='green',label='Station')\n",
    "plt.scatter(3189,611,marker='*',color='green',label='Station')\n",
    "plt.scatter(6936,-2473,marker='*',color='green',label='Station')\n",
    "plt.legend(loc='lower left')"
   ]
  },
  {
   "cell_type": "code",
   "execution_count": 18,
   "id": "cb98f92f",
   "metadata": {},
   "outputs": [
    {
     "data": {
      "text/plain": [
       "<matplotlib.collections.PathCollection at 0x7f74c561acb0>"
      ]
     },
     "execution_count": 18,
     "metadata": {},
     "output_type": "execute_result"
    },
    {
     "data": {
      "image/png": "[encoded data removed]",
      "text/plain": [
       "<Figure size 432x288 with 1 Axes>"
      ]
     },
     "metadata": {
      "needs_background": "light"
     },
     "output_type": "display_data"
    }
   ],
   "source": [
    "XY = points[index_map][:,0:2]\n",
    "XY_1 = points_1[index_map_1][:,0:2]\n",
    "\n",
    "\n",
    "plt.scatter(XY[:,0],XY[:,1])\n",
    "plt.scatter(XY_1[:,0],XY_1[:,1])\n",
    "\n",
    "plt.scatter(8166,2276,color=\"black\",label='GPS Detection')\n"
   ]
  },
  {
   "cell_type": "code",
   "execution_count": 19,
   "id": "88b169e0",
   "metadata": {},
   "outputs": [],
   "source": [
    "import random \n",
    "\n",
    "\n",
    "def generate_points_on_sphere(x0, y0, z0, r, n):\n",
    "    # Generate random angles\n",
    "    theta = np.random.uniform(0, 2 * np.pi, n)\n",
    "    phi = np.arccos(np.random.uniform(-1, 1, n))\n",
    "    \n",
    "    # Convert spherical coordinates to Cartesian coordinates\n",
    "    x = x0 + r * np.sin(phi) * np.cos(theta)\n",
    "    y = y0 + r * np.sin(phi) * np.sin(theta)\n",
    "    z = z0 + r * np.cos(phi)\n",
    "    \n",
    "    # Stack the coordinates to form an n x 3 array\n",
    "    points = np.column_stack((x, y, z))\n",
    "    \n",
    "    return points\n",
    "\n"
   ]
  },
  {
   "cell_type": "code",
   "execution_count": 20,
   "id": "55832420",
   "metadata": {},
   "outputs": [],
   "source": [
    "XYZ = points[index_map][:,:]\n",
    "XYZ_1 = points_1[index_map_1]"
   ]
  },
  {
   "cell_type": "code",
   "execution_count": 21,
   "id": "23daf3dd",
   "metadata": {},
   "outputs": [],
   "source": [
    "XYZ_expanded = []\n",
    "XYZ_1_expanded = []\n",
    "for i in range(len(XYZ)):\n",
    "    XYZ_expanded.append(generate_points_on_sphere(XYZ[i][0],XYZ[i][1],XYZ[i][2],340,100))\n",
    "XYZ_expanded = np.row_stack(XYZ_expanded)\n",
    "for i in range(len(XYZ_1)):\n",
    "    XYZ_1_expanded.append(generate_points_on_sphere(XYZ_1[i][0],XYZ_1[i][1],XYZ_1[i][2],340,100))\n",
    "XYZ_1_expanded = np.row_stack(XYZ_1_expanded)"
   ]
  },
  {
   "cell_type": "code",
   "execution_count": 22,
   "id": "6adcfd50",
   "metadata": {},
   "outputs": [],
   "source": [
    "ans = np.row_stack(XYZ_1_expanded)"
   ]
  },
  {
   "cell_type": "code",
   "execution_count": 23,
   "id": "ae3fb44d",
   "metadata": {},
   "outputs": [
    {
     "data": {
      "text/plain": [
       "array([6643.55981985, 6847.0036117 , 6854.61815552, ..., 7011.27296567,\n",
       "       7177.08256639, 6821.09761656])"
      ]
     },
     "execution_count": 23,
     "metadata": {},
     "output_type": "execute_result"
    }
   ],
   "source": [
    "ans[:,0]"
   ]
  },
  {
   "cell_type": "code",
   "execution_count": 24,
   "id": "8dc8ec59",
   "metadata": {},
   "outputs": [
    {
     "data": {
      "text/plain": [
       "<matplotlib.collections.PathCollection at 0x7f74c5682260>"
      ]
     },
     "execution_count": 24,
     "metadata": {},
     "output_type": "execute_result"
    },
    {
     "data": {
      "image/png": "[encoded data removed]",
      "text/plain": [
       "<Figure size 432x288 with 1 Axes>"
      ]
     },
     "metadata": {
      "needs_background": "light"
     },
     "output_type": "display_data"
    }
   ],
   "source": [
    "plt.scatter(XYZ_1_expanded[:,0],XYZ_1_expanded[:,1])\n",
    "plt.scatter(XYZ_expanded[:,0],XYZ_expanded[:,1])"
   ]
  },
  {
   "cell_type": "code",
   "execution_count": 25,
   "id": "571891de",
   "metadata": {},
   "outputs": [
    {
     "name": "stdout",
     "output_type": "stream",
     "text": [
      "[[ -6875.45628451   9780.21980489   -164.54688673]\n",
      " [  8613.95128521  -5100.86128473   -608.6930503 ]\n",
      " [  8113.1577106    2626.40560737   -741.57560237]\n",
      " [-12038.3433845   -1304.3127734   -1112.12193549]\n",
      " [  8078.44854782   2193.63646995   -411.55105415]\n",
      " [  9364.50965346  -8084.99046854  -1200.21338113]\n",
      " [ 10398.73949484  -8524.50629996  -1328.10770178]\n",
      " [  8971.95911785  -8711.34550337   -876.85905513]\n",
      " [  9785.979094    -8681.17613293   -470.83834572]\n",
      " [  8219.07529242   2212.19889352  -1427.71948973]\n",
      " [  8047.64814778   2165.30431608  -1424.47149406]\n",
      " [-12229.02592738   -867.80243521  -1070.3220473 ]\n",
      " [  9450.88359257  -8621.74043195   -876.29108995]\n",
      " [  9240.9842463   -8018.97915693   -111.52611135]\n",
      " [-12180.48879745  -1149.70872099   -294.18662812]\n",
      " [  9428.23728432  -8042.23269938   -959.50723106]\n",
      " [-11548.63075242   2983.10226486    -29.22445102]\n",
      " [  9514.60399948  -8152.3443156   -1239.232338  ]\n",
      " [-11305.15980246   -189.92043854   -888.61289538]\n",
      " [  9729.60401777  -8822.28950523    -98.70653539]\n",
      " [-11082.39699446    340.45861511   -101.28233477]\n",
      " [-11156.5818615    3461.62033244  -1153.99126876]\n",
      " [  9414.54252953  -8704.90170102  -1219.03498611]\n",
      " [ -6723.69116445   9675.96747445   -557.1612255 ]\n",
      " [-11233.98663874    695.56830976   -606.84283711]\n",
      " [  9471.85570104  -8480.05435125  -1169.43919744]\n",
      " [ 13491.94381746  -8814.77722551  -1488.38150042]\n",
      " [ 10328.9332827   -8567.51378854  -1156.45858717]\n",
      " [  9367.08506065  -8398.06499961   -751.9704658 ]\n",
      " [-11014.27666928    266.29009781   -151.22633367]\n",
      " [  9292.72954604  -8427.46960179   -661.74501886]\n",
      " [ 13566.31683657  -8839.68032734   -674.43005345]\n",
      " [  9380.46863929  -8356.9984033   -1448.98418225]\n",
      " [-12242.25742837  -1080.87712984   -647.70404157]\n",
      " [-11110.02704349     45.05200962   -250.63846547]\n",
      " [-12202.22412301  -1304.28310965   -811.85790862]\n",
      " [  9169.55586243  -8788.22705118  -1160.49791333]\n",
      " [-11031.3129145     433.19558465  -1090.62362075]\n",
      " [ -6898.61627684   9587.91617891   -645.1513669 ]\n",
      " [-11423.79298439   2939.76076618   -959.75004451]\n",
      " [-11420.61849042     45.37876878   -151.30032438]\n",
      " [-12074.09490822   -607.6503169    -495.43500934]\n",
      " [  8617.35390795  -4934.11538879   -685.3141182 ]\n",
      " [-11552.12553879   2781.55571365  -1035.24476943]\n",
      " [  9743.41503049  -8438.08476314   -996.04118931]\n",
      " [-11541.89412869    413.4539576   -1296.28712545]\n",
      " [-11543.10413905   -478.65528437   -722.85886282]\n",
      " [-12466.18418983  -1445.44109239   -222.54609777]\n",
      " [ -6942.84339255   9474.07686758   -538.57924268]\n",
      " [  9813.2503644   -8120.95537685  -1370.66074418]\n",
      " [-11330.43310577    -33.079853      -88.5851728 ]\n",
      " [  8894.82960108  -5449.21851887  -1201.05810188]\n",
      " [-11599.41097522   -158.17392122   -699.35025672]\n",
      " [  9154.64391906  -8627.85657182  -1052.9159499 ]\n",
      " [  8757.55283507  -5430.11564716  -1444.22632605]\n",
      " [ 10283.94060856  -8737.7647184    -874.20700251]\n",
      " [  9540.09890119  -8826.34243096   -628.14066719]\n",
      " [-12155.17216436   -790.58405961   -174.31865892]\n",
      " [  9800.59365891  -8061.48236117   -771.55378008]\n",
      " [-11425.29349695  -2185.29656698   -299.02810534]\n",
      " [-12107.93890981   -665.14275251   -340.31743156]\n",
      " [-11615.85924677   -134.08107411   -708.96709188]\n",
      " [ 10084.65524198  -8729.9195763   -1421.34108515]\n",
      " [-11229.61888701   3580.22301256  -1280.56772849]\n",
      " [ -6852.93663573   9648.57936115   -693.46256757]\n",
      " [  8158.92906865   2758.01919401   -122.81497824]\n",
      " [-11522.7192208    2617.81344097   -724.71939532]\n",
      " [  8821.87282466  -5009.19356055  -1108.85786919]\n",
      " [ -6690.46877251   9451.74949282   -215.58411417]\n",
      " [ 10513.10353318  -8752.8218706    -166.48591189]\n",
      " [  9736.81918626  -8677.60348698   -832.86128716]\n",
      " [  8085.62079681   2346.02815612   -237.77951288]\n",
      " [ 13599.33281664  -8896.02762238   -671.06408012]\n",
      " [-11511.29774758    206.74493962     23.19083785]\n",
      " [-11372.53313484  -2262.64148303    -62.98503198]\n",
      " [ 10336.94841096  -8497.54434488   -982.86466288]\n",
      " [ 10405.16816871  -8543.94704437   -411.55166746]\n",
      " [-11064.43565137    461.87570002  -1363.77532444]\n",
      " [ 13154.86720937  -8515.41500429   -561.29355742]\n",
      " [ 13436.95464685  -8735.76654211   -738.84733227]\n",
      " [-12356.79432272  -1286.94557925  -1185.94277589]\n",
      " [-12212.59172015  -1427.65892192  -1006.09044236]\n",
      " [-11405.85796364   -519.86125043  -1081.04787098]\n",
      " [  9690.48362743  -8498.10526073   -613.64560727]\n",
      " [-11318.48470436  -2085.82387876   -398.5096639 ]\n",
      " [  9198.92262877  -8096.55834193  -1115.12358306]\n",
      " [ 10090.71217503  -8617.09261867     21.54928454]\n",
      " [-12350.36310608  -1303.8908938    -408.08122208]\n",
      " [-11376.49775275   -332.95659756  -1242.61421792]\n",
      " [  9694.24753229  -8882.82598346   -172.84222596]\n",
      " [  8245.24750268  -5089.56122407   -974.60202115]\n",
      " [  8132.83525808   3216.38793022   -687.57003321]\n",
      " [  9955.95989776  -8835.8101163    -886.81651098]\n",
      " [ -6674.46005349   9586.9413819    -629.27087419]\n",
      " [-11193.29691951   4185.79296957  -1111.16741777]\n",
      " [-11650.68556129   2637.92228459   -135.76218377]\n",
      " [  9027.61582425  -5443.45271477  -1357.01486411]\n",
      " [  9818.9955094   -8323.5070561   -1392.51013297]\n",
      " [-12187.21111632  -1443.54531025   -891.93377329]\n",
      " [  9982.00571476  -8202.32066145   -111.73432094]\n",
      " [-11284.8014346    -407.00738097  -1173.53730038]\n",
      " [ -9786.87372842   5838.3149077    -326.43288287]\n",
      " [-12783.17348424  -1652.21104865   -517.28284572]\n",
      " [  8237.07049774   2068.62404152   -175.90910349]\n",
      " [-11364.80001877    429.80614914   -553.60700801]\n",
      " [ 10535.14252941  -8654.65895303  -1349.65382402]\n",
      " [-11198.70692472   -269.84013985   -331.38968385]\n",
      " [-11400.56320964  -2229.05115764   -719.33430842]\n",
      " [ 13301.55604682  -8670.0933213    -447.64749609]\n",
      " [ 10164.2881342   -8180.90342588    -18.48123235]\n",
      " [-11465.86258286   2835.0844905    -911.69861278]\n",
      " [ -9777.03170605   5785.45887472   -360.4089605 ]\n",
      " [-11130.35116887   4228.88457438  -1025.67426155]\n",
      " [-11542.80693425   -938.61675393   -120.61641005]\n",
      " [-11606.91145999    182.91608219  -1043.57123795]\n",
      " [-11341.80334726  -2109.34437975   -781.1148719 ]\n",
      " [  9303.37054789  -8132.67720832   -632.91521441]\n",
      " [  8948.76132564  -5063.91344601  -1453.50054293]\n",
      " [-11413.80053245  -1898.90275331    -97.24804878]\n",
      " [ 13762.85398127  -8965.61183201   -313.7137671 ]\n",
      " [  9103.83214361  -5633.04217485  -1415.22248194]\n",
      " [-11374.49054885   -290.31552196   -640.71821092]\n",
      " [  8081.91903013   2409.50956831    -74.42294023]\n",
      " [  9536.99177393  -8156.68992147   -764.54035761]\n",
      " [-11531.85938195    302.49348331   -507.4674949 ]\n",
      " [  8952.56366331  -5530.62302685   -900.2670563 ]\n",
      " [ 13471.22142334  -8734.08738634    -97.66179522]\n",
      " [-11239.58650772   3553.96670689  -1296.16512555]\n",
      " [-11632.34828636   2590.23300651   -472.86504898]\n",
      " [-11213.53889588    239.14518811   -300.11771466]\n",
      " [  8900.29597525  -5472.38509182  -1306.92033319]\n",
      " [-11202.69591324    230.75954346  -1116.18957758]\n",
      " [  8551.75864209  -5098.40978925  -1212.80152106]\n",
      " [ 10250.02476952  -8317.75061877   -131.41143347]\n",
      " [ 13235.00367524  -8432.5020482   -1210.4107867 ]]\n"
     ]
    }
   ],
   "source": [
    "from scipy.spatial import KDTree\n",
    "\n",
    "def find_intersection_with_kdtree(point_cloud1, point_cloud2, tol=1e-6):\n",
    "    tree = KDTree(point_cloud2)\n",
    "    intersection = []\n",
    "    for point in point_cloud1:\n",
    "        if tree.query(point, distance_upper_bound=tol)[0] < tol:\n",
    "            intersection.append(point)\n",
    "    return np.array(intersection)\n",
    "\n",
    "# Example usage\n",
    "intersection_points = find_intersection_with_kdtree(XYZ, XYZ_1, tol=300)\n",
    "print(intersection_points)\n"
   ]
  },
  {
   "cell_type": "code",
   "execution_count": 26,
   "id": "95d427b5",
   "metadata": {},
   "outputs": [
    {
     "data": {
      "text/plain": [
       "(7916.0, 8416.0)"
      ]
     },
     "execution_count": 26,
     "metadata": {},
     "output_type": "execute_result"
    },
    {
     "data": {
      "image/png": "[encoded data removed]",
      "text/plain": [
       "<Figure size 432x288 with 1 Axes>"
      ]
     },
     "metadata": {
      "needs_background": "light"
     },
     "output_type": "display_data"
    }
   ],
   "source": [
    "plt.scatter(intersection_points[:,0],intersection_points[:,1])\n",
    "plt.scatter(8166,2276,color=\"black\",label='GPS Detection')\n",
    "plt.xlim([8166-250,8166+250])"
   ]
  },
  {
   "cell_type": "code",
   "execution_count": 27,
   "id": "77ab268c",
   "metadata": {},
   "outputs": [],
   "source": [
    "a = combined[list(combined.keys())[2]]\n",
    "key_list = list(combined.keys())\n",
    "for i in range(len(a)):\n",
    "    if a[i][0] == 0:\n",
    "        data_column_rows = df_BIT_GT[df_BIT_GT.tsCorrected == key_list[2]] \n",
    "        #key_list[0] will need to change when dealing with multiple time iterations. it should be the same as the \n",
    "        # number that is indexing a, at the top of this box\n",
    "        data_BIT = []\n",
    "        for index,row in data_column_rows.iterrows():\n",
    "            data_BIT.append([int(row['port'][-1]),row['sig']]) \n",
    "    if a[i][0] == 1:\n",
    "        data_column_rows = df_SE_Light_GT[df_SE_Light_GT.tsCorrected == key_list[2]]\n",
    "        data_SEL = []\n",
    "        for index,row in data_column_rows.iterrows():\n",
    "            data_SEL.append([int(row['port'][-1]),row['sig']])    \n",
    "    if a[i][0] == 2:\n",
    "        data_column_rows = df_BR_GT[df_BR_GT.tsCorrected == key_list[2]]\n",
    "        data_BR = []\n",
    "        for index,row in data_column_rows.iterrows():\n",
    "            data_BR.append([int(row['port'][-1]),row['sig']])"
   ]
  },
  {
   "cell_type": "code",
   "execution_count": 28,
   "id": "f49a77a6",
   "metadata": {},
   "outputs": [],
   "source": [
    "station_data_2 = [[data_BR,BRR_Station],[data_SEL,SEL_Station],[data_BIT,TUR_Station]]\n",
    "points_2,index_map_2 = montecarlo_intersection(station_data_2)"
   ]
  },
  {
   "cell_type": "code",
   "execution_count": 29,
   "id": "354fb99f",
   "metadata": {},
   "outputs": [],
   "source": [
    "XYZ_2 = points_2[index_map_2][:,:]"
   ]
  },
  {
   "cell_type": "code",
   "execution_count": 30,
   "id": "c4a76e6a",
   "metadata": {},
   "outputs": [
    {
     "data": {
      "text/plain": [
       "<matplotlib.collections.PathCollection at 0x7f74b7591630>"
      ]
     },
     "execution_count": 30,
     "metadata": {},
     "output_type": "execute_result"
    },
    {
     "data": {
      "image/png": "[encoded data removed]",
      "text/plain": [
       "<Figure size 432x288 with 1 Axes>"
      ]
     },
     "metadata": {
      "needs_background": "light"
     },
     "output_type": "display_data"
    }
   ],
   "source": [
    "plt.scatter(XY[:,0],XY[:,1])\n",
    "plt.scatter(XY_1[:,0],XY_1[:,1])\n",
    "plt.scatter(XYZ_2[:,0],XYZ_2[:,1])\n",
    "plt.scatter(8166,2276,color=\"black\",label='GPS Detection')\n"
   ]
  },
  {
   "cell_type": "code",
   "execution_count": 31,
   "id": "65df5642",
   "metadata": {},
   "outputs": [],
   "source": [
    "from scipy.spatial import KDTree\n",
    "\n",
    "def find_intersection_with_kdtree(point_cloud1, point_cloud2, tol=1e-6):\n",
    "    tree = KDTree(point_cloud2)\n",
    "    intersection = []\n",
    "    for point in point_cloud1:\n",
    "        if tree.query(point, distance_upper_bound=tol)[0] < tol:\n",
    "            intersection.append(point)\n",
    "    return np.array(intersection)\n",
    "\n",
    "# Example usage\n",
    "intersection_points_1 = find_intersection_with_kdtree(XYZ_2, intersection_points, tol=200)"
   ]
  },
  {
   "cell_type": "code",
   "execution_count": 32,
   "id": "40554c70",
   "metadata": {},
   "outputs": [
    {
     "data": {
      "text/plain": [
       "<matplotlib.collections.PathCollection at 0x7f74a742efe0>"
      ]
     },
     "execution_count": 32,
     "metadata": {},
     "output_type": "execute_result"
    },
    {
     "data": {
      "image/png": "[encoded data removed]",
      "text/plain": [
       "<Figure size 432x288 with 1 Axes>"
      ]
     },
     "metadata": {
      "needs_background": "light"
     },
     "output_type": "display_data"
    }
   ],
   "source": [
    "plt.scatter(intersection_points_1[:,0],intersection_points_1[:,1])\n",
    "plt.scatter(8166,2276,color=\"black\",label='GPS Detection')"
   ]
  },
  {
   "cell_type": "code",
   "execution_count": null,
   "id": "a70ce4b0",
   "metadata": {},
   "outputs": [],
   "source": []
  }
 ],
 "metadata": {
  "kernelspec": {
   "display_name": "Python 3 (ipykernel)",
   "language": "python",
   "name": "python3"
  },
  "language_info": {
   "codemirror_mode": {
    "name": "ipython",
    "version": 3
   },
   "file_extension": ".py",
   "mimetype": "text/x-python",
   "name": "python",
   "nbconvert_exporter": "python",
   "pygments_lexer": "ipython3",
   "version": "3.10.12"
  }
 },
 "nbformat": 4,
 "nbformat_minor": 5
}
