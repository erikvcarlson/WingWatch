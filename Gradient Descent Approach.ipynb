{
 "cells": [
  {
   "cell_type": "code",
   "execution_count": 1,
   "id": "7be7d765",
   "metadata": {},
   "outputs": [
    {
     "name": "stdout",
     "output_type": "stream",
     "text": [
      "1 added to Station_1's antennas.\n",
      "1 added to Station_2's antennas.\n",
      "1 added to Station_3's antennas.\n"
     ]
    }
   ],
   "source": [
    "from WingWatch.Intersections.detection import Detection\n",
    "from WingWatch.Intersections import tri\n",
    "import trimesh\n",
    "import pandas as pd\n",
    "import numpy as np\n",
    "import WingWatch.Intersections.physicalTrackLimiter as PTL\n",
    "from WingWatch.Equipment import station\n",
    "from WingWatch.Equipment import antenna\n",
    "from WingWatch.Tools import translation,spheres\n",
    "from WingWatch.Tools import point_check as pc\n",
    "import matplotlib.pyplot as plt\n",
    "import scipy.spatial as ss\n",
    "\n",
    "test_data_file = 'Fake_Calibration_Data.csv'\n",
    "df = pd.read_csv(test_data_file)\n",
    "\n",
    "\n",
    "Station_1 = station.Station('Station_1',41.1479, -71.5901)\n",
    "Station_1_Comp_Data = pd.read_csv(test_data_file)\n",
    "Station_2_pos = translation.convert_back_to_lla([0,-200,0],Station_1.lat,Station_1.long,Station_1.alt)\n",
    "Station_3_pos = translation.convert_back_to_lla([100*np.sqrt(3),-100,0],Station_1.lat,Station_1.long,Station_1.alt)\n",
    "\n",
    "\n",
    "freq_of_antenna_MHz = 434\n",
    "antenna_number = '1'\n",
    "antenna_type = 'test'\n",
    "bearing_of_antenna = 0 \n",
    "\n",
    "\n",
    "a1 = antenna.Antenna(antenna_number,antenna_type,bearing_of_antenna,freq_of_antenna_MHz)\n",
    "a1.assign_pattern(Station_1_Comp_Data)\n",
    "Station_1.add_antenna(a1)\n",
    "\n",
    "Station_2 = station.Station('Station_2',Station_2_pos[0], Station_2_pos[1])\n",
    "Station_2_Comp_Data = pd.read_csv(test_data_file)\n",
    "\n",
    "\n",
    "a1 = antenna.Antenna(antenna_number,antenna_type,bearing_of_antenna,freq_of_antenna_MHz)\n",
    "a1.assign_pattern(Station_2_Comp_Data)\n",
    "Station_2.add_antenna(a1)\n",
    "\n",
    "\n",
    "\n",
    "\n",
    "Station_3 = station.Station('Station_3',Station_3_pos[0], Station_3_pos[1])\n",
    "Station_3_Comp_Data = pd.read_csv(test_data_file)\n",
    "\n",
    "a1 = antenna.Antenna(antenna_number,antenna_type,bearing_of_antenna,freq_of_antenna_MHz)\n",
    "a1.assign_pattern(Station_3_Comp_Data)\n",
    "Station_3.add_antenna(a1)\n",
    "\n",
    "\n",
    "df_detections = pd.read_csv('straight_walk_Detections.csv')\n",
    "df_walk = pd.read_csv('straight_walk.csv')\n",
    "\n",
    "\n",
    "#first step, generate all of the single point detections\n",
    "g = 0 \n",
    "points_to_follow = []\n",
    "cx_cent = []\n",
    "cy_cent = []\n",
    "for i in range(len(df_detections['Station 1'])):\n",
    "    det1 = Detection(Station_1,df_detections['Station 1'][i],1)\n",
    "    det2 = Detection(Station_2,df_detections['Station 2'][i],1)\n",
    "    det3 = Detection(Station_3,df_detections['Station 3'][i],1)\n",
    "    data_to_send_through = [det1,det2,det3]\n",
    "    intersections,hull_of_intersections = tri.overlap_of_three_radiation_patterns(data_to_send_through)\n",
    "    points_to_follow.append(intersections)\n",
    "    cx = np.mean(hull_of_intersections.points[hull_of_intersections.vertices,0])\n",
    "    cy = np.mean(hull_of_intersections.points[hull_of_intersections.vertices,1])\n",
    "    cz = np.mean(hull_of_intersections.points[hull_of_intersections.vertices,2])\n",
    "    cx_cent.append(cx)\n",
    "    cy_cent.append(cy)\n",
    "    g += pc.point_in_hull(np.array([df_walk.iloc[i].X,df_walk.iloc[i].Y,df_walk.iloc[i].Z]),hull_of_intersections,tolerance=2.5)\n"
   ]
  },
  {
   "cell_type": "code",
   "execution_count": 32,
   "id": "ca6cf0fe",
   "metadata": {},
   "outputs": [
    {
     "data": {
      "text/plain": [
       "array([68.])"
      ]
     },
     "execution_count": 32,
     "metadata": {},
     "output_type": "execute_result"
    }
   ],
   "source": [
    "from sklearn.neighbors import KNeighborsRegressor\n",
    "\n",
    "\n",
    "#training_data\n",
    "Station_1_pos = [0,0,0]\n",
    "Station_2_pos = translation.XYZ_distance(Station_1.lat,Station_1.long,Station_1.alt,Station_2.lat,Station_2.long,Station_2.alt)\n",
    "Station_3_pos = translation.XYZ_distance(Station_1.lat,Station_1.long,Station_1.alt,Station_3.lat,Station_3.long,Station_3.alt)\n",
    "\n",
    "def get_rssi_at_pos(Station,Ant_Num,Offset,query_point):\n",
    "    data_1 = Station.antennas[Ant_Num-1].rad_pattern\n",
    "    \n",
    "    data_1['X'] = data_1['X'] + Offset[0]\n",
    "    \n",
    "    data_1['Y'] = data_1['Y'] + Offset[1]\n",
    "    \n",
    "    data_1['Z'] = data_1['Z'] + Offset[2]\n",
    "    \n",
    "    data_1 = data_1.to_numpy()\n",
    "    \n",
    "    \n",
    "    coordinates = data_1[:, :3]  # First three columns are X, Y, Z\n",
    "    rssi_values = data_1[:, 3]   # Fourth column is RSSI\n",
    "    \n",
    "    k = 3  # Choose the number of neighbors\n",
    "    knn = KNeighborsRegressor(n_neighbors=k, weights='distance')  # Weighted by inverse distance\n",
    "    knn.fit(coordinates, rssi_values)\n",
    "    \n",
    "    predicted_rssi = knn.predict(query_point)\n",
    "\n",
    "    return predicted_rssi\n",
    "\n",
    "\n",
    "\n",
    "get_rssi_at_pos(Station_1,1,np.array([0,0,0]),np.array([[3.5, 4.5, 5.5]]))\n",
    "get_rssi_at_pos(Station_2,1,np.array(Station_2_pos),np.array([[3.5, 4.5, 5.5]]))\n",
    "get_rssi_at_pos(Station_3,1,np.array(Station_3_pos),np.array([[3.5, 4.5, 5.5]]))\n",
    "\n"
   ]
  },
  {
   "cell_type": "code",
   "execution_count": null,
   "id": "d29c6829",
   "metadata": {},
   "outputs": [
    {
     "name": "stdout",
     "output_type": "stream",
     "text": [
      "0\n",
      "1\n",
      "2\n",
      "3\n",
      "4\n",
      "5\n",
      "6\n",
      "7\n",
      "8\n",
      "9\n",
      "10\n"
     ]
    }
   ],
   "source": [
    "learning_rate = 10\n",
    "iterations = 20\n",
    "\n",
    "\n",
    "antennas = [np.array(Station_1_pos),np.array(Station_2_pos),np.array(Station_3_pos)]\n",
    "\n",
    "\n",
    "def gradient_descent(antennas, actual_rssi, initial_position, learning_rate, iterations):\n",
    "    position = initial_position\n",
    "    for j in range(iterations):\n",
    "        # Calculate predicted RSSI at the current position\n",
    "        print(j)\n",
    "        \n",
    "        rssi_1 = get_rssi_at_pos(Station_1,1,np.array([0,0,0]),np.array([position]))\n",
    "        rssi_2 = get_rssi_at_pos(Station_2,1,np.array(Station_2_pos),np.array([position]))\n",
    "        rssi_3 = get_rssi_at_pos(Station_3,1,np.array(Station_3_pos),np.array([position]))\n",
    "        \n",
    "        predicted_rssi = np.array([rssi_1,rssi_2,rssi_3])\n",
    "        \n",
    "        # Compute the error (cost) between actual and predicted RSSI\n",
    "        error = predicted_rssi - actual_rssi\n",
    "        \n",
    "        # Gradient calculation (derivative of cost function with respect to position)\n",
    "        gradient = np.zeros(3)\n",
    "        for i in range(len(antennas)):\n",
    "            # Derivative of RSSI w.r.t. position (x, y, z)\n",
    "            distance = np.linalg.norm(antennas[i] - position)\n",
    "            direction = (position - antennas[i]) / (distance + 1e-6)\n",
    "            gradient += 2 * error[i] * direction / (distance + 1e-6)\n",
    "        \n",
    "        # Update the position of the test point\n",
    "        position -= learning_rate * gradient\n",
    "        \n",
    "    return position\n",
    "\n",
    "\n",
    "optimized_position = gradient_descent(antennas, np.array([det1.rssi,det2.rssi,det3.rssi]), [cx,cy,cz], learning_rate, iterations)\n",
    "\n",
    "\n"
   ]
  },
  {
   "cell_type": "code",
   "execution_count": 46,
   "id": "237325af",
   "metadata": {},
   "outputs": [
    {
     "data": {
      "text/plain": [
       "array([102.60728878, -99.76161168,   0.41175213])"
      ]
     },
     "execution_count": 46,
     "metadata": {},
     "output_type": "execute_result"
    }
   ],
   "source": [
    "optimized_position"
   ]
  },
  {
   "cell_type": "code",
   "execution_count": 49,
   "id": "bd02ac87",
   "metadata": {},
   "outputs": [
    {
     "data": {
      "text/plain": [
       "<matplotlib.collections.PathCollection at 0x78137fe90290>"
      ]
     },
     "execution_count": 49,
     "metadata": {},
     "output_type": "execute_result"
    },
    {
     "data": {
      "image/png": "[encoded data removed]",
      "text/plain": [
       "<Figure size 640x480 with 1 Axes>"
      ]
     },
     "metadata": {},
     "output_type": "display_data"
    }
   ],
   "source": [
    "plt.scatter(cx_cent,cy_cent)\n",
    "plt.scatter(df_walk.X,df_walk.Y)\n",
    "plt.scatter(optimized_position[0],optimized_position[1])"
   ]
  },
  {
   "cell_type": "code",
   "execution_count": 9,
   "id": "5ce6b6ec",
   "metadata": {},
   "outputs": [
    {
     "name": "stdout",
     "output_type": "stream",
     "text": [
      "Defaulting to user installation because normal site-packages is not writeable\n",
      "Collecting scikit-learn\n",
      "  Downloading scikit_learn-1.5.2-cp312-cp312-manylinux_2_17_x86_64.manylinux2014_x86_64.whl.metadata (13 kB)\n",
      "Requirement already satisfied: numpy>=1.19.5 in /home/main/.local/lib/python3.12/site-packages (from scikit-learn) (1.26.0)\n",
      "Requirement already satisfied: scipy>=1.6.0 in /home/main/.local/lib/python3.12/site-packages (from scikit-learn) (1.13.1)\n",
      "Collecting joblib>=1.2.0 (from scikit-learn)\n",
      "  Downloading joblib-1.4.2-py3-none-any.whl.metadata (5.4 kB)\n",
      "Collecting threadpoolctl>=3.1.0 (from scikit-learn)\n",
      "  Downloading threadpoolctl-3.5.0-py3-none-any.whl.metadata (13 kB)\n",
      "Downloading scikit_learn-1.5.2-cp312-cp312-manylinux_2_17_x86_64.manylinux2014_x86_64.whl (12.9 MB)\n",
      "\u001b[2K   \u001b[38;2;114;156;31m━━━━━━━━━━━━━━━━━━━━━━━━━━━━━━━━━━━━━━━━\u001b[0m \u001b[32m12.9/12.9 MB\u001b[0m \u001b[31m79.4 MB/s\u001b[0m eta \u001b[36m0:00:00\u001b[0m31m95.1 MB/s\u001b[0m eta \u001b[36m0:00:01\u001b[0m\n",
      "\u001b[?25hDownloading joblib-1.4.2-py3-none-any.whl (301 kB)\n",
      "\u001b[2K   \u001b[38;2;114;156;31m━━━━━━━━━━━━━━━━━━━━━━━━━━━━━━━━━━━━━━━━\u001b[0m \u001b[32m301.8/301.8 kB\u001b[0m \u001b[31m68.6 MB/s\u001b[0m eta \u001b[36m0:00:00\u001b[0m\n",
      "\u001b[?25hDownloading threadpoolctl-3.5.0-py3-none-any.whl (18 kB)\n",
      "Installing collected packages: threadpoolctl, joblib, scikit-learn\n",
      "Successfully installed joblib-1.4.2 scikit-learn-1.5.2 threadpoolctl-3.5.0\n",
      "Note: you may need to restart the kernel to use updated packages.\n"
     ]
    }
   ],
   "source": [
    "pip install scikit-learn"
   ]
  },
  {
   "cell_type": "code",
   "execution_count": null,
   "id": "adb5ca00",
   "metadata": {},
   "outputs": [],
   "source": []
  }
 ],
 "metadata": {
  "kernelspec": {
   "display_name": "Python 3 (ipykernel)",
   "language": "python",
   "name": "python3"
  },
  "language_info": {
   "codemirror_mode": {
    "name": "ipython",
    "version": 3
   },
   "file_extension": ".py",
   "mimetype": "text/x-python",
   "name": "python",
   "nbconvert_exporter": "python",
   "pygments_lexer": "ipython3",
   "version": "3.12.3"
  }
 },
 "nbformat": 4,
 "nbformat_minor": 5
}
