{
 "cells": [
  {
   "cell_type": "code",
   "execution_count": 1,
   "id": "d7c28cc9",
   "metadata": {},
   "outputs": [
    {
     "name": "stdout",
     "output_type": "stream",
     "text": [
      "1 added to Station_1's antennas.\n",
      "1 added to Station_2's antennas.\n",
      "1 added to Station_3's antennas.\n"
     ]
    }
   ],
   "source": [
    "from WingWatch.Intersections.detection import Detection\n",
    "from WingWatch.Intersections import tri\n",
    "import trimesh\n",
    "import pandas as pd\n",
    "import numpy as np\n",
    "import WingWatch.Intersections.physicalTrackLimiter as PTL\n",
    "from WingWatch.Equipment import station\n",
    "from WingWatch.Equipment import antenna\n",
    "from WingWatch.Tools import translation,spheres\n",
    "from WingWatch.Tools import point_check as pc\n",
    "import matplotlib.pyplot as plt\n",
    "import scipy.spatial as ss\n",
    "\n",
    "test_data_file = 'Fake_Calibration_Data.csv'\n",
    "df = pd.read_csv(test_data_file)\n",
    "\n",
    "\n",
    "Station_1 = station.Station('Station_1',41.1479, -71.5901)\n",
    "Station_1_Comp_Data = pd.read_csv(test_data_file)\n",
    "Station_2_pos = translation.convert_back_to_lla([0,-200,0],Station_1.lat,Station_1.long,Station_1.alt)\n",
    "Station_3_pos = translation.convert_back_to_lla([100*np.sqrt(3),-100,0],Station_1.lat,Station_1.long,Station_1.alt)\n",
    "\n",
    "\n",
    "freq_of_antenna_MHz = 434\n",
    "antenna_number = '1'\n",
    "antenna_type = 'test'\n",
    "bearing_of_antenna = 0 \n",
    "\n",
    "\n",
    "a1 = antenna.Antenna(antenna_number,antenna_type,bearing_of_antenna,freq_of_antenna_MHz)\n",
    "a1.assign_pattern(Station_1_Comp_Data)\n",
    "Station_1.add_antenna(a1)\n",
    "\n",
    "Station_2 = station.Station('Station_2',Station_2_pos[0], Station_2_pos[1])\n",
    "Station_2_Comp_Data = pd.read_csv(test_data_file)\n",
    "\n",
    "\n",
    "a1 = antenna.Antenna(antenna_number,antenna_type,bearing_of_antenna,freq_of_antenna_MHz)\n",
    "a1.assign_pattern(Station_2_Comp_Data)\n",
    "Station_2.add_antenna(a1)\n",
    "\n",
    "\n",
    "\n",
    "\n",
    "Station_3 = station.Station('Station_3',Station_3_pos[0], Station_3_pos[1])\n",
    "Station_3_Comp_Data = pd.read_csv(test_data_file)\n",
    "\n",
    "a1 = antenna.Antenna(antenna_number,antenna_type,bearing_of_antenna,freq_of_antenna_MHz)\n",
    "a1.assign_pattern(Station_3_Comp_Data)\n",
    "Station_3.add_antenna(a1)\n",
    "\n",
    "\n",
    "df_detections = pd.read_csv('straight_walk_Detections.csv')\n",
    "df_walk = pd.read_csv('straight_walk.csv')\n",
    "\n",
    "\n",
    "#first step, generate all of the single point detections\n",
    "g = 0 \n",
    "points_to_follow = []\n",
    "cx_cent = []\n",
    "cy_cent = []\n",
    "for i in range(len(df_detections['Station 1'])):\n",
    "    det1 = Detection(Station_1,df_detections['Station 1'][i],1)\n",
    "    det2 = Detection(Station_2,df_detections['Station 2'][i],1)\n",
    "    det3 = Detection(Station_3,df_detections['Station 3'][i],1)\n",
    "    data_to_send_through = [det1,det2,det3]\n",
    "    intersections,hull_of_intersections = tri.overlap_of_three_radiation_patterns(data_to_send_through)\n",
    "    points_to_follow.append(intersections)\n",
    "    cx = np.mean(hull_of_intersections.points[hull_of_intersections.vertices,0])\n",
    "    cy = np.mean(hull_of_intersections.points[hull_of_intersections.vertices,1])\n",
    "    cz = np.mean(hull_of_intersections.points[hull_of_intersections.vertices,2])\n",
    "    cx_cent.append(cx)\n",
    "    cy_cent.append(cy)\n",
    "    g += pc.point_in_hull(np.array([df_walk.iloc[i].X,df_walk.iloc[i].Y,df_walk.iloc[i].Z]),hull_of_intersections,tolerance=2.5)\n"
   ]
  },
  {
   "cell_type": "code",
   "execution_count": 2,
   "id": "2f1d2345",
   "metadata": {},
   "outputs": [
    {
     "data": {
      "text/plain": [
       "TrackedArray([[  72.76016235, -133.3500061 ,    0.        ],\n",
       "              [  73.07003021, -133.24713135,   10.18157482],\n",
       "              [  75.10327911, -139.7170105 ,    0.        ],\n",
       "              ...,\n",
       "              [ 121.96375275, -126.9393158 ,   88.77028656],\n",
       "              [ 120.93894958, -125.17004395,   88.70290375],\n",
       "              [ 122.80198669, -128.38648987,   88.82539368]])"
      ]
     },
     "execution_count": 2,
     "metadata": {},
     "output_type": "execute_result"
    }
   ],
   "source": [
    "intersections"
   ]
  },
  {
   "cell_type": "code",
   "execution_count": 3,
   "id": "b6f2b50e",
   "metadata": {},
   "outputs": [
    {
     "data": {
      "text/plain": [
       "np.float64(70.0)"
      ]
     },
     "execution_count": 3,
     "metadata": {},
     "output_type": "execute_result"
    }
   ],
   "source": [
    "det1.rssi"
   ]
  },
  {
   "cell_type": "code",
   "execution_count": 4,
   "id": "1914c58c",
   "metadata": {},
   "outputs": [],
   "source": [
    "from scipy.spatial.distance import cdist\n",
    "\n",
    "def calculate_weights(det1,det2,det3,Station1,Station2,Station3,intersections):\n",
    "\n",
    "    det1_ss = det1.rssi\n",
    "    det2_ss = det2.rssi\n",
    "    det3_ss = det3.rssi\n",
    "\n",
    "    Station_2_pos = translation.XYZ_distance(Station_1.lat,Station_1.long,Station_1.alt,Station_2.lat,Station_2.long,Station_2.alt)\n",
    "    Station_3_pos = translation.XYZ_distance(Station_1.lat,Station_1.long,Station_1.alt,Station_3.lat,Station_3.long,Station_3.alt)\n",
    "    rss_combined = np.zeros(len(intersections))\n",
    "\n",
    "\n",
    "    for i,point in enumerate(intersections):\n",
    "            distances1 = cdist([point], [[0,0,0]])[0]\n",
    "            distances2 = cdist([point], [Station_2_pos])[0]\n",
    "            distances3 = cdist([point], [Station_3_pos])[0]\n",
    "\n",
    "            # Weight inversely proportional to distance\n",
    "            weights1 = det1_ss / (distances1**2 + 1e-6)\n",
    "            weights2 = det2_ss / (distances2**2 + 1e-6)\n",
    "            weights3 = det3_ss / (distances3**2 + 1e-6)\n",
    "            rss_combined[i] = np.sum(weights1) + np.sum(weights2) + np.sum(weights3)\n",
    "\n",
    "    return rss_combined"
   ]
  },
  {
   "cell_type": "code",
   "execution_count": 5,
   "id": "e1369252",
   "metadata": {},
   "outputs": [],
   "source": [
    "def weighted_centroid_3d(vertices, weights):\n",
    "    \"\"\"\n",
    "    Calculate the weighted center of a 3D hull.\n",
    "\n",
    "    Parameters:\n",
    "        vertices (list of tuples): List of (x, y, z) coordinates for each vertex.\n",
    "        weights (list of floats): List of weights for each vertex.\n",
    "\n",
    "    Returns:\n",
    "        tuple: The (x, y, z) coordinates of the weighted centroid.\n",
    "    \"\"\"\n",
    "    if len(vertices) != len(weights):\n",
    "        raise ValueError(\"Number of vertices and weights must be the same.\")\n",
    "    \n",
    "    total_weight = sum(weights)\n",
    "    if total_weight == 0:\n",
    "        raise ValueError(\"Total weight must not be zero.\")\n",
    "    \n",
    "    x_c = sum(w * x for (x, y, z), w in zip(vertices, weights)) / total_weight\n",
    "    y_c = sum(w * y for (x, y, z), w in zip(vertices, weights)) / total_weight\n",
    "    z_c = sum(w * z for (x, y, z), w in zip(vertices, weights)) / total_weight\n",
    "    \n",
    "    return [x_c, y_c, z_c]\n",
    "\n",
    "# Example usage\n",
    "vertices = [(0, 0, 0), (1, 0, 0), (0, 1, 0), (0, 0, 1), (1, 1, 1)]\n",
    "weights = [1, 2, 3, 4, 5]\n",
    "\n",
    "#centroid = weighted_centroid_3d(intersections, rss_combined)\n",
    "#print(\"Weighted centroid in 3D:\", centroid)\n"
   ]
  },
  {
   "cell_type": "code",
   "execution_count": 6,
   "id": "6475d9ed",
   "metadata": {},
   "outputs": [],
   "source": [
    "#first step, generate all of the single point detections\n",
    "g = 0 \n",
    "points_to_follow = []\n",
    "cx_cent_new = []\n",
    "cy_cent_new = []\n",
    "\n",
    "for i in range(len(df_detections['Station 1'])):\n",
    "    det1 = Detection(Station_1,df_detections['Station 1'][i],1)\n",
    "    det2 = Detection(Station_2,df_detections['Station 2'][i],1)\n",
    "    det3 = Detection(Station_3,df_detections['Station 3'][i],1)\n",
    "    data_to_send_through = [det1,det2,det3]\n",
    "    intersections,hull_of_intersections = tri.overlap_of_three_radiation_patterns(data_to_send_through)\n",
    "    points_to_follow.append(intersections)\n",
    "    rss_combined = calculate_weights(det1,det2,det3,Station_1,Station_2,Station_3,intersections)\n",
    "    centroid = weighted_centroid_3d(intersections, rss_combined)\n",
    "    cx = centroid[0]\n",
    "    cy = centroid[1]\n",
    "    cz = centroid[2]\n",
    "    \n",
    "    cx_cent_new.append(cx)\n",
    "    cy_cent_new.append(cy)\n",
    "    g += pc.point_in_hull(np.array([df_walk.iloc[i].X,df_walk.iloc[i].Y,df_walk.iloc[i].Z]),hull_of_intersections,tolerance=2.5)\n"
   ]
  },
  {
   "cell_type": "code",
   "execution_count": 7,
   "id": "0fc64bb2",
   "metadata": {},
   "outputs": [
    {
     "data": {
      "text/plain": [
       "<matplotlib.collections.PathCollection at 0x15aa36870>"
      ]
     },
     "execution_count": 7,
     "metadata": {},
     "output_type": "execute_result"
    },
    {
     "data": {
      "image/png": "[encoded data removed]",
      "text/plain": [
       "<Figure size 640x480 with 1 Axes>"
      ]
     },
     "metadata": {},
     "output_type": "display_data"
    }
   ],
   "source": [
    "\n",
    "\n",
    "plt.scatter(cx_cent_new,cy_cent_new)\n",
    "plt.scatter(cx_cent,cy_cent)\n",
    "\n",
    "plt.scatter(df_walk.X,df_walk.Y)"
   ]
  },
  {
   "cell_type": "code",
   "execution_count": 8,
   "id": "91ab8ba8",
   "metadata": {},
   "outputs": [
    {
     "data": {
      "text/plain": [
       "[np.float64(114.12222715967584),\n",
       " np.float64(-128.09631870648056),\n",
       " np.float64(37.533343204617424)]"
      ]
     },
     "execution_count": 8,
     "metadata": {},
     "output_type": "execute_result"
    }
   ],
   "source": [
    "centroid"
   ]
  },
  {
   "cell_type": "code",
   "execution_count": null,
   "id": "37a0d0b3",
   "metadata": {},
   "outputs": [],
   "source": []
  }
 ],
 "metadata": {
  "kernelspec": {
   "display_name": "Python 3 (ipykernel)",
   "language": "python",
   "name": "python3"
  },
  "language_info": {
   "codemirror_mode": {
    "name": "ipython",
    "version": 3
   },
   "file_extension": ".py",
   "mimetype": "text/x-python",
   "name": "python",
   "nbconvert_exporter": "python",
   "pygments_lexer": "ipython3",
   "version": "3.12.7"
  }
 },
 "nbformat": 4,
 "nbformat_minor": 5
}
